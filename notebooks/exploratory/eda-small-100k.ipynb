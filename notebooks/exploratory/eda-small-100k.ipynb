{
 "cells": [
  {
   "cell_type": "markdown",
   "metadata": {},
   "source": [
    "# Project Overview"
   ]
  },
  {
   "cell_type": "markdown",
   "metadata": {},
   "source": [
    "<b>Competition Description from Kaggle:</b>\n",
    "\n",
    "Think back to your favorite teacher. They motivated and inspired you to learn. And they knew your strengths and weaknesses. The lessons they taught were based on your ability. For example, teachers would make sure you understood algebra before advancing to calculus. Yet, many students don’t have access to personalized learning. In a world full of information, data scientists like you can help. Machine learning can offer a path to success for young people around the world, and you are invited to be part of this mission.\n",
    "\n",
    "\n",
    "\n",
    "In 2018, 260 million children weren't attending school. At the same time, more than half of these young students didn't meet minimum reading and math standards. Education was already in a tough place when COVID-19 forced most countries to temporarily close schools. This further delayed learning opportunities and intellectual development. The equity gaps in every country could grow wider. We need to re-think the current education system in terms of attendance, engagement, and individualized attention.\n",
    "\n",
    "Riiid Labs, an AI solutions provider delivering creative disruption to the education market, empowers global education players to rethink traditional ways of learning leveraging AI. With a strong belief in equal opportunity in education, Riiid launched an AI tutor based on deep-learning algorithms in 2017 that attracted more than one million South Korean students. This year, the company released EdNet, the world’s largest open database for AI education containing more than 100 million student interactions.\n",
    "\n",
    "In this competition, your challenge is to create algorithms for \"Knowledge Tracing,\" the modeling of student knowledge over time. The goal is to accurately predict how students will perform on future interactions. You will pair your machine learning skills using Riiid’s EdNet data.\n",
    "\n",
    "Your innovative algorithms will help tackle global challenges in education. If successful, it’s possible that any student with an Internet connection can enjoy the benefits of a personalized learning experience, regardless of where they live. With your participation, we can build a better and more equitable model for education in a post-COVID-19 world."
   ]
  },
  {
   "cell_type": "markdown",
   "metadata": {},
   "source": [
    "<b>Elevator Pitch</b>\n",
    "\n",
    "The goal of this project is to predict how students will perform on future interactions with an AI tutor developed at Riiid Labs. AI solutions can change the current education system in terms of attendance, engagement, and individualized attention. It's especially relevant now in times of COVID as many schools have shutdown and switched to remote learning. If successful, AI could provide more equal opportunity in education to anyone with an internet connection. My model should help predict and guide the success of the AI tutor. I will be doing analytics on past student performance and predict if the student will get future questions right, wrong, or leave it blank.\n",
    "\n",
    "8 features\n",
    "- timestamp                         int64\n",
    "- user_id                           int64\n",
    "- content_id                        int64\n",
    "- content_type_id                   int64\n",
    "- task_container_id                 int64\n",
    "- user_answer                       int64\n",
    "- prior_question_elapsed_time       float64\n",
    "- prior_question_had_explanation    object\n",
    "\n",
    "1 target\n",
    "- answered_correctly                int64\n",
    "- -1(did not answer), 0 (answered incorrectly), 1(answered correctly)"
   ]
  },
  {
   "cell_type": "markdown",
   "metadata": {},
   "source": [
    "# Import Libraries"
   ]
  },
  {
   "cell_type": "code",
   "execution_count": 1,
   "metadata": {
    "ExecuteTime": {
     "end_time": "2020-11-24T06:46:40.455856Z",
     "start_time": "2020-11-24T06:46:36.885615Z"
    }
   },
   "outputs": [],
   "source": [
    "import warnings\n",
    "warnings.filterwarnings('ignore')\n",
    "\n",
    "import zipfile\n",
    "import psycopg2\n",
    "import pandas as pd\n",
    "import numpy as np\n",
    "import matplotlib.pyplot as plt\n",
    "from matplotlib import ticker\n",
    "import seaborn as sns\n",
    "\n",
    "from sklearn.model_selection import train_test_split, cross_val_score, GridSearchCV, ParameterGrid\n",
    "from sklearn.pipeline import Pipeline\n",
    "from sklearn.compose import ColumnTransformer\n",
    "from sklearn.impute import SimpleImputer\n",
    "from sklearn.preprocessing import StandardScaler, OneHotEncoder\n",
    "\n",
    "from sklearn.metrics import classification_report, confusion_matrix, plot_confusion_matrix\n",
    "from imblearn.over_sampling import SMOTE\n",
    "from sklearn.linear_model import LogisticRegression\n",
    "\n",
    "from sklearn.neighbors import KNeighborsClassifier\n",
    "from sklearn.svm import SVC\n",
    "from sklearn.ensemble import RandomForestClassifier, AdaBoostClassifier\n",
    "from xgboost import XGBClassifier\n",
    "from lightgbm import LGBMClassifier\n",
    "\n",
    "from dask.distributed import Client, LocalCluster\n",
    "import joblib"
   ]
  },
  {
   "cell_type": "code",
   "execution_count": 2,
   "metadata": {
    "ExecuteTime": {
     "end_time": "2020-11-24T06:46:42.685737Z",
     "start_time": "2020-11-24T06:46:40.457842Z"
    }
   },
   "outputs": [],
   "source": [
    "cluster = LocalCluster()\n",
    "client = Client(cluster) # start a local Dask client"
   ]
  },
  {
   "cell_type": "code",
   "execution_count": 3,
   "metadata": {
    "ExecuteTime": {
     "end_time": "2020-11-24T06:46:42.775744Z",
     "start_time": "2020-11-24T06:46:42.687737Z"
    }
   },
   "outputs": [
    {
     "data": {
      "application/vnd.jupyter.widget-view+json": {
       "model_id": "287a4cdfe31646fc8ee3fc9256c609e3",
       "version_major": 2,
       "version_minor": 0
      },
      "text/plain": [
       "VBox(children=(HTML(value='<h2>LocalCluster</h2>'), HBox(children=(HTML(value='\\n<div>\\n  <style scoped>\\n    …"
      ]
     },
     "metadata": {},
     "output_type": "display_data"
    }
   ],
   "source": [
    "cluster"
   ]
  },
  {
   "cell_type": "markdown",
   "metadata": {},
   "source": [
    "# Data"
   ]
  },
  {
   "cell_type": "markdown",
   "metadata": {},
   "source": [
    "#### Import Data"
   ]
  },
  {
   "cell_type": "code",
   "execution_count": 4,
   "metadata": {
    "ExecuteTime": {
     "end_time": "2020-11-24T06:46:42.839760Z",
     "start_time": "2020-11-24T06:46:42.777733Z"
    }
   },
   "outputs": [],
   "source": [
    "# Connect to the PostgreSQL database riiid_education we created previously\n",
    "# Note: Run create SQL database notebook if database not created\n",
    "DBNAME = \"riiid_education\"\n",
    "conn = psycopg2.connect(dbname=DBNAME)\n",
    "cursor = conn.cursor()"
   ]
  },
  {
   "cell_type": "code",
   "execution_count": 5,
   "metadata": {
    "ExecuteTime": {
     "end_time": "2020-11-24T06:46:42.871136Z",
     "start_time": "2020-11-24T06:46:42.843732Z"
    }
   },
   "outputs": [
    {
     "data": {
      "text/plain": [
       "['train', 'questions', 'lectures', 'example_test']"
      ]
     },
     "execution_count": 5,
     "metadata": {},
     "output_type": "execute_result"
    }
   ],
   "source": [
    "#create a list of the table names\n",
    "cursor.execute(\"\"\"SELECT table_name FROM information_schema.tables\n",
    "       WHERE table_schema = 'public'\"\"\")\n",
    "tables = []\n",
    "for table in cursor.fetchall():\n",
    "    tables.append(table[0])\n",
    "tables"
   ]
  },
  {
   "cell_type": "code",
   "execution_count": 6,
   "metadata": {
    "ExecuteTime": {
     "end_time": "2020-11-24T06:47:45.106282Z",
     "start_time": "2020-11-24T06:46:42.875136Z"
    }
   },
   "outputs": [],
   "source": [
    "train = pd.read_csv('../../data/train.csv')\n",
    "# train = pd.read_sql(\"\"\"SELECT * \n",
    "# FROM train;\"\"\", conn)\n",
    "questions = pd.read_sql(\"SELECT * FROM questions;\", conn)\n",
    "lectures = pd.read_sql(\"SELECT * FROM lectures;\", conn)"
   ]
  },
  {
   "cell_type": "markdown",
   "metadata": {},
   "source": [
    "### Explore Data"
   ]
  },
  {
   "cell_type": "code",
   "execution_count": 7,
   "metadata": {
    "ExecuteTime": {
     "end_time": "2020-11-24T06:47:45.154280Z",
     "start_time": "2020-11-24T06:47:45.108281Z"
    }
   },
   "outputs": [
    {
     "data": {
      "text/html": [
       "<div>\n",
       "<style scoped>\n",
       "    .dataframe tbody tr th:only-of-type {\n",
       "        vertical-align: middle;\n",
       "    }\n",
       "\n",
       "    .dataframe tbody tr th {\n",
       "        vertical-align: top;\n",
       "    }\n",
       "\n",
       "    .dataframe thead th {\n",
       "        text-align: right;\n",
       "    }\n",
       "</style>\n",
       "<table border=\"1\" class=\"dataframe\">\n",
       "  <thead>\n",
       "    <tr style=\"text-align: right;\">\n",
       "      <th></th>\n",
       "      <th>row_id</th>\n",
       "      <th>timestamp</th>\n",
       "      <th>user_id</th>\n",
       "      <th>content_id</th>\n",
       "      <th>content_type_id</th>\n",
       "      <th>task_container_id</th>\n",
       "      <th>user_answer</th>\n",
       "      <th>answered_correctly</th>\n",
       "      <th>prior_question_elapsed_time</th>\n",
       "      <th>prior_question_had_explanation</th>\n",
       "    </tr>\n",
       "  </thead>\n",
       "  <tbody>\n",
       "    <tr>\n",
       "      <th>0</th>\n",
       "      <td>0</td>\n",
       "      <td>0</td>\n",
       "      <td>115</td>\n",
       "      <td>5692</td>\n",
       "      <td>0</td>\n",
       "      <td>1</td>\n",
       "      <td>3</td>\n",
       "      <td>1</td>\n",
       "      <td>NaN</td>\n",
       "      <td>NaN</td>\n",
       "    </tr>\n",
       "    <tr>\n",
       "      <th>1</th>\n",
       "      <td>1</td>\n",
       "      <td>56943</td>\n",
       "      <td>115</td>\n",
       "      <td>5716</td>\n",
       "      <td>0</td>\n",
       "      <td>2</td>\n",
       "      <td>2</td>\n",
       "      <td>1</td>\n",
       "      <td>37000.0</td>\n",
       "      <td>False</td>\n",
       "    </tr>\n",
       "    <tr>\n",
       "      <th>2</th>\n",
       "      <td>2</td>\n",
       "      <td>118363</td>\n",
       "      <td>115</td>\n",
       "      <td>128</td>\n",
       "      <td>0</td>\n",
       "      <td>0</td>\n",
       "      <td>0</td>\n",
       "      <td>1</td>\n",
       "      <td>55000.0</td>\n",
       "      <td>False</td>\n",
       "    </tr>\n",
       "    <tr>\n",
       "      <th>3</th>\n",
       "      <td>3</td>\n",
       "      <td>131167</td>\n",
       "      <td>115</td>\n",
       "      <td>7860</td>\n",
       "      <td>0</td>\n",
       "      <td>3</td>\n",
       "      <td>0</td>\n",
       "      <td>1</td>\n",
       "      <td>19000.0</td>\n",
       "      <td>False</td>\n",
       "    </tr>\n",
       "    <tr>\n",
       "      <th>4</th>\n",
       "      <td>4</td>\n",
       "      <td>137965</td>\n",
       "      <td>115</td>\n",
       "      <td>7922</td>\n",
       "      <td>0</td>\n",
       "      <td>4</td>\n",
       "      <td>1</td>\n",
       "      <td>1</td>\n",
       "      <td>11000.0</td>\n",
       "      <td>False</td>\n",
       "    </tr>\n",
       "  </tbody>\n",
       "</table>\n",
       "</div>"
      ],
      "text/plain": [
       "   row_id  timestamp  user_id  content_id  content_type_id  task_container_id  \\\n",
       "0       0          0      115        5692                0                  1   \n",
       "1       1      56943      115        5716                0                  2   \n",
       "2       2     118363      115         128                0                  0   \n",
       "3       3     131167      115        7860                0                  3   \n",
       "4       4     137965      115        7922                0                  4   \n",
       "\n",
       "   user_answer  answered_correctly  prior_question_elapsed_time  \\\n",
       "0            3                   1                          NaN   \n",
       "1            2                   1                      37000.0   \n",
       "2            0                   1                      55000.0   \n",
       "3            0                   1                      19000.0   \n",
       "4            1                   1                      11000.0   \n",
       "\n",
       "  prior_question_had_explanation  \n",
       "0                            NaN  \n",
       "1                          False  \n",
       "2                          False  \n",
       "3                          False  \n",
       "4                          False  "
      ]
     },
     "execution_count": 7,
     "metadata": {},
     "output_type": "execute_result"
    }
   ],
   "source": [
    "train.head()"
   ]
  },
  {
   "cell_type": "markdown",
   "metadata": {},
   "source": [
    "<b>Description of Features in Train</b>\n",
    "\n",
    "`row_id` - ID for the row.\n",
    "\n",
    "`timestamp` - the time between this user interaction and the first event from that user.\n",
    "\n",
    "`user_id` - ID for the user.\n",
    "\n",
    "`content_id` - ID for the user interaction\n",
    "\n",
    "`content_type_id` - 0 if the event was a question being posed to the user, 1 if the event was the user watching a lecture. Every row with 1 has an answered_correctly value of not answered(-1). Filtering out all rows with content id 1 filters out all the unanswered questions. This is the culprit of our 100% predictions on unanswered.\n",
    "\n",
    "`task_container_id` - Id code for the batch of questions or lectures. For example, a user might see three questions in a row before seeing the explanations for any of them. Those three would all share a task_container_id. Monotonically increasing for each user.\n",
    "\n",
    "`user_answer` - the user's answer to the question, if any. Read -1 as null, for lectures.\n",
    "\n",
    "`answered_correctly` - if the user responded correctly. Read -1 as null, for lectures.\n",
    "\n",
    "`prior_question_elapsed_time` - How long it took a user to answer their previous question bundle, ignoring any lectures in between. The value is shared across a single question bundle, and is null for a user's first question bundle or lecture. Note that the time is the total time a user took to solve all the questions in the previous bundle.\n",
    "\n",
    "`prior_question_had_explanation` - Whether or not the user saw an explanation and the correct response(s) after answering the previous question bundle, ignoring any lectures in between. The value is shared across a single question bundle, and is null for a user's first question bundle or lecture. Typically the first several questions a user sees were part of an onboarding diagnostic test where they did not get any feedback."
   ]
  },
  {
   "cell_type": "code",
   "execution_count": 8,
   "metadata": {
    "ExecuteTime": {
     "end_time": "2020-11-24T06:47:45.173280Z",
     "start_time": "2020-11-24T06:47:45.156280Z"
    }
   },
   "outputs": [
    {
     "data": {
      "text/plain": [
       "(101230332, 10)"
      ]
     },
     "execution_count": 8,
     "metadata": {},
     "output_type": "execute_result"
    }
   ],
   "source": [
    "train.shape\n",
    "# 101,230,332 rows"
   ]
  },
  {
   "cell_type": "code",
   "execution_count": 9,
   "metadata": {
    "ExecuteTime": {
     "end_time": "2020-11-24T06:48:20.906192Z",
     "start_time": "2020-11-24T06:47:45.175280Z"
    },
    "scrolled": true
   },
   "outputs": [
    {
     "name": "stdout",
     "output_type": "stream",
     "text": [
      "Count of unique values in each column\n",
      "row_id: 101230332\n",
      "timestamp: 72821015\n",
      "user_id: 393656\n",
      "content_id: 13782\n",
      "content_type_id: 2\n",
      "task_container_id: 10000\n",
      "user_answer: 5\n",
      "answered_correctly: 3\n",
      "prior_question_elapsed_time: 3258\n",
      "prior_question_had_explanation: 2\n"
     ]
    }
   ],
   "source": [
    "# Find number of unique values in each column\n",
    "print(\"Count of unique values in each column\")\n",
    "for column in train.columns:\n",
    "    print(f\"{column}: {train[column].nunique()}\")"
   ]
  },
  {
   "cell_type": "code",
   "execution_count": 10,
   "metadata": {
    "ExecuteTime": {
     "end_time": "2020-11-24T06:48:26.760231Z",
     "start_time": "2020-11-24T06:48:20.908182Z"
    }
   },
   "outputs": [],
   "source": [
    "# Drop all rows with answered_correctly is blank (-1)\n",
    "train = train[train.content_type_id != 1]"
   ]
  },
  {
   "cell_type": "markdown",
   "metadata": {},
   "source": [
    "Categorical Features: `content_type_id`, `user_answer`, `answered_correctly`, `prior_question_had_explanation`"
   ]
  },
  {
   "cell_type": "code",
   "execution_count": 11,
   "metadata": {
    "ExecuteTime": {
     "end_time": "2020-11-24T06:48:26.776234Z",
     "start_time": "2020-11-24T06:48:26.761243Z"
    },
    "scrolled": true
   },
   "outputs": [
    {
     "data": {
      "text/html": [
       "<div>\n",
       "<style scoped>\n",
       "    .dataframe tbody tr th:only-of-type {\n",
       "        vertical-align: middle;\n",
       "    }\n",
       "\n",
       "    .dataframe tbody tr th {\n",
       "        vertical-align: top;\n",
       "    }\n",
       "\n",
       "    .dataframe thead th {\n",
       "        text-align: right;\n",
       "    }\n",
       "</style>\n",
       "<table border=\"1\" class=\"dataframe\">\n",
       "  <thead>\n",
       "    <tr style=\"text-align: right;\">\n",
       "      <th></th>\n",
       "      <th>question</th>\n",
       "      <th>bundle_id</th>\n",
       "      <th>correct_answer</th>\n",
       "      <th>part</th>\n",
       "      <th>tags</th>\n",
       "    </tr>\n",
       "  </thead>\n",
       "  <tbody>\n",
       "    <tr>\n",
       "      <th>0</th>\n",
       "      <td>0</td>\n",
       "      <td>0</td>\n",
       "      <td>0</td>\n",
       "      <td>1</td>\n",
       "      <td>51 131 162 38                                 ...</td>\n",
       "    </tr>\n",
       "    <tr>\n",
       "      <th>1</th>\n",
       "      <td>1</td>\n",
       "      <td>1</td>\n",
       "      <td>1</td>\n",
       "      <td>1</td>\n",
       "      <td>131 36 81                                     ...</td>\n",
       "    </tr>\n",
       "    <tr>\n",
       "      <th>2</th>\n",
       "      <td>2</td>\n",
       "      <td>2</td>\n",
       "      <td>0</td>\n",
       "      <td>1</td>\n",
       "      <td>131 101 162 92                                ...</td>\n",
       "    </tr>\n",
       "    <tr>\n",
       "      <th>3</th>\n",
       "      <td>3</td>\n",
       "      <td>3</td>\n",
       "      <td>0</td>\n",
       "      <td>1</td>\n",
       "      <td>131 149 162 29                                ...</td>\n",
       "    </tr>\n",
       "    <tr>\n",
       "      <th>4</th>\n",
       "      <td>4</td>\n",
       "      <td>4</td>\n",
       "      <td>3</td>\n",
       "      <td>1</td>\n",
       "      <td>131 5 162 38                                  ...</td>\n",
       "    </tr>\n",
       "  </tbody>\n",
       "</table>\n",
       "</div>"
      ],
      "text/plain": [
       "   question  bundle_id  correct_answer  part  \\\n",
       "0         0          0               0     1   \n",
       "1         1          1               1     1   \n",
       "2         2          2               0     1   \n",
       "3         3          3               0     1   \n",
       "4         4          4               3     1   \n",
       "\n",
       "                                                tags  \n",
       "0  51 131 162 38                                 ...  \n",
       "1  131 36 81                                     ...  \n",
       "2  131 101 162 92                                ...  \n",
       "3  131 149 162 29                                ...  \n",
       "4  131 5 162 38                                  ...  "
      ]
     },
     "execution_count": 11,
     "metadata": {},
     "output_type": "execute_result"
    }
   ],
   "source": [
    "questions.head()"
   ]
  },
  {
   "cell_type": "markdown",
   "metadata": {},
   "source": [
    "<b>Description of Features in Questions</b>\n",
    "\n",
    "`question` - foreign key for the train/test content_id column, when the content type is question (0).\n",
    "\n",
    "`bundle_id` - code for which questions are served together.\n",
    "\n",
    "`correct_answer` - the answer to the question. Can be compared with the train user_answer column to check if the user was right.\n",
    "\n",
    "`part` - top level category code for the question.\n",
    "\n",
    "`tags` - one or more detailed tag codes for the question. The meaning of the tags will not be provided, but these codes are sufficient for clustering the questions together."
   ]
  },
  {
   "cell_type": "code",
   "execution_count": 12,
   "metadata": {
    "ExecuteTime": {
     "end_time": "2020-11-24T06:48:26.792242Z",
     "start_time": "2020-11-24T06:48:26.779245Z"
    }
   },
   "outputs": [
    {
     "data": {
      "text/plain": [
       "(13523, 5)"
      ]
     },
     "execution_count": 12,
     "metadata": {},
     "output_type": "execute_result"
    }
   ],
   "source": [
    "questions.shape"
   ]
  },
  {
   "cell_type": "code",
   "execution_count": 13,
   "metadata": {
    "ExecuteTime": {
     "end_time": "2020-11-24T06:48:26.808242Z",
     "start_time": "2020-11-24T06:48:26.794234Z"
    }
   },
   "outputs": [
    {
     "name": "stdout",
     "output_type": "stream",
     "text": [
      "Count of unique values in each column\n",
      "question: 13523\n",
      "bundle_id: 9765\n",
      "correct_answer: 4\n",
      "part: 7\n",
      "tags: 1519\n"
     ]
    }
   ],
   "source": [
    "# Find number of unique values in each column\n",
    "print(\"Count of unique values in each column\")\n",
    "for column in questions.columns:\n",
    "    print(f\"{column}: {questions[column].nunique()}\")"
   ]
  },
  {
   "cell_type": "markdown",
   "metadata": {},
   "source": [
    "Categorical Features: `correct_answer`, `part`\n",
    "\n",
    "Note - Should only need bundle_id and part column. If i use tag column, will need to split the tags to a feature each"
   ]
  },
  {
   "cell_type": "code",
   "execution_count": 14,
   "metadata": {
    "ExecuteTime": {
     "end_time": "2020-11-24T06:48:26.824232Z",
     "start_time": "2020-11-24T06:48:26.810234Z"
    },
    "scrolled": true
   },
   "outputs": [
    {
     "data": {
      "text/html": [
       "<div>\n",
       "<style scoped>\n",
       "    .dataframe tbody tr th:only-of-type {\n",
       "        vertical-align: middle;\n",
       "    }\n",
       "\n",
       "    .dataframe tbody tr th {\n",
       "        vertical-align: top;\n",
       "    }\n",
       "\n",
       "    .dataframe thead th {\n",
       "        text-align: right;\n",
       "    }\n",
       "</style>\n",
       "<table border=\"1\" class=\"dataframe\">\n",
       "  <thead>\n",
       "    <tr style=\"text-align: right;\">\n",
       "      <th></th>\n",
       "      <th>lecture_id</th>\n",
       "      <th>tag</th>\n",
       "      <th>part</th>\n",
       "      <th>type_of</th>\n",
       "    </tr>\n",
       "  </thead>\n",
       "  <tbody>\n",
       "    <tr>\n",
       "      <th>0</th>\n",
       "      <td>89</td>\n",
       "      <td>159</td>\n",
       "      <td>5</td>\n",
       "      <td>concept</td>\n",
       "    </tr>\n",
       "    <tr>\n",
       "      <th>1</th>\n",
       "      <td>100</td>\n",
       "      <td>70</td>\n",
       "      <td>1</td>\n",
       "      <td>concept</td>\n",
       "    </tr>\n",
       "    <tr>\n",
       "      <th>2</th>\n",
       "      <td>185</td>\n",
       "      <td>45</td>\n",
       "      <td>6</td>\n",
       "      <td>concept</td>\n",
       "    </tr>\n",
       "    <tr>\n",
       "      <th>3</th>\n",
       "      <td>192</td>\n",
       "      <td>79</td>\n",
       "      <td>5</td>\n",
       "      <td>solving question</td>\n",
       "    </tr>\n",
       "    <tr>\n",
       "      <th>4</th>\n",
       "      <td>317</td>\n",
       "      <td>156</td>\n",
       "      <td>5</td>\n",
       "      <td>solving question</td>\n",
       "    </tr>\n",
       "  </tbody>\n",
       "</table>\n",
       "</div>"
      ],
      "text/plain": [
       "   lecture_id  tag  part               type_of\n",
       "0          89  159     5  concept             \n",
       "1         100   70     1  concept             \n",
       "2         185   45     6  concept             \n",
       "3         192   79     5  solving question    \n",
       "4         317  156     5  solving question    "
      ]
     },
     "execution_count": 14,
     "metadata": {},
     "output_type": "execute_result"
    }
   ],
   "source": [
    "lectures.head()"
   ]
  },
  {
   "cell_type": "markdown",
   "metadata": {},
   "source": [
    "<b>Description of Features in Questions</b>\n",
    "\n",
    "`lecture_id` - foreign key for the train/test content_id column, when the content type is lecture (1).\n",
    "\n",
    "`part` - top level category code for the lecture.\n",
    "\n",
    "`tag` - one tag codes for the lecture. The meaning of the tags will not be provided, but these codes are sufficient for clustering the lectures together.\n",
    "\n",
    "`type_of` - brief description of the core purpose of the lecture"
   ]
  },
  {
   "cell_type": "code",
   "execution_count": 15,
   "metadata": {
    "ExecuteTime": {
     "end_time": "2020-11-24T06:48:26.840242Z",
     "start_time": "2020-11-24T06:48:26.827232Z"
    }
   },
   "outputs": [
    {
     "name": "stdout",
     "output_type": "stream",
     "text": [
      "Count of unique values in each column\n",
      "lecture_id: 418\n",
      "tag: 151\n",
      "part: 7\n",
      "type_of: 4\n"
     ]
    }
   ],
   "source": [
    "# Find number of unique values in each column\n",
    "print(\"Count of unique values in each column\")\n",
    "for column in lectures.columns:\n",
    "    print(f\"{column}: {lectures[column].nunique()}\")"
   ]
  },
  {
   "cell_type": "markdown",
   "metadata": {},
   "source": [
    "#### Merge train and questions tables"
   ]
  },
  {
   "cell_type": "code",
   "execution_count": 16,
   "metadata": {
    "ExecuteTime": {
     "end_time": "2020-11-24T06:49:11.281178Z",
     "start_time": "2020-11-24T06:48:26.842233Z"
    }
   },
   "outputs": [],
   "source": [
    "df = train.merge(questions, left_on='content_id', right_on='question', how='left')"
   ]
  },
  {
   "cell_type": "code",
   "execution_count": 17,
   "metadata": {
    "ExecuteTime": {
     "end_time": "2020-11-24T06:50:04.430075Z",
     "start_time": "2020-11-24T06:49:11.294150Z"
    }
   },
   "outputs": [],
   "source": [
    "df.drop(['tags', 'question', 'row_id', 'user_answer'], axis=1, inplace=True)"
   ]
  },
  {
   "cell_type": "code",
   "execution_count": 18,
   "metadata": {
    "ExecuteTime": {
     "end_time": "2020-11-24T06:50:04.490073Z",
     "start_time": "2020-11-24T06:50:04.442075Z"
    }
   },
   "outputs": [
    {
     "data": {
      "text/plain": [
       "Index(['timestamp', 'user_id', 'content_id', 'content_type_id',\n",
       "       'task_container_id', 'answered_correctly',\n",
       "       'prior_question_elapsed_time', 'prior_question_had_explanation',\n",
       "       'bundle_id', 'correct_answer', 'part'],\n",
       "      dtype='object')"
      ]
     },
     "execution_count": 18,
     "metadata": {},
     "output_type": "execute_result"
    }
   ],
   "source": [
    "df.columns"
   ]
  },
  {
   "cell_type": "code",
   "execution_count": 19,
   "metadata": {
    "ExecuteTime": {
     "end_time": "2020-11-24T06:50:14.061103Z",
     "start_time": "2020-11-24T06:50:04.493073Z"
    }
   },
   "outputs": [],
   "source": [
    "# Getting a 100k sample of my data to work with cause mo data mo problems\n",
    "df_sample = df.sample(n=100000, random_state=42)"
   ]
  },
  {
   "cell_type": "code",
   "execution_count": 20,
   "metadata": {
    "ExecuteTime": {
     "end_time": "2020-11-24T06:50:14.107944Z",
     "start_time": "2020-11-24T06:50:14.063093Z"
    }
   },
   "outputs": [],
   "source": [
    "# Split data into features and target\n",
    "X = df_sample.drop('answered_correctly', axis=1)\n",
    "y = df_sample['answered_correctly']"
   ]
  },
  {
   "cell_type": "code",
   "execution_count": 21,
   "metadata": {
    "ExecuteTime": {
     "end_time": "2020-11-24T06:50:14.609354Z",
     "start_time": "2020-11-24T06:50:14.116943Z"
    }
   },
   "outputs": [
    {
     "data": {
      "image/png": "[encoded data removed]",
      "text/plain": [
       "<Figure size 432x288 with 1 Axes>"
      ]
     },
     "metadata": {},
     "output_type": "display_data"
    }
   ],
   "source": [
    "# # Class Imbalance\n",
    "sns.set(context = 'notebook',  style = 'white')\n",
    "fig, ax = plt.subplots(figsize = (6,4)) \n",
    "ax = sns.countplot(y, palette = ['#d77ead', '#645ca7'])\n",
    "ax.axes.set_title(\"Class Distribution\",fontsize=28, color='white')\n",
    "ax.set_xlabel(\"Answers\",fontsize=22, color='white', labelpad=10)\n",
    "ax.set_ylabel(\"Count\",fontsize=22, color='white', labelpad=10)\n",
    "ax.set_xticklabels(['Incorrect', \"Correct\"], fontsize=15, color='white')\n",
    "ax.set_yticklabels(['0', '10,000', '20,000', '30,000', '40,000', '50,000', '60,000'], fontsize=15, color='white')\n",
    "ax.grid(color='white', axis='y')\n",
    "ax.spines['right'].set_visible(False)\n",
    "ax.spines['top'].set_visible(False)\n",
    "ax.spines['left'].set_visible(False)\n",
    "ax.spines['bottom'].set_visible(False)\n",
    "# ax.yaxis.set_major_formatter(ticker.StrMethodFormatter('{x:,.0f}'))\n",
    "plt.savefig('../../reports/figures/class_imbalance_ppt.png', bbox_inches='tight', transparent=True);"
   ]
  },
  {
   "cell_type": "markdown",
   "metadata": {},
   "source": [
    "### Prepare data for modeling"
   ]
  },
  {
   "cell_type": "code",
   "execution_count": 22,
   "metadata": {
    "ExecuteTime": {
     "end_time": "2020-11-24T06:50:14.650368Z",
     "start_time": "2020-11-24T06:50:14.611353Z"
    }
   },
   "outputs": [],
   "source": [
    "# Train Test Split the data\n",
    "X_train, X_test, y_train, y_test = train_test_split(X, y, test_size=.3, random_state=42)"
   ]
  },
  {
   "cell_type": "code",
   "execution_count": 23,
   "metadata": {
    "ExecuteTime": {
     "end_time": "2020-11-24T06:50:14.665380Z",
     "start_time": "2020-11-24T06:50:14.652352Z"
    }
   },
   "outputs": [],
   "source": [
    "# Pipeline for preprocessing numeric features\n",
    "# numeric_features = list(X.select_dtypes(exclude='object').columns)\n",
    "numeric_features = ['timestamp', 'user_id', 'content_id', 'task_container_id', 'prior_question_elapsed_time', 'bundle_id']\n",
    "numeric_transformer = Pipeline(steps=[\n",
    "    ('imputer', SimpleImputer(strategy='median')),\n",
    "    ('scaler', StandardScaler())])\n",
    "\n",
    "# Pipeline for preprocessing categorical features\n",
    "# categorical_features = list(X.select_dtypes(include='object').columns)\n",
    "categorical_features = ['part', 'content_type_id', 'prior_question_had_explanation', 'correct_answer']\n",
    "categorical_transformer = Pipeline(steps=[\n",
    "    ('imputer', SimpleImputer(fill_value='None')),\n",
    "    ('one_hot_encoder', OneHotEncoder(sparse=False))])\n",
    "\n",
    "# Pipeline for preprocessing combined\n",
    "preprocessor = ColumnTransformer(\n",
    "    transformers=[\n",
    "        ('num', numeric_transformer, numeric_features),\n",
    "        ('cat', categorical_transformer, categorical_features)])"
   ]
  },
  {
   "cell_type": "code",
   "execution_count": 24,
   "metadata": {
    "ExecuteTime": {
     "end_time": "2020-11-24T06:50:14.878388Z",
     "start_time": "2020-11-24T06:50:14.667352Z"
    }
   },
   "outputs": [],
   "source": [
    "# Use preprocessing pipeline to transform the data\n",
    "X_train_transformed = preprocessor.fit_transform(X_train)\n",
    "X_test_transformed = preprocessor.transform(X_test)"
   ]
  },
  {
   "cell_type": "markdown",
   "metadata": {},
   "source": [
    "# Modeling"
   ]
  },
  {
   "cell_type": "markdown",
   "metadata": {},
   "source": [
    "#### First Simple Model"
   ]
  },
  {
   "cell_type": "code",
   "execution_count": 25,
   "metadata": {
    "ExecuteTime": {
     "end_time": "2020-11-24T06:50:15.250840Z",
     "start_time": "2020-11-24T06:50:14.880388Z"
    }
   },
   "outputs": [
    {
     "data": {
      "text/plain": [
       "LogisticRegression()"
      ]
     },
     "execution_count": 25,
     "metadata": {},
     "output_type": "execute_result"
    }
   ],
   "source": [
    "# Logistic Regression Model Fit\n",
    "fsm = LogisticRegression()\n",
    "fsm.fit(X_train_transformed, y_train)"
   ]
  },
  {
   "cell_type": "code",
   "execution_count": 26,
   "metadata": {
    "ExecuteTime": {
     "end_time": "2020-11-24T06:50:15.360744Z",
     "start_time": "2020-11-24T06:50:15.252852Z"
    }
   },
   "outputs": [
    {
     "name": "stdout",
     "output_type": "stream",
     "text": [
      "              precision    recall  f1-score   support\n",
      "\n",
      "           0       0.55      0.06      0.11     24105\n",
      "           1       0.66      0.97      0.79     45895\n",
      "\n",
      "    accuracy                           0.66     70000\n",
      "   macro avg       0.61      0.52      0.45     70000\n",
      "weighted avg       0.63      0.66      0.56     70000\n",
      "\n"
     ]
    }
   ],
   "source": [
    "# Score on our training data\n",
    "y_pred = fsm.predict(X_train_transformed)\n",
    "print(classification_report(y_train, y_pred))"
   ]
  },
  {
   "cell_type": "code",
   "execution_count": 27,
   "metadata": {
    "ExecuteTime": {
     "end_time": "2020-11-24T06:50:15.408585Z",
     "start_time": "2020-11-24T06:50:15.361727Z"
    }
   },
   "outputs": [
    {
     "name": "stdout",
     "output_type": "stream",
     "text": [
      "              precision    recall  f1-score   support\n",
      "\n",
      "           0       0.57      0.06      0.12     10224\n",
      "           1       0.67      0.97      0.79     19776\n",
      "\n",
      "    accuracy                           0.66     30000\n",
      "   macro avg       0.62      0.52      0.45     30000\n",
      "weighted avg       0.63      0.66      0.56     30000\n",
      "\n"
     ]
    }
   ],
   "source": [
    "# Score on our testing data\n",
    "y_pred = fsm.predict(X_test_transformed)\n",
    "print(classification_report(y_test, y_pred))"
   ]
  },
  {
   "cell_type": "code",
   "execution_count": 28,
   "metadata": {
    "ExecuteTime": {
     "end_time": "2020-11-24T06:50:15.654565Z",
     "start_time": "2020-11-24T06:50:15.410574Z"
    }
   },
   "outputs": [
    {
     "data": {
      "image/png": "[encoded data removed]",
      "text/plain": [
       "<Figure size 432x288 with 2 Axes>"
      ]
     },
     "metadata": {},
     "output_type": "display_data"
    }
   ],
   "source": [
    "# Confusion matrix\n",
    "sns.set(context = 'notebook', style = 'white')\n",
    "plot_confusion_matrix(fsm, X_test_transformed, y_test)\n",
    "plt.title('FSM');"
   ]
  },
  {
   "cell_type": "markdown",
   "metadata": {},
   "source": [
    "We are severely underpredicting incorrectly answered. Our recall is a mere .12. This is due to class imbalance - there are much more correctly answered questions than incorrect. Let's resample the data the adress this issue"
   ]
  },
  {
   "cell_type": "markdown",
   "metadata": {},
   "source": [
    "### Further Data Preprocessing"
   ]
  },
  {
   "cell_type": "markdown",
   "metadata": {},
   "source": [
    "#### Using Smote to Deal with Class Imbalance"
   ]
  },
  {
   "cell_type": "code",
   "execution_count": 29,
   "metadata": {
    "ExecuteTime": {
     "end_time": "2020-11-24T06:50:19.591661Z",
     "start_time": "2020-11-24T06:50:15.656567Z"
    }
   },
   "outputs": [
    {
     "name": "stdout",
     "output_type": "stream",
     "text": [
      "Before OverSampling, counts of label -1: 0\n",
      "Before OverSampling, counts of label 0: 24105\n",
      "Before OverSampling, counts of label 1: 45895 \n",
      "\n",
      "After OverSampling, the shape of train_X: (91790, 21)\n",
      "After OverSampling, the shape of train_y: (91790,) \n",
      "\n",
      "After OverSampling, counts of label -1: 0\n",
      "After OverSampling, counts of label 0\n",
      "After OverSampling, counts of label 1: 45895\n"
     ]
    }
   ],
   "source": [
    "print(\"Before OverSampling, counts of label -1: {}\".format(sum(y_train == -1))) \n",
    "print(\"Before OverSampling, counts of label 0: {}\".format(sum(y_train == 0))) \n",
    "print(\"Before OverSampling, counts of label 1: {} \\n\".format(sum(y_train == 1))) \n",
    "\n",
    "with joblib.parallel_backend('dask'):\n",
    "    # import SMOTE module from imblearn library \n",
    "    # pip install imblearn (if you don't have imblearn in your system) \n",
    "    sm = SMOTE(random_state = 42) \n",
    "    X_train_res, y_train_res = sm.fit_sample(X_train_transformed, y_train.ravel()) \n",
    "\n",
    "print('After OverSampling, the shape of train_X: {}'.format(X_train_res.shape)) \n",
    "print('After OverSampling, the shape of train_y: {} \\n'.format(y_train_res.shape)) \n",
    "\n",
    "print(\"After OverSampling, counts of label -1: {}\".format(sum(y_train_res == -1))) \n",
    "print(\"After OverSampling, counts of label 0\".format(sum(y_train_res == 0))) \n",
    "print(\"After OverSampling, counts of label 1: {}\".format(sum(y_train_res == 1)))"
   ]
  },
  {
   "cell_type": "code",
   "execution_count": 99,
   "metadata": {
    "ExecuteTime": {
     "end_time": "2020-11-24T07:13:55.212456Z",
     "start_time": "2020-11-24T07:13:54.943467Z"
    }
   },
   "outputs": [
    {
     "data": {
      "image/png": "[encoded data removed]",
      "text/plain": [
       "<Figure size 576x288 with 2 Axes>"
      ]
     },
     "metadata": {},
     "output_type": "display_data"
    }
   ],
   "source": [
    "sns.set(context = 'notebook', style = 'whitegrid')\n",
    "\n",
    "fig, axes = plt.subplots(1, 2, figsize = (8,4)) \n",
    "ax = sns.countplot(y, palette = ['#d77ead', '#d77ead'], ax=axes[0])\n",
    "ax.set_title(\"Class Distribution Before Smote\",fontsize=15)\n",
    "ax.set_xlabel(\"Answers\",fontsize=15, labelpad=10)\n",
    "ax.set_ylabel(\"Count\",fontsize=15,  labelpad=10)\n",
    "ax.set_xticklabels(['Incorrect', \"Correct\"], fontsize=13)\n",
    "ax.set_yticklabels(['0', '10,000', '20,000', '30,000', '40,000', '50,000', '60,000'], fontsize=15)\n",
    "\n",
    "ax2 = sns.countplot(y_train_res, palette = ['#645ca7', '#645ca7'], ax=axes[1])\n",
    "ax2.set_title(\"Class Distribution After Smote\",fontsize=15)\n",
    "ax2.set_xlabel(\"Answers\",fontsize=15, labelpad=10)\n",
    "ax2.set_ylabel(\"Count\",fontsize=15,  labelpad=10)\n",
    "ax2.set_xticklabels(['Incorrect', \"Correct\"], fontsize=15)\n",
    "ax2.set_yticklabels(['0', '10,000', '20,000', '30,000', '40,000', '50,000', '60,000'], fontsize=13)\n",
    "\n",
    "# fig, (ax1, ax2) = plt.subplots(1,2, figsize = (10,4)) \n",
    "# ax1.hist(y, color = 'red', alpha = .5, bins = 5)\n",
    "# ax1.set_title('Class distribution before SMOTE')\n",
    "# ax2.hist(y_train_res, color = 'blue', alpha = .5, bins = 5)\n",
    "# ax2.set_title('Class distribution After SMOTE')\n",
    "fig.tight_layout()\n",
    "# plt.savefig('../../reports/figures/Fixing_class_imbalance.jpg', bbox_inches='tight');"
   ]
  },
  {
   "cell_type": "markdown",
   "metadata": {},
   "source": [
    "#### Simple Linear Regression Model After Smote"
   ]
  },
  {
   "cell_type": "code",
   "execution_count": 31,
   "metadata": {
    "ExecuteTime": {
     "end_time": "2020-11-24T06:50:21.186662Z",
     "start_time": "2020-11-24T06:50:20.717618Z"
    }
   },
   "outputs": [],
   "source": [
    "# X_train_res, y_train_res, X_test_transformed, y_test\n",
    "simple_lr = LogisticRegression()\n",
    "with joblib.parallel_backend('dask'):\n",
    "    simple_lr.fit(X_train_res, y_train_res)"
   ]
  },
  {
   "cell_type": "code",
   "execution_count": 32,
   "metadata": {
    "ExecuteTime": {
     "end_time": "2020-11-24T06:50:21.345630Z",
     "start_time": "2020-11-24T06:50:21.202644Z"
    },
    "scrolled": true
   },
   "outputs": [
    {
     "name": "stdout",
     "output_type": "stream",
     "text": [
      "              precision    recall  f1-score   support\n",
      "\n",
      "           0       0.56      0.54      0.55     45895\n",
      "           1       0.56      0.58      0.57     45895\n",
      "\n",
      "    accuracy                           0.56     91790\n",
      "   macro avg       0.56      0.56      0.56     91790\n",
      "weighted avg       0.56      0.56      0.56     91790\n",
      "\n"
     ]
    }
   ],
   "source": [
    "# Score on our training data\n",
    "y_pred = simple_lr.predict(X_train_res)\n",
    "print(classification_report(y_train_res, y_pred))"
   ]
  },
  {
   "cell_type": "code",
   "execution_count": 33,
   "metadata": {
    "ExecuteTime": {
     "end_time": "2020-11-24T06:50:21.408649Z",
     "start_time": "2020-11-24T06:50:21.347641Z"
    }
   },
   "outputs": [
    {
     "name": "stdout",
     "output_type": "stream",
     "text": [
      "              precision    recall  f1-score   support\n",
      "\n",
      "           0       0.40      0.55      0.46     10224\n",
      "           1       0.71      0.58      0.64     19776\n",
      "\n",
      "    accuracy                           0.57     30000\n",
      "   macro avg       0.56      0.56      0.55     30000\n",
      "weighted avg       0.61      0.57      0.58     30000\n",
      "\n"
     ]
    }
   ],
   "source": [
    "# Score on testing data\n",
    "y_pred = simple_lr.predict(X_test_transformed)\n",
    "print(classification_report(y_test, y_pred))"
   ]
  },
  {
   "cell_type": "code",
   "execution_count": 34,
   "metadata": {
    "ExecuteTime": {
     "end_time": "2020-11-24T06:50:21.599643Z",
     "start_time": "2020-11-24T06:50:21.410649Z"
    }
   },
   "outputs": [
    {
     "data": {
      "image/png": "[encoded data removed]",
      "text/plain": [
       "<Figure size 432x288 with 2 Axes>"
      ]
     },
     "metadata": {},
     "output_type": "display_data"
    }
   ],
   "source": [
    "# Confusion matrix\n",
    "sns.set(context = 'notebook', style = 'white')\n",
    "plot_confusion_matrix(simple_lr, X_test_transformed, y_test)\n",
    "plt.title('Simple LR');"
   ]
  },
  {
   "cell_type": "code",
   "execution_count": 35,
   "metadata": {
    "ExecuteTime": {
     "end_time": "2020-11-24T06:50:21.611643Z",
     "start_time": "2020-11-24T06:50:21.601643Z"
    }
   },
   "outputs": [],
   "source": [
    "# # Grid Search for best params for Logistic Regression Classifier\n",
    "# params = {\n",
    "#     'penalty':['l1', 'l2', 'elasticnet'],        # l1 is Lasso, l2 is Ridge\n",
    "#     'solver':['liblinear', 'saga'],\n",
    "#     'C': [.0001, .001,.1, 1, 10],\n",
    "#     'verbose': [0, 1],\n",
    "#     'max_iter': [10, 100, 1000],\n",
    "#     'tol': [1, 10, 100, 1000]\n",
    "# }\n",
    "# lr_gs = GridSearchCV(LogisticRegression(random_state=42), params, cv=3)\n",
    "# with joblib.parallel_backend('dask'):\n",
    "#     lr_gs.fit(X_train_res, y_train_res)\n",
    "\n",
    "# print(\"Best Params\", lr_gs.best_params_)\n",
    "# print(\"Best Score\", lr_gs.best_score_)\n",
    "# # Best Params {'C': 0.001, 'max_iter': 10, 'penalty': 'l2', 'solver': 'liblinear', 'tol': 1, 'verbose': 0}\n",
    "# # Best Score 0.6904251320938254"
   ]
  },
  {
   "cell_type": "code",
   "execution_count": 36,
   "metadata": {
    "ExecuteTime": {
     "end_time": "2020-11-24T06:50:21.718655Z",
     "start_time": "2020-11-24T06:50:21.614643Z"
    }
   },
   "outputs": [
    {
     "data": {
      "text/plain": [
       "LogisticRegression(C=0.001, max_iter=10, random_state=42, solver='liblinear',\n",
       "                   tol=1)"
      ]
     },
     "execution_count": 36,
     "metadata": {},
     "output_type": "execute_result"
    }
   ],
   "source": [
    "# Plug in best params and run model\n",
    "lr_best = LogisticRegression(random_state=42, penalty= 'l2', solver= 'liblinear', C=.001, verbose=0, max_iter=10, tol=1)\n",
    "lr_best.fit(X_train_res, y_train_res)"
   ]
  },
  {
   "cell_type": "code",
   "execution_count": 37,
   "metadata": {
    "ExecuteTime": {
     "end_time": "2020-11-24T06:50:21.874635Z",
     "start_time": "2020-11-24T06:50:21.719639Z"
    }
   },
   "outputs": [
    {
     "name": "stdout",
     "output_type": "stream",
     "text": [
      "              precision    recall  f1-score   support\n",
      "\n",
      "           0       0.56      0.53      0.54     45895\n",
      "           1       0.55      0.58      0.57     45895\n",
      "\n",
      "    accuracy                           0.56     91790\n",
      "   macro avg       0.56      0.56      0.56     91790\n",
      "weighted avg       0.56      0.56      0.56     91790\n",
      "\n"
     ]
    }
   ],
   "source": [
    "# Score on our training data\n",
    "y_pred = lr_best.predict(X_train_res)\n",
    "print(classification_report(y_train_res, y_pred))"
   ]
  },
  {
   "cell_type": "code",
   "execution_count": 38,
   "metadata": {
    "ExecuteTime": {
     "end_time": "2020-11-24T06:50:21.921635Z",
     "start_time": "2020-11-24T06:50:21.876635Z"
    }
   },
   "outputs": [
    {
     "name": "stdout",
     "output_type": "stream",
     "text": [
      "              precision    recall  f1-score   support\n",
      "\n",
      "           0       0.40      0.54      0.46     10224\n",
      "           1       0.71      0.58      0.64     19776\n",
      "\n",
      "    accuracy                           0.57     30000\n",
      "   macro avg       0.56      0.56      0.55     30000\n",
      "weighted avg       0.61      0.57      0.58     30000\n",
      "\n"
     ]
    }
   ],
   "source": [
    "# Score on testing data\n",
    "y_pred = lr_best.predict(X_test_transformed)\n",
    "print(classification_report(y_test, y_pred))"
   ]
  },
  {
   "cell_type": "code",
   "execution_count": 39,
   "metadata": {
    "ExecuteTime": {
     "end_time": "2020-11-24T06:50:22.128628Z",
     "start_time": "2020-11-24T06:50:21.923633Z"
    }
   },
   "outputs": [
    {
     "data": {
      "image/png": "[encoded data removed]",
      "text/plain": [
       "<Figure size 432x288 with 2 Axes>"
      ]
     },
     "metadata": {},
     "output_type": "display_data"
    }
   ],
   "source": [
    "# Confusion matrix\n",
    "plot_confusion_matrix(lr_best, X_test_transformed, y_test)\n",
    "plt.title('LR');"
   ]
  },
  {
   "cell_type": "markdown",
   "metadata": {},
   "source": [
    "#### K Nearest Neighbors"
   ]
  },
  {
   "cell_type": "code",
   "execution_count": 40,
   "metadata": {
    "ExecuteTime": {
     "end_time": "2020-11-24T06:50:22.143627Z",
     "start_time": "2020-11-24T06:50:22.130627Z"
    }
   },
   "outputs": [],
   "source": [
    "# # Grid Search for best params for KNN Classifier *Do this overnight, takes forever*\n",
    "# params = {\n",
    "#     'n_neighbors': [3, 5, 7],\n",
    "#     'weights': ['uniform', 'distance'],\n",
    "#     'p' : [1,2]\n",
    "# }\n",
    "\n",
    "# knn_gs = GridSearchCV(KNeighborsClassifier(), params)\n",
    "# with joblib.parallel_backend('dask'):\n",
    "#     knn_gs.fit(X_train_res, y_train_res)\n",
    "\n",
    "# print(\"Best Params\", knn_gs.best_params_)"
   ]
  },
  {
   "cell_type": "code",
   "execution_count": 41,
   "metadata": {
    "ExecuteTime": {
     "end_time": "2020-11-24T06:50:23.101611Z",
     "start_time": "2020-11-24T06:50:22.145627Z"
    }
   },
   "outputs": [
    {
     "data": {
      "text/plain": [
       "KNeighborsClassifier()"
      ]
     },
     "execution_count": 41,
     "metadata": {},
     "output_type": "execute_result"
    }
   ],
   "source": [
    "# Plug in best params and run model\n",
    "knn_best = KNeighborsClassifier()\n",
    "knn_best.fit(X_train_res, y_train_res)"
   ]
  },
  {
   "cell_type": "code",
   "execution_count": 42,
   "metadata": {
    "ExecuteTime": {
     "end_time": "2020-11-24T06:50:40.338940Z",
     "start_time": "2020-11-24T06:50:23.103598Z"
    }
   },
   "outputs": [
    {
     "name": "stdout",
     "output_type": "stream",
     "text": [
      "              precision    recall  f1-score   support\n",
      "\n",
      "           0       0.74      0.87      0.80     45895\n",
      "           1       0.84      0.69      0.76     45895\n",
      "\n",
      "    accuracy                           0.78     91790\n",
      "   macro avg       0.79      0.78      0.78     91790\n",
      "weighted avg       0.79      0.78      0.78     91790\n",
      "\n"
     ]
    }
   ],
   "source": [
    "# Score on our training data\n",
    "y_pred = knn_best.predict(X_train_res)\n",
    "print(classification_report(y_train_res, y_pred))"
   ]
  },
  {
   "cell_type": "code",
   "execution_count": 43,
   "metadata": {
    "ExecuteTime": {
     "end_time": "2020-11-24T06:50:47.084739Z",
     "start_time": "2020-11-24T06:50:40.340940Z"
    }
   },
   "outputs": [
    {
     "name": "stdout",
     "output_type": "stream",
     "text": [
      "              precision    recall  f1-score   support\n",
      "\n",
      "           0       0.37      0.49      0.42     10224\n",
      "           1       0.68      0.56      0.61     19776\n",
      "\n",
      "    accuracy                           0.54     30000\n",
      "   macro avg       0.52      0.52      0.52     30000\n",
      "weighted avg       0.57      0.54      0.55     30000\n",
      "\n"
     ]
    }
   ],
   "source": [
    "# Score on testing data\n",
    "y_pred = knn_best.predict(X_test_transformed)\n",
    "print(classification_report(y_test, y_pred))"
   ]
  },
  {
   "cell_type": "code",
   "execution_count": 44,
   "metadata": {
    "ExecuteTime": {
     "end_time": "2020-11-24T06:50:55.083502Z",
     "start_time": "2020-11-24T06:50:47.086740Z"
    }
   },
   "outputs": [
    {
     "data": {
      "image/png": "[encoded data removed]",
      "text/plain": [
       "<Figure size 432x288 with 2 Axes>"
      ]
     },
     "metadata": {},
     "output_type": "display_data"
    }
   ],
   "source": [
    "# Confusion matrix\n",
    "plot_confusion_matrix(knn_best, X_test_transformed, y_test)\n",
    "plt.title('KNN');"
   ]
  },
  {
   "cell_type": "markdown",
   "metadata": {},
   "source": [
    "#### Random Forest"
   ]
  },
  {
   "cell_type": "code",
   "execution_count": 45,
   "metadata": {
    "ExecuteTime": {
     "end_time": "2020-11-24T06:57:27.077795Z",
     "start_time": "2020-11-24T06:50:55.085501Z"
    }
   },
   "outputs": [
    {
     "name": "stdout",
     "output_type": "stream",
     "text": [
      "Best Params {'max_depth': 20, 'n_estimators': 700}\n"
     ]
    }
   ],
   "source": [
    "# # Grid Search for best params for Random Forest Classifier\n",
    "# params = {\n",
    "#     'max_depth': [20],\n",
    "#     'n_estimators': [700, 800]\n",
    "# }\n",
    "\n",
    "# rf_gs = GridSearchCV(RandomForestClassifier(random_state=42), params)\n",
    "# with joblib.parallel_backend('dask'):\n",
    "#     rf_gs.fit(X_train_res, y_train_res)\n",
    "\n",
    "# print(\"Best Params\", rf_gs.best_params_)"
   ]
  },
  {
   "cell_type": "code",
   "execution_count": 93,
   "metadata": {
    "ExecuteTime": {
     "end_time": "2020-11-24T07:11:01.228846Z",
     "start_time": "2020-11-24T07:10:20.557497Z"
    }
   },
   "outputs": [],
   "source": [
    "# Plug in best params and run model\n",
    "rf_best = RandomForestClassifier(max_depth=20, n_estimators=800, random_state=42)\n",
    "with joblib.parallel_backend('dask'):\n",
    "    rf_best.fit(X_train_res, y_train_res)"
   ]
  },
  {
   "cell_type": "code",
   "execution_count": 94,
   "metadata": {
    "ExecuteTime": {
     "end_time": "2020-11-24T07:11:16.891776Z",
     "start_time": "2020-11-24T07:11:01.236846Z"
    }
   },
   "outputs": [
    {
     "name": "stdout",
     "output_type": "stream",
     "text": [
      "              precision    recall  f1-score   support\n",
      "\n",
      "           0       0.91      0.98      0.94     45895\n",
      "           1       0.98      0.91      0.94     45895\n",
      "\n",
      "    accuracy                           0.94     91790\n",
      "   macro avg       0.94      0.94      0.94     91790\n",
      "weighted avg       0.94      0.94      0.94     91790\n",
      "\n"
     ]
    }
   ],
   "source": [
    "# Score on our training data\n",
    "y_pred = rf_best.predict(X_train_res)\n",
    "print(classification_report(y_train_res, y_pred))"
   ]
  },
  {
   "cell_type": "code",
   "execution_count": 95,
   "metadata": {
    "ExecuteTime": {
     "end_time": "2020-11-24T07:11:22.409614Z",
     "start_time": "2020-11-24T07:11:16.893767Z"
    }
   },
   "outputs": [
    {
     "name": "stdout",
     "output_type": "stream",
     "text": [
      "              precision    recall  f1-score   support\n",
      "\n",
      "           0       0.41      0.46      0.43     10224\n",
      "           1       0.70      0.66      0.68     19776\n",
      "\n",
      "    accuracy                           0.59     30000\n",
      "   macro avg       0.56      0.56      0.56     30000\n",
      "weighted avg       0.60      0.59      0.60     30000\n",
      "\n"
     ]
    }
   ],
   "source": [
    "# Score on testing data\n",
    "y_pred = rf_best.predict(X_test_transformed)\n",
    "print(classification_report(y_test, y_pred))"
   ]
  },
  {
   "cell_type": "code",
   "execution_count": 96,
   "metadata": {
    "ExecuteTime": {
     "end_time": "2020-11-24T07:11:28.174432Z",
     "start_time": "2020-11-24T07:11:22.411603Z"
    }
   },
   "outputs": [
    {
     "data": {
      "image/png": "[encoded data removed]",
      "text/plain": [
       "<Figure size 432x288 with 2 Axes>"
      ]
     },
     "metadata": {},
     "output_type": "display_data"
    }
   ],
   "source": [
    "# Confusion matrix\n",
    "plot_confusion_matrix(rf_best, X_test_transformed, y_test)\n",
    "plt.title('RF');"
   ]
  },
  {
   "cell_type": "markdown",
   "metadata": {},
   "source": [
    "#### Support Vector Machines\n",
    "\n",
    "This is a slow one"
   ]
  },
  {
   "cell_type": "code",
   "execution_count": 50,
   "metadata": {
    "ExecuteTime": {
     "end_time": "2020-11-24T06:57:52.370735Z",
     "start_time": "2020-11-24T06:57:52.356736Z"
    }
   },
   "outputs": [],
   "source": [
    "# # Instantiate SVC\n",
    "# svc = SVC(cache_size=500, random_state=42)\n",
    "# with joblib.parallel_backend('dask'):\n",
    "#     svc.fit(X_train_res, y_train_res)"
   ]
  },
  {
   "cell_type": "code",
   "execution_count": 51,
   "metadata": {
    "ExecuteTime": {
     "end_time": "2020-11-24T06:57:52.385737Z",
     "start_time": "2020-11-24T06:57:52.371745Z"
    }
   },
   "outputs": [],
   "source": [
    "# # Score on our training data\n",
    "# y_pred = svc.predict(X_train_res)\n",
    "# print(classification_report(y_train_res, y_pred))"
   ]
  },
  {
   "cell_type": "code",
   "execution_count": 52,
   "metadata": {
    "ExecuteTime": {
     "end_time": "2020-11-24T06:57:52.400735Z",
     "start_time": "2020-11-24T06:57:52.386735Z"
    }
   },
   "outputs": [],
   "source": [
    "# # Score on testing data\n",
    "# y_pred = svc.predict(X_test_transformed)\n",
    "# print(classification_report(y_test, y_pred))"
   ]
  },
  {
   "cell_type": "code",
   "execution_count": 53,
   "metadata": {
    "ExecuteTime": {
     "end_time": "2020-11-24T06:57:52.415736Z",
     "start_time": "2020-11-24T06:57:52.403735Z"
    }
   },
   "outputs": [],
   "source": [
    "# # Confusion matrix\n",
    "# plot_confusion_matrix(svc, X_test_transformed, y_test)\n",
    "# plt.title('SVC');"
   ]
  },
  {
   "cell_type": "markdown",
   "metadata": {},
   "source": [
    "#### AdaBoost"
   ]
  },
  {
   "cell_type": "code",
   "execution_count": 54,
   "metadata": {
    "ExecuteTime": {
     "end_time": "2020-11-24T06:57:58.451564Z",
     "start_time": "2020-11-24T06:57:52.417734Z"
    }
   },
   "outputs": [
    {
     "data": {
      "text/plain": [
       "AdaBoostClassifier(random_state=42)"
      ]
     },
     "execution_count": 54,
     "metadata": {},
     "output_type": "execute_result"
    }
   ],
   "source": [
    "# Instantiate an AdaBoostClassifier\n",
    "# Defaults are estimator=DecisionTree, n_estimator=100, learning_rate = 1\n",
    "adaboost = AdaBoostClassifier(random_state=42)\n",
    "adaboost.fit(X_train_res, y_train_res)"
   ]
  },
  {
   "cell_type": "code",
   "execution_count": 55,
   "metadata": {
    "ExecuteTime": {
     "end_time": "2020-11-24T06:57:59.474524Z",
     "start_time": "2020-11-24T06:57:58.453554Z"
    }
   },
   "outputs": [
    {
     "name": "stdout",
     "output_type": "stream",
     "text": [
      "              precision    recall  f1-score   support\n",
      "\n",
      "           0       0.58      0.56      0.57     45895\n",
      "           1       0.58      0.60      0.59     45895\n",
      "\n",
      "    accuracy                           0.58     91790\n",
      "   macro avg       0.58      0.58      0.58     91790\n",
      "weighted avg       0.58      0.58      0.58     91790\n",
      "\n"
     ]
    }
   ],
   "source": [
    "# Score on our training data\n",
    "y_pred = adaboost.predict(X_train_res)\n",
    "print(classification_report(y_train_res, y_pred))"
   ]
  },
  {
   "cell_type": "code",
   "execution_count": 56,
   "metadata": {
    "ExecuteTime": {
     "end_time": "2020-11-24T06:57:59.815524Z",
     "start_time": "2020-11-24T06:57:59.477526Z"
    }
   },
   "outputs": [
    {
     "name": "stdout",
     "output_type": "stream",
     "text": [
      "              precision    recall  f1-score   support\n",
      "\n",
      "           0       0.40      0.52      0.46     10224\n",
      "           1       0.71      0.60      0.65     19776\n",
      "\n",
      "    accuracy                           0.58     30000\n",
      "   macro avg       0.56      0.56      0.55     30000\n",
      "weighted avg       0.61      0.58      0.59     30000\n",
      "\n"
     ]
    }
   ],
   "source": [
    "# Score on testing data\n",
    "y_pred = adaboost.predict(X_test_transformed)\n",
    "print(classification_report(y_test, y_pred))"
   ]
  },
  {
   "cell_type": "code",
   "execution_count": 57,
   "metadata": {
    "ExecuteTime": {
     "end_time": "2020-11-24T06:58:00.300510Z",
     "start_time": "2020-11-24T06:57:59.818514Z"
    }
   },
   "outputs": [
    {
     "data": {
      "image/png": "[encoded data removed]",
      "text/plain": [
       "<Figure size 432x288 with 2 Axes>"
      ]
     },
     "metadata": {},
     "output_type": "display_data"
    }
   ],
   "source": [
    "# Confusion matrix\n",
    "plot_confusion_matrix(adaboost, X_test_transformed, y_test)\n",
    "plt.title('Adaboost');"
   ]
  },
  {
   "cell_type": "markdown",
   "metadata": {},
   "source": [
    "#### Extreme Gradient Boosting"
   ]
  },
  {
   "cell_type": "code",
   "execution_count": 58,
   "metadata": {
    "ExecuteTime": {
     "end_time": "2020-11-24T06:58:05.922424Z",
     "start_time": "2020-11-24T06:58:00.302499Z"
    }
   },
   "outputs": [
    {
     "data": {
      "text/plain": [
       "XGBClassifier(random_state=42)"
      ]
     },
     "execution_count": 58,
     "metadata": {},
     "output_type": "execute_result"
    }
   ],
   "source": [
    "# Instantiate XGBClassifier\n",
    "# We dont specify an estimator since Gradient Boosting uses regression trees\n",
    "# Default params: n_estimators=100, learning_rate=0.1, mex_depth=3, min_samples_split, min_samples_leaf, max_features\n",
    "# In Gradient Boosting, it is recommended to use all the features\n",
    "# XGB Optomized for distributed computing. Parallel training.\n",
    "xgb = XGBClassifier(random_state=42)\n",
    "xgb.fit(X_train_res, y_train_res)"
   ]
  },
  {
   "cell_type": "code",
   "execution_count": 59,
   "metadata": {
    "ExecuteTime": {
     "end_time": "2020-11-24T06:58:06.265927Z",
     "start_time": "2020-11-24T06:58:05.924416Z"
    }
   },
   "outputs": [
    {
     "name": "stdout",
     "output_type": "stream",
     "text": [
      "              precision    recall  f1-score   support\n",
      "\n",
      "           0       0.63      0.59      0.61     45895\n",
      "           1       0.61      0.66      0.64     45895\n",
      "\n",
      "    accuracy                           0.62     91790\n",
      "   macro avg       0.62      0.62      0.62     91790\n",
      "weighted avg       0.62      0.62      0.62     91790\n",
      "\n"
     ]
    }
   ],
   "source": [
    "# Score on our training data\n",
    "y_pred = xgb.predict(X_train_res)\n",
    "print(classification_report(y_train_res, y_pred))"
   ]
  },
  {
   "cell_type": "code",
   "execution_count": 60,
   "metadata": {
    "ExecuteTime": {
     "end_time": "2020-11-24T06:58:06.387934Z",
     "start_time": "2020-11-24T06:58:06.268928Z"
    }
   },
   "outputs": [
    {
     "name": "stdout",
     "output_type": "stream",
     "text": [
      "              precision    recall  f1-score   support\n",
      "\n",
      "           0       0.41      0.47      0.44     10224\n",
      "           1       0.71      0.66      0.68     19776\n",
      "\n",
      "    accuracy                           0.59     30000\n",
      "   macro avg       0.56      0.56      0.56     30000\n",
      "weighted avg       0.61      0.59      0.60     30000\n",
      "\n"
     ]
    }
   ],
   "source": [
    "# Score on testing data\n",
    "y_pred = xgb.predict(X_test_transformed)\n",
    "print(classification_report(y_test, y_pred))"
   ]
  },
  {
   "cell_type": "code",
   "execution_count": 61,
   "metadata": {
    "ExecuteTime": {
     "end_time": "2020-11-24T06:58:06.799840Z",
     "start_time": "2020-11-24T06:58:06.390933Z"
    }
   },
   "outputs": [
    {
     "data": {
      "image/png": "[encoded data removed]",
      "text/plain": [
       "<Figure size 432x288 with 2 Axes>"
      ]
     },
     "metadata": {},
     "output_type": "display_data"
    }
   ],
   "source": [
    "# Confusion matrix\n",
    "ax = plot_confusion_matrix(xgb, X_test_transformed, y_test, cmap = \"Purples\", )\n",
    "plt.title('XGB', fontsize=28, color='white')\n",
    "plt.xlabel(\"Predicted Label\",fontsize=22, color='white', labelpad=10)\n",
    "plt.ylabel(\"True Label\",fontsize=22, color='white', labelpad=10)\n",
    "plt.savefig('../../reports/figures/matrix_ppt.png', bbox_inches='tight', transparent=True);"
   ]
  },
  {
   "cell_type": "markdown",
   "metadata": {},
   "source": [
    "#### Light Gradient Boosting"
   ]
  },
  {
   "cell_type": "code",
   "execution_count": 62,
   "metadata": {
    "ExecuteTime": {
     "end_time": "2020-11-24T06:58:07.375811Z",
     "start_time": "2020-11-24T06:58:06.802840Z"
    }
   },
   "outputs": [
    {
     "data": {
      "text/plain": [
       "LGBMClassifier(seed=42)"
      ]
     },
     "execution_count": 62,
     "metadata": {},
     "output_type": "execute_result"
    }
   ],
   "source": [
    "# Params similar to gradient boosting except default max_depth = -1 (unlimited)\n",
    "lgb = LGBMClassifier(seed=42)\n",
    "lgb.fit(X_train_res, y_train_res)"
   ]
  },
  {
   "cell_type": "code",
   "execution_count": 63,
   "metadata": {
    "ExecuteTime": {
     "end_time": "2020-11-24T06:58:07.709734Z",
     "start_time": "2020-11-24T06:58:07.378812Z"
    }
   },
   "outputs": [
    {
     "name": "stdout",
     "output_type": "stream",
     "text": [
      "              precision    recall  f1-score   support\n",
      "\n",
      "           0       0.72      0.59      0.65     45895\n",
      "           1       0.65      0.78      0.71     45895\n",
      "\n",
      "    accuracy                           0.68     91790\n",
      "   macro avg       0.69      0.68      0.68     91790\n",
      "weighted avg       0.69      0.68      0.68     91790\n",
      "\n"
     ]
    }
   ],
   "source": [
    "# Score on our training data\n",
    "y_pred = lgb.predict(X_train_res)\n",
    "print(classification_report(y_train_res, y_pred))"
   ]
  },
  {
   "cell_type": "code",
   "execution_count": 64,
   "metadata": {
    "ExecuteTime": {
     "end_time": "2020-11-24T06:58:07.849717Z",
     "start_time": "2020-11-24T06:58:07.711721Z"
    }
   },
   "outputs": [
    {
     "name": "stdout",
     "output_type": "stream",
     "text": [
      "              precision    recall  f1-score   support\n",
      "\n",
      "           0       0.43      0.35      0.38     10224\n",
      "           1       0.69      0.76      0.73     19776\n",
      "\n",
      "    accuracy                           0.62     30000\n",
      "   macro avg       0.56      0.55      0.55     30000\n",
      "weighted avg       0.60      0.62      0.61     30000\n",
      "\n"
     ]
    }
   ],
   "source": [
    "# Score on testing data\n",
    "y_pred = lgb.predict(X_test_transformed)\n",
    "print(classification_report(y_test, y_pred))"
   ]
  },
  {
   "cell_type": "code",
   "execution_count": 65,
   "metadata": {
    "ExecuteTime": {
     "end_time": "2020-11-24T06:58:08.179730Z",
     "start_time": "2020-11-24T06:58:07.853717Z"
    }
   },
   "outputs": [
    {
     "data": {
      "image/png": "[encoded data removed]",
      "text/plain": [
       "<Figure size 432x288 with 2 Axes>"
      ]
     },
     "metadata": {},
     "output_type": "display_data"
    }
   ],
   "source": [
    "# Confusion matrix\n",
    "plot_confusion_matrix(lgb, X_test_transformed, y_test)\n",
    "plt.title('LGB');"
   ]
  },
  {
   "cell_type": "markdown",
   "metadata": {},
   "source": [
    "#### Neural Networks"
   ]
  },
  {
   "cell_type": "code",
   "execution_count": null,
   "metadata": {},
   "outputs": [],
   "source": []
  },
  {
   "cell_type": "code",
   "execution_count": null,
   "metadata": {},
   "outputs": [],
   "source": []
  },
  {
   "cell_type": "code",
   "execution_count": null,
   "metadata": {},
   "outputs": [],
   "source": []
  },
  {
   "cell_type": "code",
   "execution_count": null,
   "metadata": {},
   "outputs": [],
   "source": []
  },
  {
   "cell_type": "code",
   "execution_count": null,
   "metadata": {},
   "outputs": [],
   "source": []
  },
  {
   "cell_type": "code",
   "execution_count": null,
   "metadata": {},
   "outputs": [],
   "source": []
  },
  {
   "cell_type": "code",
   "execution_count": null,
   "metadata": {},
   "outputs": [],
   "source": []
  }
 ],
 "metadata": {
  "kernelspec": {
   "display_name": "learn-env",
   "language": "python",
   "name": "learn-env"
  },
  "language_info": {
   "codemirror_mode": {
    "name": "ipython",
    "version": 3
   },
   "file_extension": ".py",
   "mimetype": "text/x-python",
   "name": "python",
   "nbconvert_exporter": "python",
   "pygments_lexer": "ipython3",
   "version": "3.6.9"
  }
 },
 "nbformat": 4,
 "nbformat_minor": 4
}
