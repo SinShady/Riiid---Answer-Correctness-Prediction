{
 "cells": [
  {
   "cell_type": "markdown",
   "metadata": {},
   "source": [
    "# Riiid---Answer-Correctness-Prediction\n",
    "Predicting Student Performance on future interactions with an AI tutor\n",
    "# Project Overview"
   ]
  },
  {
   "cell_type": "markdown",
   "metadata": {},
   "source": [
    "## Issues in Education\n",
    "First, I’d like to talk about some issues in education today. According to data gathered by the UNESCO Institute, in 2018, 260 million children weren’t attending school. Of the children that we’re attending school, more than half of young students around the globe did not meet minimum reading and math standards. This is in part due to the fact that many students don’t have access to personalized learning.\n",
    "\n",
    "Education was already in a tough place before COVID forced many schools to shutdown and switch to remote learning. I created this map in Tableau with data from UNESCO Institute.\n",
    "\n",
    "<b>School Closure Due to COVID-19 May 2020</b>\n",
    "![COVID MAP](../../reports/figures/COVID_map.png)\n",
    "\n",
    "## Education with Artificial Intelligence\n",
    " Artificial Intelligent solutions can change the current education system in terms of attendance, engagement, and individualized attention. It could potentially provide equal opportunity in education to anyone with an internet connection. With these goals in mind, RIIID Labs developed AI tutors.\n",
    "\n",
    "Aiming to rethink traditional ways of learning, RIID Labs launched EdNet this year, the world’s largest open database for AI education. The database, which is hosted on Kaggle.com, contains data on more than 100 million student interactions across almost 400 thousand students for over 13,000 questions.\n",
    "\n",
    "## Student Performance Predictions on AI tutor\n",
    "I will be predicting whether the student will answer incorrect, or correct for future questions. The purpose of these predictions is to help evaluate and guide the success of the AI tutors. The AI tutor can become more individualized to a student’s needs if they know the predicted performance. For example, it could provide more questions and lectures on topics it sees the student is predicted to be weak in."
   ]
  },
  {
   "cell_type": "markdown",
   "metadata": {},
   "source": [
    "# Import Libraries"
   ]
  },
  {
   "cell_type": "code",
   "execution_count": 99,
   "metadata": {
    "ExecuteTime": {
     "end_time": "2020-11-25T22:52:09.860595Z",
     "start_time": "2020-11-25T22:52:09.841585Z"
    }
   },
   "outputs": [],
   "source": [
    "import warnings\n",
    "warnings.filterwarnings('ignore')\n",
    "\n",
    "import zipfile\n",
    "import psycopg2\n",
    "import pandas as pd\n",
    "import numpy as np\n",
    "import matplotlib.pyplot as plt\n",
    "from matplotlib import ticker\n",
    "import seaborn as sns\n",
    "\n",
    "from sklearn.model_selection import train_test_split, cross_val_score, GridSearchCV, ParameterGrid\n",
    "from sklearn.pipeline import Pipeline\n",
    "from sklearn.compose import ColumnTransformer\n",
    "from sklearn.impute import SimpleImputer\n",
    "from sklearn.preprocessing import StandardScaler, OneHotEncoder\n",
    "\n",
    "from sklearn.metrics import classification_report, confusion_matrix, plot_confusion_matrix\n",
    "from imblearn.over_sampling import SMOTE\n",
    "from sklearn.linear_model import LogisticRegression\n",
    "\n",
    "from sklearn.neighbors import KNeighborsClassifier\n",
    "from sklearn.svm import SVC\n",
    "from sklearn.ensemble import RandomForestClassifier, AdaBoostClassifier\n",
    "from xgboost import XGBClassifier\n",
    "from lightgbm import LGBMClassifier\n",
    "\n",
    "from dask.distributed import Client, LocalCluster\n",
    "import joblib"
   ]
  },
  {
   "cell_type": "code",
   "execution_count": 100,
   "metadata": {
    "ExecuteTime": {
     "end_time": "2020-11-25T22:52:11.468601Z",
     "start_time": "2020-11-25T22:52:10.060536Z"
    }
   },
   "outputs": [],
   "source": [
    "cluster = LocalCluster()\n",
    "client = Client(cluster) # start a local Dask client"
   ]
  },
  {
   "cell_type": "code",
   "execution_count": 101,
   "metadata": {
    "ExecuteTime": {
     "end_time": "2020-11-25T22:52:11.544599Z",
     "start_time": "2020-11-25T22:52:11.471602Z"
    }
   },
   "outputs": [
    {
     "data": {
      "application/vnd.jupyter.widget-view+json": {
       "model_id": "6132ecac898f478e9ade7f7cd3d61d45",
       "version_major": 2,
       "version_minor": 0
      },
      "text/plain": [
       "VBox(children=(HTML(value='<h2>LocalCluster</h2>'), HBox(children=(HTML(value='\\n<div>\\n  <style scoped>\\n    …"
      ]
     },
     "metadata": {},
     "output_type": "display_data"
    }
   ],
   "source": [
    "cluster"
   ]
  },
  {
   "cell_type": "markdown",
   "metadata": {},
   "source": [
    "# Data"
   ]
  },
  {
   "cell_type": "markdown",
   "metadata": {},
   "source": [
    "#### Import Data"
   ]
  },
  {
   "cell_type": "code",
   "execution_count": 102,
   "metadata": {
    "ExecuteTime": {
     "end_time": "2020-11-25T22:52:11.603597Z",
     "start_time": "2020-11-25T22:52:11.545599Z"
    }
   },
   "outputs": [],
   "source": [
    "# Connect to the PostgreSQL database riiid_education we created previously\n",
    "# Note: Run create SQL database notebook if database not created\n",
    "DBNAME = \"riiid_education\"\n",
    "conn = psycopg2.connect(dbname=DBNAME)\n",
    "cursor = conn.cursor()"
   ]
  },
  {
   "cell_type": "code",
   "execution_count": 103,
   "metadata": {
    "ExecuteTime": {
     "end_time": "2020-11-25T22:52:11.693594Z",
     "start_time": "2020-11-25T22:52:11.608596Z"
    }
   },
   "outputs": [
    {
     "data": {
      "text/plain": [
       "['train', 'questions', 'lectures', 'example_test']"
      ]
     },
     "execution_count": 103,
     "metadata": {},
     "output_type": "execute_result"
    }
   ],
   "source": [
    "#create a list of the table names\n",
    "cursor.execute(\"\"\"SELECT table_name FROM information_schema.tables\n",
    "       WHERE table_schema = 'public'\"\"\")\n",
    "tables = []\n",
    "for table in cursor.fetchall():\n",
    "    tables.append(table[0])\n",
    "tables"
   ]
  },
  {
   "cell_type": "code",
   "execution_count": 104,
   "metadata": {
    "ExecuteTime": {
     "end_time": "2020-11-25T22:53:25.095693Z",
     "start_time": "2020-11-25T22:52:11.696594Z"
    }
   },
   "outputs": [],
   "source": [
    "# Read in Data from Database\n",
    "train = pd.read_csv('../../data/train.csv')\n",
    "# train = pd.read_sql(\"\"\"SELECT * \n",
    "# FROM train;\"\"\", conn)\n",
    "questions = pd.read_sql(\"SELECT * FROM questions;\", conn)\n",
    "lectures = pd.read_sql(\"SELECT * FROM lectures;\", conn)\n",
    "conn.close()"
   ]
  },
  {
   "cell_type": "markdown",
   "metadata": {},
   "source": [
    "### Explore Data"
   ]
  },
  {
   "cell_type": "code",
   "execution_count": 105,
   "metadata": {
    "ExecuteTime": {
     "end_time": "2020-11-25T22:53:25.140794Z",
     "start_time": "2020-11-25T22:53:25.099693Z"
    }
   },
   "outputs": [
    {
     "data": {
      "text/html": [
       "<div>\n",
       "<style scoped>\n",
       "    .dataframe tbody tr th:only-of-type {\n",
       "        vertical-align: middle;\n",
       "    }\n",
       "\n",
       "    .dataframe tbody tr th {\n",
       "        vertical-align: top;\n",
       "    }\n",
       "\n",
       "    .dataframe thead th {\n",
       "        text-align: right;\n",
       "    }\n",
       "</style>\n",
       "<table border=\"1\" class=\"dataframe\">\n",
       "  <thead>\n",
       "    <tr style=\"text-align: right;\">\n",
       "      <th></th>\n",
       "      <th>row_id</th>\n",
       "      <th>timestamp</th>\n",
       "      <th>user_id</th>\n",
       "      <th>content_id</th>\n",
       "      <th>content_type_id</th>\n",
       "      <th>task_container_id</th>\n",
       "      <th>user_answer</th>\n",
       "      <th>answered_correctly</th>\n",
       "      <th>prior_question_elapsed_time</th>\n",
       "      <th>prior_question_had_explanation</th>\n",
       "    </tr>\n",
       "  </thead>\n",
       "  <tbody>\n",
       "    <tr>\n",
       "      <th>0</th>\n",
       "      <td>0</td>\n",
       "      <td>0</td>\n",
       "      <td>115</td>\n",
       "      <td>5692</td>\n",
       "      <td>0</td>\n",
       "      <td>1</td>\n",
       "      <td>3</td>\n",
       "      <td>1</td>\n",
       "      <td>NaN</td>\n",
       "      <td>NaN</td>\n",
       "    </tr>\n",
       "    <tr>\n",
       "      <th>1</th>\n",
       "      <td>1</td>\n",
       "      <td>56943</td>\n",
       "      <td>115</td>\n",
       "      <td>5716</td>\n",
       "      <td>0</td>\n",
       "      <td>2</td>\n",
       "      <td>2</td>\n",
       "      <td>1</td>\n",
       "      <td>37000.0</td>\n",
       "      <td>False</td>\n",
       "    </tr>\n",
       "    <tr>\n",
       "      <th>2</th>\n",
       "      <td>2</td>\n",
       "      <td>118363</td>\n",
       "      <td>115</td>\n",
       "      <td>128</td>\n",
       "      <td>0</td>\n",
       "      <td>0</td>\n",
       "      <td>0</td>\n",
       "      <td>1</td>\n",
       "      <td>55000.0</td>\n",
       "      <td>False</td>\n",
       "    </tr>\n",
       "    <tr>\n",
       "      <th>3</th>\n",
       "      <td>3</td>\n",
       "      <td>131167</td>\n",
       "      <td>115</td>\n",
       "      <td>7860</td>\n",
       "      <td>0</td>\n",
       "      <td>3</td>\n",
       "      <td>0</td>\n",
       "      <td>1</td>\n",
       "      <td>19000.0</td>\n",
       "      <td>False</td>\n",
       "    </tr>\n",
       "    <tr>\n",
       "      <th>4</th>\n",
       "      <td>4</td>\n",
       "      <td>137965</td>\n",
       "      <td>115</td>\n",
       "      <td>7922</td>\n",
       "      <td>0</td>\n",
       "      <td>4</td>\n",
       "      <td>1</td>\n",
       "      <td>1</td>\n",
       "      <td>11000.0</td>\n",
       "      <td>False</td>\n",
       "    </tr>\n",
       "  </tbody>\n",
       "</table>\n",
       "</div>"
      ],
      "text/plain": [
       "   row_id  timestamp  user_id  content_id  content_type_id  task_container_id  \\\n",
       "0       0          0      115        5692                0                  1   \n",
       "1       1      56943      115        5716                0                  2   \n",
       "2       2     118363      115         128                0                  0   \n",
       "3       3     131167      115        7860                0                  3   \n",
       "4       4     137965      115        7922                0                  4   \n",
       "\n",
       "   user_answer  answered_correctly  prior_question_elapsed_time  \\\n",
       "0            3                   1                          NaN   \n",
       "1            2                   1                      37000.0   \n",
       "2            0                   1                      55000.0   \n",
       "3            0                   1                      19000.0   \n",
       "4            1                   1                      11000.0   \n",
       "\n",
       "  prior_question_had_explanation  \n",
       "0                            NaN  \n",
       "1                          False  \n",
       "2                          False  \n",
       "3                          False  \n",
       "4                          False  "
      ]
     },
     "execution_count": 105,
     "metadata": {},
     "output_type": "execute_result"
    }
   ],
   "source": [
    "train.head()"
   ]
  },
  {
   "cell_type": "markdown",
   "metadata": {},
   "source": [
    "<b>Description of Features in Train</b>\n",
    "\n",
    "`row_id` - ID for the row.\n",
    "\n",
    "`timestamp` - the time between this user interaction and the first event from that user.\n",
    "\n",
    "`user_id` - ID for the user.\n",
    "\n",
    "`content_id` - ID for the user interaction\n",
    "\n",
    "`content_type_id` - 0 if the event was a question being posed to the user, 1 if the event was the user watching a lecture. Every row with 1 has an answered_correctly value of not answered(-1). Filtering out all rows with content id 1 filters out all the unanswered questions. This is the culprit of our 100% predictions on unanswered.\n",
    "\n",
    "`task_container_id` - ID for the batch of questions or lectures. For example, a user might see three questions in a row before seeing the explanations for any of them. Those three would all share a task_container_id. Monotonically increasing for each user.\n",
    "\n",
    "`user_answer` - the user's answer to the question, if any. Read -1 as null, for lectures.\n",
    "\n",
    "`answered_correctly` - if the user responded correctly. Read -1 as null, for lectures.\n",
    "\n",
    "`prior_question_elapsed_time` - How long it took a user to answer their previous question bundle, ignoring any lectures in between. The value is shared across a single question bundle, and is null for a user's first question bundle or lecture. Note that the time is the total time a user took to solve all the questions in the previous bundle.\n",
    "\n",
    "`prior_question_had_explanation` - Whether or not the user saw an explanation and the correct response(s) after answering the previous question bundle, ignoring any lectures in between. The value is shared across a single question bundle, and is null for a user's first question bundle or lecture. Typically the first several questions a user sees were part of an onboarding diagnostic test where they did not get any feedback."
   ]
  },
  {
   "cell_type": "code",
   "execution_count": 106,
   "metadata": {
    "ExecuteTime": {
     "end_time": "2020-11-25T22:53:25.155793Z",
     "start_time": "2020-11-25T22:53:25.141794Z"
    }
   },
   "outputs": [
    {
     "data": {
      "text/plain": [
       "(101230332, 10)"
      ]
     },
     "execution_count": 106,
     "metadata": {},
     "output_type": "execute_result"
    }
   ],
   "source": [
    "train.shape\n",
    "# 101,230,332 rows"
   ]
  },
  {
   "cell_type": "code",
   "execution_count": 107,
   "metadata": {
    "ExecuteTime": {
     "end_time": "2020-11-25T22:54:00.825929Z",
     "start_time": "2020-11-25T22:53:25.158793Z"
    },
    "scrolled": true
   },
   "outputs": [
    {
     "name": "stdout",
     "output_type": "stream",
     "text": [
      "Count of unique values in each column\n",
      "row_id: 101230332\n",
      "timestamp: 72821015\n",
      "user_id: 393656\n",
      "content_id: 13782\n",
      "content_type_id: 2\n",
      "task_container_id: 10000\n",
      "user_answer: 5\n",
      "answered_correctly: 3\n",
      "prior_question_elapsed_time: 3258\n",
      "prior_question_had_explanation: 2\n"
     ]
    }
   ],
   "source": [
    "# Find number of unique values in each column\n",
    "print(\"Count of unique values in each column\")\n",
    "for column in train.columns:\n",
    "    print(f\"{column}: {train[column].nunique()}\")"
   ]
  },
  {
   "cell_type": "code",
   "execution_count": 108,
   "metadata": {
    "ExecuteTime": {
     "end_time": "2020-11-25T22:54:14.628591Z",
     "start_time": "2020-11-25T22:54:00.827916Z"
    }
   },
   "outputs": [],
   "source": [
    "# Drop all rows with answered_correctly is blank (-1) since these are lectures, not questions\n",
    "train = train[train.content_type_id != 1]"
   ]
  },
  {
   "cell_type": "markdown",
   "metadata": {},
   "source": [
    "Categorical Features: `content_type_id`, `user_answer`, `answered_correctly`, `prior_question_had_explanation`"
   ]
  },
  {
   "cell_type": "code",
   "execution_count": 109,
   "metadata": {
    "ExecuteTime": {
     "end_time": "2020-11-25T22:54:14.692580Z",
     "start_time": "2020-11-25T22:54:14.670591Z"
    },
    "scrolled": true
   },
   "outputs": [
    {
     "data": {
      "text/html": [
       "<div>\n",
       "<style scoped>\n",
       "    .dataframe tbody tr th:only-of-type {\n",
       "        vertical-align: middle;\n",
       "    }\n",
       "\n",
       "    .dataframe tbody tr th {\n",
       "        vertical-align: top;\n",
       "    }\n",
       "\n",
       "    .dataframe thead th {\n",
       "        text-align: right;\n",
       "    }\n",
       "</style>\n",
       "<table border=\"1\" class=\"dataframe\">\n",
       "  <thead>\n",
       "    <tr style=\"text-align: right;\">\n",
       "      <th></th>\n",
       "      <th>question</th>\n",
       "      <th>bundle_id</th>\n",
       "      <th>correct_answer</th>\n",
       "      <th>part</th>\n",
       "      <th>tags</th>\n",
       "    </tr>\n",
       "  </thead>\n",
       "  <tbody>\n",
       "    <tr>\n",
       "      <th>0</th>\n",
       "      <td>0</td>\n",
       "      <td>0</td>\n",
       "      <td>0</td>\n",
       "      <td>1</td>\n",
       "      <td>51 131 162 38                                 ...</td>\n",
       "    </tr>\n",
       "    <tr>\n",
       "      <th>1</th>\n",
       "      <td>1</td>\n",
       "      <td>1</td>\n",
       "      <td>1</td>\n",
       "      <td>1</td>\n",
       "      <td>131 36 81                                     ...</td>\n",
       "    </tr>\n",
       "    <tr>\n",
       "      <th>2</th>\n",
       "      <td>2</td>\n",
       "      <td>2</td>\n",
       "      <td>0</td>\n",
       "      <td>1</td>\n",
       "      <td>131 101 162 92                                ...</td>\n",
       "    </tr>\n",
       "    <tr>\n",
       "      <th>3</th>\n",
       "      <td>3</td>\n",
       "      <td>3</td>\n",
       "      <td>0</td>\n",
       "      <td>1</td>\n",
       "      <td>131 149 162 29                                ...</td>\n",
       "    </tr>\n",
       "    <tr>\n",
       "      <th>4</th>\n",
       "      <td>4</td>\n",
       "      <td>4</td>\n",
       "      <td>3</td>\n",
       "      <td>1</td>\n",
       "      <td>131 5 162 38                                  ...</td>\n",
       "    </tr>\n",
       "  </tbody>\n",
       "</table>\n",
       "</div>"
      ],
      "text/plain": [
       "   question  bundle_id  correct_answer  part  \\\n",
       "0         0          0               0     1   \n",
       "1         1          1               1     1   \n",
       "2         2          2               0     1   \n",
       "3         3          3               0     1   \n",
       "4         4          4               3     1   \n",
       "\n",
       "                                                tags  \n",
       "0  51 131 162 38                                 ...  \n",
       "1  131 36 81                                     ...  \n",
       "2  131 101 162 92                                ...  \n",
       "3  131 149 162 29                                ...  \n",
       "4  131 5 162 38                                  ...  "
      ]
     },
     "execution_count": 109,
     "metadata": {},
     "output_type": "execute_result"
    }
   ],
   "source": [
    "questions.head()"
   ]
  },
  {
   "cell_type": "markdown",
   "metadata": {},
   "source": [
    "<b>Description of Features in Questions</b>\n",
    "\n",
    "`question` - foreign key for the train/test content_id column, when the content type is question (0).\n",
    "\n",
    "`bundle_id` - code for which questions are served together.\n",
    "\n",
    "`correct_answer` - the answer to the question. Can be compared with the train user_answer column to check if the user was right.\n",
    "\n",
    "`part` - top level category code for the question.\n",
    "\n",
    "`tags` - one or more detailed tag codes for the question. The meaning of the tags will not be provided, but these codes are sufficient for clustering the questions together."
   ]
  },
  {
   "cell_type": "code",
   "execution_count": 110,
   "metadata": {
    "ExecuteTime": {
     "end_time": "2020-11-25T22:54:14.707589Z",
     "start_time": "2020-11-25T22:54:14.697580Z"
    }
   },
   "outputs": [
    {
     "data": {
      "text/plain": [
       "(13523, 5)"
      ]
     },
     "execution_count": 110,
     "metadata": {},
     "output_type": "execute_result"
    }
   ],
   "source": [
    "questions.shape"
   ]
  },
  {
   "cell_type": "code",
   "execution_count": 111,
   "metadata": {
    "ExecuteTime": {
     "end_time": "2020-11-25T22:54:14.738578Z",
     "start_time": "2020-11-25T22:54:14.710578Z"
    }
   },
   "outputs": [
    {
     "name": "stdout",
     "output_type": "stream",
     "text": [
      "Count of unique values in each column\n",
      "question: 13523\n",
      "bundle_id: 9765\n",
      "correct_answer: 4\n",
      "part: 7\n",
      "tags: 1519\n"
     ]
    }
   ],
   "source": [
    "# Find number of unique values in each column\n",
    "print(\"Count of unique values in each column\")\n",
    "for column in questions.columns:\n",
    "    print(f\"{column}: {questions[column].nunique()}\")"
   ]
  },
  {
   "cell_type": "markdown",
   "metadata": {},
   "source": [
    "Categorical Features: `correct_answer`, `part`\n",
    "\n",
    "Note - Should only need bundle_id and part column. If i use tag column, will need to split the tags to a feature each"
   ]
  },
  {
   "cell_type": "code",
   "execution_count": 112,
   "metadata": {
    "ExecuteTime": {
     "end_time": "2020-11-25T22:54:14.755578Z",
     "start_time": "2020-11-25T22:54:14.740577Z"
    },
    "scrolled": true
   },
   "outputs": [
    {
     "data": {
      "text/html": [
       "<div>\n",
       "<style scoped>\n",
       "    .dataframe tbody tr th:only-of-type {\n",
       "        vertical-align: middle;\n",
       "    }\n",
       "\n",
       "    .dataframe tbody tr th {\n",
       "        vertical-align: top;\n",
       "    }\n",
       "\n",
       "    .dataframe thead th {\n",
       "        text-align: right;\n",
       "    }\n",
       "</style>\n",
       "<table border=\"1\" class=\"dataframe\">\n",
       "  <thead>\n",
       "    <tr style=\"text-align: right;\">\n",
       "      <th></th>\n",
       "      <th>lecture_id</th>\n",
       "      <th>tag</th>\n",
       "      <th>part</th>\n",
       "      <th>type_of</th>\n",
       "    </tr>\n",
       "  </thead>\n",
       "  <tbody>\n",
       "    <tr>\n",
       "      <th>0</th>\n",
       "      <td>89</td>\n",
       "      <td>159</td>\n",
       "      <td>5</td>\n",
       "      <td>concept</td>\n",
       "    </tr>\n",
       "    <tr>\n",
       "      <th>1</th>\n",
       "      <td>100</td>\n",
       "      <td>70</td>\n",
       "      <td>1</td>\n",
       "      <td>concept</td>\n",
       "    </tr>\n",
       "    <tr>\n",
       "      <th>2</th>\n",
       "      <td>185</td>\n",
       "      <td>45</td>\n",
       "      <td>6</td>\n",
       "      <td>concept</td>\n",
       "    </tr>\n",
       "    <tr>\n",
       "      <th>3</th>\n",
       "      <td>192</td>\n",
       "      <td>79</td>\n",
       "      <td>5</td>\n",
       "      <td>solving question</td>\n",
       "    </tr>\n",
       "    <tr>\n",
       "      <th>4</th>\n",
       "      <td>317</td>\n",
       "      <td>156</td>\n",
       "      <td>5</td>\n",
       "      <td>solving question</td>\n",
       "    </tr>\n",
       "  </tbody>\n",
       "</table>\n",
       "</div>"
      ],
      "text/plain": [
       "   lecture_id  tag  part               type_of\n",
       "0          89  159     5  concept             \n",
       "1         100   70     1  concept             \n",
       "2         185   45     6  concept             \n",
       "3         192   79     5  solving question    \n",
       "4         317  156     5  solving question    "
      ]
     },
     "execution_count": 112,
     "metadata": {},
     "output_type": "execute_result"
    }
   ],
   "source": [
    "lectures.head()"
   ]
  },
  {
   "cell_type": "markdown",
   "metadata": {},
   "source": [
    "<b>Description of Features in Questions</b>\n",
    "\n",
    "`lecture_id` - foreign key for the train/test content_id column, when the content type is lecture (1).\n",
    "\n",
    "`part` - top level category code for the lecture.\n",
    "\n",
    "`tag` - one tag codes for the lecture. The meaning of the tags will not be provided, but these codes are sufficient for clustering the lectures together.\n",
    "\n",
    "`type_of` - brief description of the core purpose of the lecture"
   ]
  },
  {
   "cell_type": "code",
   "execution_count": 113,
   "metadata": {
    "ExecuteTime": {
     "end_time": "2020-11-25T22:54:14.773578Z",
     "start_time": "2020-11-25T22:54:14.758577Z"
    }
   },
   "outputs": [
    {
     "name": "stdout",
     "output_type": "stream",
     "text": [
      "Count of unique values in each column\n",
      "lecture_id: 418\n",
      "tag: 151\n",
      "part: 7\n",
      "type_of: 4\n"
     ]
    }
   ],
   "source": [
    "# Find number of unique values in each column\n",
    "print(\"Count of unique values in each column\")\n",
    "for column in lectures.columns:\n",
    "    print(f\"{column}: {lectures[column].nunique()}\")"
   ]
  },
  {
   "cell_type": "markdown",
   "metadata": {},
   "source": [
    "#### Merge train and questions tables"
   ]
  },
  {
   "cell_type": "code",
   "execution_count": 114,
   "metadata": {
    "ExecuteTime": {
     "end_time": "2020-11-25T22:55:32.149406Z",
     "start_time": "2020-11-25T22:54:14.775576Z"
    }
   },
   "outputs": [],
   "source": [
    "df = train.merge(questions, left_on='content_id', right_on='question', how='left')"
   ]
  },
  {
   "cell_type": "code",
   "execution_count": 115,
   "metadata": {
    "ExecuteTime": {
     "end_time": "2020-11-25T22:56:37.265574Z",
     "start_time": "2020-11-25T22:55:32.232376Z"
    }
   },
   "outputs": [],
   "source": [
    "# Drop the columns we don't need\n",
    "# question is already there as content id\n",
    "# user_answer doesn't make sense to have - we can't know that in advance\n",
    "# There are only 2 unique content_type_ids and we dropped one type, no point having a column of zeros\n",
    "# tags has to do with the lecture tags, adressing would be way too calculation heavy for my computer to handle.\n",
    "df.drop(['tags', 'question', 'user_answer', 'content_type_id'], axis=1, inplace=True)"
   ]
  },
  {
   "cell_type": "markdown",
   "metadata": {},
   "source": [
    "#### Feature Engineering"
   ]
  },
  {
   "cell_type": "code",
   "execution_count": 116,
   "metadata": {
    "ExecuteTime": {
     "end_time": "2020-11-25T22:56:50.811170Z",
     "start_time": "2020-11-25T22:56:37.286572Z"
    }
   },
   "outputs": [],
   "source": [
    "# Engineer Feature for how many questions this user has answered prior\n",
    "df[\"user_question_count\"] = df.groupby(\"user_id\").cumcount() + 1"
   ]
  },
  {
   "cell_type": "code",
   "execution_count": 117,
   "metadata": {
    "ExecuteTime": {
     "end_time": "2020-11-25T22:57:52.205067Z",
     "start_time": "2020-11-25T22:56:50.838170Z"
    }
   },
   "outputs": [],
   "source": [
    "# Engineer Feature for average time per questions per user for prior questions\n",
    "cumsum = df.groupby(\"user_id\")[\"prior_question_elapsed_time\"].cumsum()\n",
    "count = df.groupby(\"user_id\").cumcount() + 1\n",
    "df[\"avg_time_per_question\"] = round(cumsum/count, 0)"
   ]
  },
  {
   "cell_type": "code",
   "execution_count": 118,
   "metadata": {
    "ExecuteTime": {
     "end_time": "2020-11-25T22:57:54.092876Z",
     "start_time": "2020-11-25T22:57:52.232067Z"
    }
   },
   "outputs": [],
   "source": [
    "df['prior_question_had_explanation'] = df['prior_question_had_explanation'].astype('bool')"
   ]
  },
  {
   "cell_type": "code",
   "execution_count": 119,
   "metadata": {
    "ExecuteTime": {
     "end_time": "2020-11-25T22:57:59.484977Z",
     "start_time": "2020-11-25T22:57:54.100876Z"
    }
   },
   "outputs": [],
   "source": [
    "# Split data into features and target\n",
    "X = df.drop('answered_correctly', axis=1)\n",
    "y = df['answered_correctly'] "
   ]
  },
  {
   "cell_type": "markdown",
   "metadata": {},
   "source": [
    "### Data Visualization"
   ]
  },
  {
   "cell_type": "code",
   "execution_count": 22,
   "metadata": {
    "ExecuteTime": {
     "end_time": "2020-11-25T21:59:35.508323Z",
     "start_time": "2020-11-25T21:59:35.500322Z"
    }
   },
   "outputs": [],
   "source": [
    "# # Class Distribution for ppt\n",
    "# sns.set(context = 'notebook',  style = 'whitegrid')\n",
    "# fig, ax = plt.subplots(figsize = (6,6)) \n",
    "# ax = sns.countplot(y, palette = ['#d77ead', '#645ca7'])\n",
    "# ax.axes.set_title(\"Class Distribution\",fontsize=28, color='white')\n",
    "# ax.set_xlabel(\"Answers\",fontsize=22, color='white', labelpad=10)\n",
    "# ax.set_ylabel(\"Count\",fontsize=22, color='white', labelpad=10)\n",
    "# ax.set_xticklabels(['Incorrect', \"Correct\"], fontsize=15, color='white')\n",
    "# ax.set_yticklabels(['0', '10,000,000', '20,000,000', '30,000,000', '40,000,000', '50,000,000', '60,000,000'],\n",
    "# fontsize=15, color='white')\n",
    "# ax.grid(color='white', axis='y')\n",
    "# ax.spines['right'].set_visible(False)\n",
    "# ax.spines['top'].set_visible(False)\n",
    "# ax.spines['left'].set_visible(False)\n",
    "# ax.spines['bottom'].set_color('White')\n",
    "# # ax.yaxis.set_major_formatter(ticker.StrMethodFormatter('{x:,.0f}'))\n",
    "# plt.savefig('../../reports/figures/class_imbalance_ppt.png', bbox_inches='tight', transparent=True);"
   ]
  },
  {
   "cell_type": "code",
   "execution_count": 23,
   "metadata": {
    "ExecuteTime": {
     "end_time": "2020-11-25T21:59:58.575095Z",
     "start_time": "2020-11-25T21:59:35.514323Z"
    }
   },
   "outputs": [
    {
     "data": {
      "image/png": "[encoded data removed]",
      "text/plain": [
       "<Figure size 432x432 with 1 Axes>"
      ]
     },
     "metadata": {},
     "output_type": "display_data"
    }
   ],
   "source": [
    "# Class Distribution\n",
    "sns.set(context = 'notebook', style='whitegrid')\n",
    "fig, ax = plt.subplots(figsize = (6,6)) \n",
    "ax = sns.countplot(y, palette = ['#d77ead', '#645ca7'], alpha=.8)\n",
    "ax.axes.set_title(\"Class Distribution\",fontsize=28)\n",
    "ax.set_xlabel(\"Answers\",fontsize=22, labelpad=10)\n",
    "ax.set_ylabel(\"Count\",fontsize=22, labelpad=10)\n",
    "ax.set_xticklabels(['Incorrect', \"Correct\"], fontsize=16)\n",
    "# ax.set_yticklabels(['0', '10,000', '20,000', '30,000', '40,000', '50,000', '60,000'], fontsize=15)\n",
    "ax.spines['top'].set_visible(False)\n",
    "ax.spines['right'].set_visible(False)\n",
    "ax.spines['left'].set_visible(False)\n",
    "ax.yaxis.set_major_formatter(ticker.StrMethodFormatter('{x:,.0f}'))\n",
    "plt.savefig('../../reports/figures/class_imbalance_ppt.png', bbox_inches='tight', transparent=True);"
   ]
  },
  {
   "cell_type": "code",
   "execution_count": 24,
   "metadata": {
    "ExecuteTime": {
     "end_time": "2020-11-25T21:59:58.590611Z",
     "start_time": "2020-11-25T21:59:58.579096Z"
    }
   },
   "outputs": [],
   "source": [
    "# # PPT Viz for Questions Answered per Topic\n",
    "# plt.figure(figsize = (10, 5))\n",
    "# ax = sns.countplot(data=df, x='part', hue='answered_correctly', palette=['#d77ead', '#645ca7'])\n",
    "# ax.set(xlabel = '', ylabel = '')\n",
    "# legend_labels, _= ax.get_legend_handles_labels()\n",
    "# ax.legend(legend_labels, ['Incorrect','Correct'], fontsize='large', title_fontsize='20')\n",
    "# ax.axes.set_title(\"Questions Answered per Topic\", y= 1.1, fontsize=25, color='white')\n",
    "# ax.set_xlabel(\"Topic\",fontsize=22, color='white', labelpad=10)\n",
    "# ax.set_ylabel(\"Count\",fontsize=22, color='white', labelpad=10)\n",
    "# ax.set_xticklabels(['1', '2', '3', '4', '5', '6', '7'], fontsize=15, color='white')\n",
    "# ax.set_yticklabels(['0', '5,000,000', '10,000,000', '15,000,000', '20,000,000', '25,000,000'], fontsize=15, color='white')\n",
    "# ax.grid(color='white', axis='y')\n",
    "# ax.spines['right'].set_visible(False)\n",
    "# ax.spines['top'].set_visible(False)\n",
    "# ax.spines['left'].set_visible(False)\n",
    "# ax.spines['bottom'].set_color('white')\n",
    "# ax.yaxis.set_major_formatter(ticker.StrMethodFormatter('{x:,.0f}'))\n",
    "# plt.savefig('../../reports/figures/parts_ppt.png', bbox_inches='tight', transparent=True);"
   ]
  },
  {
   "cell_type": "code",
   "execution_count": 124,
   "metadata": {
    "ExecuteTime": {
     "end_time": "2020-11-25T23:15:29.493067Z",
     "start_time": "2020-11-25T23:15:14.789509Z"
    }
   },
   "outputs": [
    {
     "data": {
      "image/png": "[encoded data removed]",
      "text/plain": [
       "<Figure size 720x360 with 1 Axes>"
      ]
     },
     "metadata": {},
     "output_type": "display_data"
    }
   ],
   "source": [
    "# Viz for Questions Answered per Topic\n",
    "sns.set(context = 'notebook', style='whitegrid')\n",
    "plt.figure(figsize = (10, 5))\n",
    "ax = sns.countplot(data=df, x='part', hue='answered_correctly', palette=['#d77ead', '#645ca7'], alpha=.8)\n",
    "ax.set(xlabel = '', ylabel = '')\n",
    "legend_labels, _= ax.get_legend_handles_labels()\n",
    "ax.legend(legend_labels, ['Incorrect','Correct'], fontsize='large', title_fontsize='20')\n",
    "ax.axes.set_title(\"Questions Answered per Topic\", y= 1.1, fontsize=25, color='black')\n",
    "ax.set_xlabel(\"Topic\",fontsize=22, color='black', labelpad=10)\n",
    "ax.set_ylabel(\"Count\",fontsize=22, color='black', labelpad=10)\n",
    "ax.set_xticklabels(['1', '2', '3', '4', '5', '6', '7'], fontsize=15, color='black')\n",
    "# ax.set_yticklabels(['0', '5,000,000', '10,000,000', '15,000,000', '20,000,000', '25,000,000'], fontsize=15, color='black')\n",
    "# ax.grid(color='white', axis='y')\n",
    "ax.spines['right'].set_visible(False)\n",
    "ax.spines['top'].set_visible(False)\n",
    "ax.spines['left'].set_visible(False)\n",
    "ax.spines['bottom'].set_color('black')\n",
    "ax.yaxis.set_major_formatter(ticker.StrMethodFormatter('{x:,.0f}'))\n",
    "plt.savefig('../../reports/figures/parts.png', bbox_inches='tight', transparent=True);"
   ]
  },
  {
   "cell_type": "code",
   "execution_count": 125,
   "metadata": {
    "ExecuteTime": {
     "end_time": "2020-11-25T23:15:29.508066Z",
     "start_time": "2020-11-25T23:15:29.496068Z"
    }
   },
   "outputs": [],
   "source": [
    "# # PPT Viz\n",
    "# plt.figure(figsize = (5, 5))\n",
    "# ax = sns.countplot(data=df, x='prior_question_had_explanation', hue='answered_correctly', palette=['#d77ead', '#645ca7'])\n",
    "# legend_labels, _= ax.get_legend_handles_labels()\n",
    "# ax.legend(legend_labels, ['Incorrect','Correct'], fontsize='large', title_fontsize='20', loc='upper center')\n",
    "# ax.axes.set_title(\"Prior Question had Explanation\", y= 1.1, fontsize=25, color='white')\n",
    "# ax.set_xlabel(\"Prior Question\",fontsize=22, color='white', labelpad=10)\n",
    "# ax.set_ylabel(\"Count\",fontsize=22, color='white', labelpad=10)\n",
    "# ax.set_xticklabels(['Explanation', 'No Explanation'], fontsize=15, color='white')\n",
    "# ax.set_yticklabels(['0', '10,000,000', '20,000,000', '30,000,000', '40,000,000', '50,000,000', '60,000,000'],\n",
    "# fontsize=15, color='white')\n",
    "# ax.grid(color='white', axis='y')\n",
    "# ax.spines['right'].set_visible(False)\n",
    "# ax.spines['top'].set_visible(False)\n",
    "# ax.spines['left'].set_visible(False)\n",
    "# ax.spines['bottom'].set_color('white')\n",
    "# # ax.yaxis.set_major_formatter(ticker.StrMethodFormatter('{x:,.0f}'))\n",
    "# plt.savefig('../../reports/figures/prior_q_explanation_ppt.png', bbox_inches='tight', transparent=True);"
   ]
  },
  {
   "cell_type": "code",
   "execution_count": 126,
   "metadata": {
    "ExecuteTime": {
     "end_time": "2020-11-25T23:15:42.976863Z",
     "start_time": "2020-11-25T23:15:29.511066Z"
    }
   },
   "outputs": [
    {
     "data": {
      "image/png": "[encoded data removed]",
      "text/plain": [
       "<Figure size 360x360 with 1 Axes>"
      ]
     },
     "metadata": {},
     "output_type": "display_data"
    }
   ],
   "source": [
    "plt.figure(figsize = (5, 5))\n",
    "ax = sns.countplot(data=df, x='prior_question_had_explanation', hue='answered_correctly', palette=['#d77ead', '#645ca7'], alpha=.8)\n",
    "legend_labels, _= ax.get_legend_handles_labels()\n",
    "ax.legend(legend_labels, ['Incorrect','Correct'], fontsize='large', title_fontsize='20', loc='upper center')\n",
    "ax.axes.set_title(\"Prior Question had Explanation\", y= 1.1, fontsize=25, color='black')\n",
    "ax.set_xlabel(\"Prior Question\",fontsize=22, color='black', labelpad=10)\n",
    "ax.set_ylabel(\"Count\",fontsize=22, color='black', labelpad=10)\n",
    "ax.set_xticklabels(['Explanation', 'No Explanation'], fontsize=15, color='black')\n",
    "# ax.grid(color='white', axis='y')\n",
    "ax.spines['right'].set_visible(False)\n",
    "ax.spines['top'].set_visible(False)\n",
    "ax.spines['left'].set_visible(False)\n",
    "ax.spines['bottom'].set_color('black')\n",
    "ax.yaxis.set_major_formatter(ticker.StrMethodFormatter('{x:,.0f}'))\n",
    "plt.savefig('../../reports/figures/prior_q_explanation.png', bbox_inches='tight', transparent=True);"
   ]
  },
  {
   "cell_type": "code",
   "execution_count": 128,
   "metadata": {
    "ExecuteTime": {
     "end_time": "2020-11-25T23:20:11.949456Z",
     "start_time": "2020-11-25T23:20:11.928448Z"
    }
   },
   "outputs": [],
   "source": [
    "# # Average Time per Question\n",
    "# plt.figure(figsize = (6, 6))\n",
    "# ax = sns.barplot('answered_correctly', 'avg_time_per_question', estimator=np.mean, data=df,\n",
    "#                  palette=['#d77ead', '#645ca7'], alpha=.8)\n",
    "# ax.set_xticklabels(['Incorrect', 'Correct'], fontsize=15, color='black')\n",
    "# # legend_labels, _= ax.get_legend_handles_labels()\n",
    "# # ax.legend(legend_labels, ['Incorrect','Correct'], fontsize='large', title_fontsize='20')\n",
    "# ax.axes.set_title(\"Average Time per Question\", y= 1.1, fontsize=25, color='black')\n",
    "# ax.set_xlabel(\"Answers\",fontsize=22, color='black', labelpad=10)\n",
    "# ax.set_ylabel(\"Time(milliseconds)\",fontsize=22, color='black', labelpad=10)\n",
    "# # ax.set_xticklabels(['1', '2', '3', '4', '5', '6', '7'], fontsize=15, color='white')\n",
    "# # ax.set_yticklabels(['0', '5,000', '10,000', '15,000', '20,000', '25,000'], fontsize=15, color='black')\n",
    "# ax.yaxis.set_major_formatter(ticker.StrMethodFormatter('{x:,.0f}'))\n",
    "# ax.spines['right'].set_visible(False)\n",
    "# ax.spines['top'].set_visible(False)\n",
    "# ax.spines['left'].set_visible(False)\n",
    "# ax.spines['bottom'].set_color('black')\n",
    "# plt.savefig('../../reports/figures/Average_Time_Per_Question.png', bbox_inches='tight', transparent=True);"
   ]
  },
  {
   "cell_type": "markdown",
   "metadata": {},
   "source": [
    "#### Taking a subset of the data to work with"
   ]
  },
  {
   "cell_type": "code",
   "execution_count": 129,
   "metadata": {
    "ExecuteTime": {
     "end_time": "2020-11-25T23:20:14.812360Z",
     "start_time": "2020-11-25T23:20:13.895849Z"
    }
   },
   "outputs": [],
   "source": [
    "# Take a smaller subset of the data to work with (100,000 rows)\n",
    "# Taking the first 100,000 rows rather than a random sample because we want sequential data for each user\n",
    "DBNAME = \"riiid_education\"\n",
    "conn = psycopg2.connect(dbname=DBNAME)\n",
    "cursor = conn.cursor()\n",
    "\n",
    "data_small = pd.read_sql(\"\"\"SELECT * \n",
    "FROM train\n",
    "LIMIT 100000;\"\"\", conn)\n",
    "\n",
    "conn.close()"
   ]
  },
  {
   "cell_type": "code",
   "execution_count": 130,
   "metadata": {
    "ExecuteTime": {
     "end_time": "2020-11-25T23:20:14.827349Z",
     "start_time": "2020-11-25T23:20:14.815351Z"
    }
   },
   "outputs": [],
   "source": [
    "def engineer_data(data):\n",
    "\n",
    "    # read in questions and lectures tables from database\n",
    "    DBNAME = \"riiid_education\"\n",
    "    conn = psycopg2.connect(dbname=DBNAME)\n",
    "    cursor = conn.cursor()\n",
    "    questions = pd.read_sql(\"SELECT * FROM questions;\", conn)\n",
    "    lectures = pd.read_sql(\"SELECT * FROM lectures;\", conn)\n",
    "    conn.close()\n",
    "    \n",
    "    # Drop all rows with answered_correctly is blank (-1) since these are lectures, not questions\n",
    "    data = data[data.content_type_id != 1]\n",
    "    df = data.merge(questions, left_on='content_id', right_on='question', how='left')\n",
    "    \n",
    "    # Drop the columns we don't need\n",
    "    # question is already there as content id\n",
    "    # user_answer doesn't make sense to have - we can't know that in advance\n",
    "    # There are only 2 unique content_type_ids and we dropped one type, no point having a column of zeros\n",
    "    df.drop(['tags', 'question', 'user_answer', 'content_type_id'], axis=1, inplace=True)\n",
    "    \n",
    "    # Engineer Feature for how many questions this user has answered prior\n",
    "    df[\"user_question_count\"] = df.groupby(\"user_id\").cumcount() + 1\n",
    "    \n",
    "    # Engineer Feature for average time per questions per user for prior questions\n",
    "    cumsum = df.groupby(\"user_id\")[\"prior_question_elapsed_time\"].cumsum()\n",
    "    count = df.groupby(\"user_id\").cumcount() + 1\n",
    "    df[\"avg_time_per_question\"] = round(cumsum/count, 0)\n",
    "    \n",
    "    # Change string object type to bool on prior_question_had_explanation\n",
    "    df['prior_question_had_explanation'] = df['prior_question_had_explanation'].astype('bool')\n",
    "    \n",
    "    return df"
   ]
  },
  {
   "cell_type": "code",
   "execution_count": 131,
   "metadata": {
    "ExecuteTime": {
     "end_time": "2020-11-25T23:20:15.094234Z",
     "start_time": "2020-11-25T23:20:14.830351Z"
    }
   },
   "outputs": [],
   "source": [
    "df = engineer_data(data_small)"
   ]
  },
  {
   "cell_type": "code",
   "execution_count": 132,
   "metadata": {
    "ExecuteTime": {
     "end_time": "2020-11-25T23:20:15.342978Z",
     "start_time": "2020-11-25T23:20:15.331979Z"
    }
   },
   "outputs": [],
   "source": [
    "# # Average Prior Question Elapsed Time ppt\n",
    "# plt.figure(figsize = (6, 6))\n",
    "# ax = sns.barplot('answered_correctly', 'prior_question_elapsed_time', estimator=np.mean, data=df, palette=['#d77ead', '#645ca7'])\n",
    "# ax.set_xticklabels(['Incorrect', 'Correct'], fontsize=15, color='white')\n",
    "# # legend_labels, _= ax.get_legend_handles_labels()\n",
    "# # ax.legend(legend_labels, ['Incorrect','Correct'], fontsize='large', title_fontsize='20')\n",
    "# ax.axes.set_title(\"Average Prior Question Elapsed Time\", y= 1.1, fontsize=25, color='white')\n",
    "# ax.set_xlabel(\"Answers\",fontsize=22, color='white', labelpad=10)\n",
    "# ax.set_ylabel(\"Time (milliseconds)\",fontsize=22, color='white', labelpad=10)\n",
    "# # ax.set_xticklabels(['1', '2', '3', '4', '5', '6', '7'], fontsize=15, color='white')\n",
    "# ax.set_yticklabels(['0', '5,000', '10,000', '15,000', '20,000', '25,000'], fontsize=15, color='white')\n",
    "# # ax.yaxis.set_major_formatter(ticker.StrMethodFormatter('{x:,.0f}'))\n",
    "# ax.grid(color='white', axis='y')\n",
    "# ax.spines['right'].set_visible(False)\n",
    "# ax.spines['top'].set_visible(False)\n",
    "# ax.spines['left'].set_visible(False)\n",
    "# ax.spines['bottom'].set_color('white')\n",
    "# plt.savefig('../../reports/figures/prior_question_had_explanation_ppt.png', bbox_inches='tight', transparent=True);"
   ]
  },
  {
   "cell_type": "code",
   "execution_count": 133,
   "metadata": {
    "ExecuteTime": {
     "end_time": "2020-11-25T23:20:16.569517Z",
     "start_time": "2020-11-25T23:20:15.659517Z"
    }
   },
   "outputs": [
    {
     "data": {
      "image/png": "[encoded data removed]",
      "text/plain": [
       "<Figure size 432x432 with 1 Axes>"
      ]
     },
     "metadata": {},
     "output_type": "display_data"
    }
   ],
   "source": [
    "# Average Prior Question Elapsed Time\n",
    "plt.figure(figsize = (6, 6))\n",
    "ax = sns.barplot('answered_correctly', 'prior_question_elapsed_time', estimator=np.mean, data=df,\n",
    "                 palette=['#d77ead', '#645ca7'], alpha=.8)\n",
    "ax.set_xticklabels(['Incorrect', 'Correct'], fontsize=15, color='black')\n",
    "# legend_labels, _= ax.get_legend_handles_labels()\n",
    "# ax.legend(legend_labels, ['Incorrect','Correct'], fontsize='large', title_fontsize='20')\n",
    "ax.axes.set_title(\"Average Prior Question Elapsed Time\", y= 1.1, fontsize=25, color='black')\n",
    "ax.set_xlabel(\"Answers\",fontsize=22, color='black', labelpad=10)\n",
    "ax.set_ylabel(\"Time (milliseconds)\",fontsize=22, color='black', labelpad=10)\n",
    "# ax.set_xticklabels(['1', '2', '3', '4', '5', '6', '7'], fontsize=15, color='white')\n",
    "ax.set_yticklabels(['0', '5,000', '10,000', '15,000', '20,000', '25,000'], fontsize=15, color='black')\n",
    "# ax.yaxis.set_major_formatter(ticker.StrMethodFormatter('{x:,.0f}'))\n",
    "ax.spines['right'].set_visible(False)\n",
    "ax.spines['top'].set_visible(False)\n",
    "ax.spines['left'].set_visible(False)\n",
    "ax.spines['bottom'].set_color('black')\n",
    "plt.savefig('../../reports/figures/prior_question_had_explanation.png', bbox_inches='tight', transparent=True);"
   ]
  },
  {
   "cell_type": "code",
   "execution_count": 134,
   "metadata": {
    "ExecuteTime": {
     "end_time": "2020-11-25T23:20:30.537424Z",
     "start_time": "2020-11-25T23:20:30.526415Z"
    }
   },
   "outputs": [],
   "source": [
    "# # Average Time per Question ppt\n",
    "# plt.figure(figsize = (6, 6))\n",
    "# ax = sns.barplot('answered_correctly', 'avg_time_per_question', estimator=np.mean, data=df, palette=['#d77ead', '#645ca7'])\n",
    "# ax.set_xticklabels(['Incorrect', 'Correct'], fontsize=15, color='white')\n",
    "# # legend_labels, _= ax.get_legend_handles_labels()\n",
    "# # ax.legend(legend_labels, ['Incorrect','Correct'], fontsize='large', title_fontsize='20')\n",
    "# ax.axes.set_title(\"Average Time per Question\", y= 1.1, fontsize=25, color='white')\n",
    "# ax.set_xlabel(\"Answers\",fontsize=22, color='white', labelpad=10)\n",
    "# ax.set_ylabel(\"Time(milliseconds)\",fontsize=22, color='white', labelpad=10)\n",
    "# # ax.set_xticklabels(['1', '2', '3', '4', '5', '6', '7'], fontsize=15, color='white')\n",
    "# ax.set_yticklabels(['0', '5,000', '10,000', '15,000', '20,000', '25,000'], fontsize=15, color='white')\n",
    "# # ax.yaxis.set_major_formatter(ticker.StrMethodFormatter('{x:,.0f}'))\n",
    "# ax.grid(color='white', axis='y')\n",
    "# ax.spines['right'].set_visible(False)\n",
    "# ax.spines['top'].set_visible(False)\n",
    "# ax.spines['left'].set_visible(False)\n",
    "# ax.spines['bottom'].set_color('white')\n",
    "# plt.savefig('../../reports/figures/Average_Time_Per_Question_ppt.png', bbox_inches='tight', transparent=True);"
   ]
  },
  {
   "cell_type": "code",
   "execution_count": 135,
   "metadata": {
    "ExecuteTime": {
     "end_time": "2020-11-25T23:20:31.679857Z",
     "start_time": "2020-11-25T23:20:30.749304Z"
    }
   },
   "outputs": [
    {
     "data": {
      "image/png": "[encoded data removed]",
      "text/plain": [
       "<Figure size 432x432 with 1 Axes>"
      ]
     },
     "metadata": {},
     "output_type": "display_data"
    }
   ],
   "source": [
    "# Average Time per Question\n",
    "plt.figure(figsize = (6, 6))\n",
    "ax = sns.barplot('answered_correctly', 'avg_time_per_question', estimator=np.mean, data=df,\n",
    "                 palette=['#d77ead', '#645ca7'], alpha=.8)\n",
    "ax.set_xticklabels(['Incorrect', 'Correct'], fontsize=15, color='black')\n",
    "# legend_labels, _= ax.get_legend_handles_labels()\n",
    "# ax.legend(legend_labels, ['Incorrect','Correct'], fontsize='large', title_fontsize='20')\n",
    "ax.axes.set_title(\"Average Time per Question\", y= 1.1, fontsize=25, color='black')\n",
    "ax.set_xlabel(\"Answers\",fontsize=22, color='black', labelpad=10)\n",
    "ax.set_ylabel(\"Time(milliseconds)\",fontsize=22, color='black', labelpad=10)\n",
    "# ax.set_xticklabels(['1', '2', '3', '4', '5', '6', '7'], fontsize=15, color='white')\n",
    "ax.set_yticklabels(['0', '5,000', '10,000', '15,000', '20,000', '25,000'], fontsize=15, color='black')\n",
    "# ax.yaxis.set_major_formatter(ticker.StrMethodFormatter('{x:,.0f}'))\n",
    "ax.spines['right'].set_visible(False)\n",
    "ax.spines['top'].set_visible(False)\n",
    "ax.spines['left'].set_visible(False)\n",
    "ax.spines['bottom'].set_color('black')\n",
    "plt.savefig('../../reports/figures/Average_Time_Per_Question.png', bbox_inches='tight', transparent=True);"
   ]
  },
  {
   "cell_type": "code",
   "execution_count": 136,
   "metadata": {
    "ExecuteTime": {
     "end_time": "2020-11-25T23:20:31.693868Z",
     "start_time": "2020-11-25T23:20:31.681857Z"
    },
    "scrolled": false
   },
   "outputs": [],
   "source": [
    "# # Average Timestamp per User ppt\n",
    "# plt.figure(figsize = (6, 6))\n",
    "# ax = sns.barplot('answered_correctly', 'timestamp', estimator=np.mean, data=df, palette=['#d77ead', '#645ca7'])\n",
    "# ax.set_xticklabels(['Incorrect', 'Correct'], fontsize=15, color='white')\n",
    "# # legend_labels, _= ax.get_legend_handles_labels()\n",
    "# # ax.legend(legend_labels, ['Incorrect','Correct'], fontsize='large', title_fontsize='20')\n",
    "# ax.axes.set_title(\"Average TimeStamp per User\", y= 1.1, fontsize=25, color='white')\n",
    "# ax.set_xlabel(\"Answers\",fontsize=22, color='white', labelpad=10)\n",
    "# ax.set_ylabel(\"Time(milliseconds)\",fontsize=22, color='white', labelpad=10)\n",
    "# # ax.set_xticklabels(['1', '2', '3', '4', '5', '6', '7'], fontsize=15, color='white')\n",
    "# ax.set_yticklabels(['0', '1 billion', '1 billion', '2 billion', '3 billion', '4 billion'], fontsize=15, color='white')\n",
    "# # ax.yaxis.set_major_formatter(ticker.StrMethodFormatter('{x:,.0f}'))\n",
    "# ax.grid(color='white', axis='y')\n",
    "# ax.spines['right'].set_visible(False)\n",
    "# ax.spines['top'].set_visible(False)\n",
    "# ax.spines['left'].set_visible(False)\n",
    "# ax.spines['bottom'].set_color('white')\n",
    "# plt.savefig('../../reports/figures/average_timestamp_ppt.png', bbox_inches='tight', transparent=True);"
   ]
  },
  {
   "cell_type": "code",
   "execution_count": 137,
   "metadata": {
    "ExecuteTime": {
     "end_time": "2020-11-25T23:20:32.606511Z",
     "start_time": "2020-11-25T23:20:31.695858Z"
    }
   },
   "outputs": [
    {
     "data": {
      "image/png": "[encoded data removed]",
      "text/plain": [
       "<Figure size 432x432 with 1 Axes>"
      ]
     },
     "metadata": {},
     "output_type": "display_data"
    }
   ],
   "source": [
    "# Average Timestamp per User\n",
    "plt.figure(figsize = (6, 6))\n",
    "ax = sns.barplot('answered_correctly', 'timestamp', estimator=np.mean, data=df, palette=['#d77ead', '#645ca7'], alpha=.8)\n",
    "ax.set_xticklabels(['Incorrect', 'Correct'], fontsize=15, color='black')\n",
    "# legend_labels, _= ax.get_legend_handles_labels()\n",
    "# ax.legend(legend_labels, ['Incorrect','Correct'], fontsize='large', title_fontsize='20')\n",
    "ax.axes.set_title(\"Average TimeStamp per User\", y= 1.1, fontsize=25, color='black')\n",
    "ax.set_xlabel(\"Answers\",fontsize=22, color='black', labelpad=10)\n",
    "ax.set_ylabel(\"Time(milliseconds)\",fontsize=22, color='black', labelpad=10)\n",
    "# ax.set_xticklabels(['1', '2', '3', '4', '5', '6', '7'], fontsize=15, color='white')\n",
    "ax.set_yticklabels(['0', '1 billion', '1 billion', '2 billion', '3 billion', '4 billion'], fontsize=15, color='black')\n",
    "# ax.yaxis.set_major_formatter(ticker.StrMethodFormatter('{x:,.0f}'))\n",
    "ax.spines['right'].set_visible(False)\n",
    "ax.spines['top'].set_visible(False)\n",
    "ax.spines['left'].set_visible(False)\n",
    "ax.spines['bottom'].set_color('black')\n",
    "plt.savefig('../../reports/figures/average_timestamp.png', bbox_inches='tight', transparent=True);"
   ]
  },
  {
   "cell_type": "markdown",
   "metadata": {},
   "source": [
    "### Prepare data for modeling"
   ]
  },
  {
   "cell_type": "code",
   "execution_count": 138,
   "metadata": {
    "ExecuteTime": {
     "end_time": "2020-11-25T23:20:32.961499Z",
     "start_time": "2020-11-25T23:20:32.609512Z"
    }
   },
   "outputs": [],
   "source": [
    "# Split data into features and target\n",
    "X = df.drop('answered_correctly', axis=1)\n",
    "y = df['answered_correctly'] \n",
    "\n",
    "# Train Test Split the data\n",
    "X_train, X_test, y_train, y_test = train_test_split(X, y, test_size=.2, random_state=42)"
   ]
  },
  {
   "cell_type": "code",
   "execution_count": 139,
   "metadata": {
    "ExecuteTime": {
     "end_time": "2020-11-25T23:20:33.237647Z",
     "start_time": "2020-11-25T23:20:33.227648Z"
    }
   },
   "outputs": [],
   "source": [
    "# Pipeline for preprocessing numeric features\n",
    "# numeric_features = list(X.select_dtypes(exclude='object').columns)\n",
    "numeric_features = ['timestamp', 'row_id', 'user_id', 'content_id', 'task_container_id',\n",
    "                    'prior_question_elapsed_time', 'avg_time_per_question', 'bundle_id', 'user_question_count']\n",
    "numeric_transformer = Pipeline(steps=[\n",
    "    ('imputer', SimpleImputer(strategy='median')),\n",
    "    ('scaler', StandardScaler())])\n",
    "\n",
    "# Pipeline for preprocessing categorical features\n",
    "# categorical_features = list(X.select_dtypes(include='object').columns)\n",
    "categorical_features = ['part', 'prior_question_had_explanation', 'correct_answer']\n",
    "categorical_transformer = Pipeline(steps=[\n",
    "    ('imputer', SimpleImputer(fill_value='None')),\n",
    "    ('one_hot_encoder', OneHotEncoder(sparse=False))])\n",
    "\n",
    "# Pipeline for preprocessing combined\n",
    "preprocessor = ColumnTransformer(\n",
    "    transformers=[\n",
    "        ('num', numeric_transformer, numeric_features),\n",
    "        ('cat', categorical_transformer, categorical_features)])"
   ]
  },
  {
   "cell_type": "code",
   "execution_count": 140,
   "metadata": {
    "ExecuteTime": {
     "end_time": "2020-11-25T23:20:34.210096Z",
     "start_time": "2020-11-25T23:20:33.956094Z"
    }
   },
   "outputs": [],
   "source": [
    "# Use preprocessing pipeline to transform the data\n",
    "X_train_transformed = preprocessor.fit_transform(X_train)\n",
    "X_test_transformed = preprocessor.transform(X_test)"
   ]
  },
  {
   "cell_type": "markdown",
   "metadata": {},
   "source": [
    "# Modeling"
   ]
  },
  {
   "cell_type": "markdown",
   "metadata": {},
   "source": [
    "#### First Simple Model"
   ]
  },
  {
   "cell_type": "code",
   "execution_count": 141,
   "metadata": {
    "ExecuteTime": {
     "end_time": "2020-11-25T23:20:38.967859Z",
     "start_time": "2020-11-25T23:20:38.411887Z"
    }
   },
   "outputs": [
    {
     "data": {
      "text/plain": [
       "LogisticRegression()"
      ]
     },
     "execution_count": 141,
     "metadata": {},
     "output_type": "execute_result"
    }
   ],
   "source": [
    "# Logistic Regression Model Fit\n",
    "fsm = LogisticRegression()\n",
    "fsm.fit(X_train_transformed, y_train)"
   ]
  },
  {
   "cell_type": "code",
   "execution_count": 142,
   "metadata": {
    "ExecuteTime": {
     "end_time": "2020-11-25T23:20:39.104864Z",
     "start_time": "2020-11-25T23:20:38.970860Z"
    }
   },
   "outputs": [
    {
     "name": "stdout",
     "output_type": "stream",
     "text": [
      "              precision    recall  f1-score   support\n",
      "\n",
      "           0       0.54      0.03      0.05     28221\n",
      "           1       0.64      0.99      0.78     50091\n",
      "\n",
      "    accuracy                           0.64     78312\n",
      "   macro avg       0.59      0.51      0.41     78312\n",
      "weighted avg       0.60      0.64      0.52     78312\n",
      "\n"
     ]
    }
   ],
   "source": [
    "# Score on our training data\n",
    "y_pred = fsm.predict(X_train_transformed)\n",
    "print(classification_report(y_train, y_pred))"
   ]
  },
  {
   "cell_type": "code",
   "execution_count": 143,
   "metadata": {
    "ExecuteTime": {
     "end_time": "2020-11-25T23:20:39.148876Z",
     "start_time": "2020-11-25T23:20:39.105864Z"
    }
   },
   "outputs": [
    {
     "name": "stdout",
     "output_type": "stream",
     "text": [
      "              precision    recall  f1-score   support\n",
      "\n",
      "           0       0.54      0.03      0.05      7170\n",
      "           1       0.64      0.99      0.77     12408\n",
      "\n",
      "    accuracy                           0.64     19578\n",
      "   macro avg       0.59      0.51      0.41     19578\n",
      "weighted avg       0.60      0.64      0.51     19578\n",
      "\n"
     ]
    }
   ],
   "source": [
    "# Score on our testing data\n",
    "y_pred = fsm.predict(X_test_transformed)\n",
    "print(classification_report(y_test, y_pred))"
   ]
  },
  {
   "cell_type": "code",
   "execution_count": 144,
   "metadata": {
    "ExecuteTime": {
     "end_time": "2020-11-25T23:20:40.357028Z",
     "start_time": "2020-11-25T23:20:39.796162Z"
    }
   },
   "outputs": [
    {
     "data": {
      "text/plain": [
       "array([0.63534219, 0.63554648, 0.62872906, 0.63935431])"
      ]
     },
     "execution_count": 144,
     "metadata": {},
     "output_type": "execute_result"
    }
   ],
   "source": [
    "cross_val_score(fsm, X_test_transformed, y_test, cv=4)"
   ]
  },
  {
   "cell_type": "code",
   "execution_count": 145,
   "metadata": {
    "ExecuteTime": {
     "end_time": "2020-11-25T23:20:41.561736Z",
     "start_time": "2020-11-25T23:20:41.213227Z"
    }
   },
   "outputs": [
    {
     "data": {
      "image/png": "[encoded data removed]",
      "text/plain": [
       "<Figure size 432x288 with 2 Axes>"
      ]
     },
     "metadata": {},
     "output_type": "display_data"
    }
   ],
   "source": [
    "# Confusion matrix\n",
    "sns.set(context = 'notebook', style = 'white')\n",
    "plot_confusion_matrix(fsm, X_test_transformed, y_test, cmap='RdPu', normalize='true')\n",
    "plt.title('First Simple Model',fontsize=20)\n",
    "plt.xlabel(\"Predicted Labels\",fontsize=17, labelpad=10)\n",
    "plt.ylabel(\"True Labels\",fontsize=17,  labelpad=10)\n",
    "plt.xticks([0,1], ('Incorrect', \"Correct\"), fontsize=14)\n",
    "plt.yticks([0,1], ('Incorrect', \"Correct\"), rotation=90, fontsize=14)\n",
    "plt.savefig('../../reports/figures/fsm_matrix.png', bbox_inches='tight', transparent=True);"
   ]
  },
  {
   "cell_type": "markdown",
   "metadata": {},
   "source": [
    "We are severely underpredicting incorrectly answered. Our recall is a mere .12. This is due to class imbalance - there are much more correctly answered questions than incorrect. Let's resample the data the adress this issue"
   ]
  },
  {
   "cell_type": "markdown",
   "metadata": {},
   "source": [
    "### Further Data Preprocessing"
   ]
  },
  {
   "cell_type": "markdown",
   "metadata": {},
   "source": [
    "#### Using Smote to Deal with Class Imbalance"
   ]
  },
  {
   "cell_type": "code",
   "execution_count": 45,
   "metadata": {
    "ExecuteTime": {
     "end_time": "2020-11-25T22:03:21.752955Z",
     "start_time": "2020-11-25T22:03:18.086314Z"
    }
   },
   "outputs": [
    {
     "name": "stdout",
     "output_type": "stream",
     "text": [
      "Before OverSampling, counts of label -1: 0\n",
      "Before OverSampling, counts of label 0: 27756\n",
      "Before OverSampling, counts of label 1: 50606 \n",
      "\n",
      "After OverSampling, the shape of train_X: (101212, 22)\n",
      "After OverSampling, the shape of train_y: (101212,) \n",
      "\n",
      "After OverSampling, counts of label -1: 0\n",
      "After OverSampling, counts of label 0\n",
      "After OverSampling, counts of label 1: 50606\n"
     ]
    }
   ],
   "source": [
    "print(\"Before OverSampling, counts of label -1: {}\".format(sum(y_train == -1))) \n",
    "print(\"Before OverSampling, counts of label 0: {}\".format(sum(y_train == 0))) \n",
    "print(\"Before OverSampling, counts of label 1: {} \\n\".format(sum(y_train == 1))) \n",
    "\n",
    "with joblib.parallel_backend('dask'):\n",
    "    # import SMOTE module from imblearn library \n",
    "    # pip install imblearn (if you don't have imblearn in your system) \n",
    "    sm = SMOTE(random_state = 42) \n",
    "    X_train_res, y_train_res = sm.fit_sample(X_train_transformed, y_train.ravel()) \n",
    "\n",
    "print('After OverSampling, the shape of train_X: {}'.format(X_train_res.shape)) \n",
    "print('After OverSampling, the shape of train_y: {} \\n'.format(y_train_res.shape)) \n",
    "\n",
    "print(\"After OverSampling, counts of label -1: {}\".format(sum(y_train_res == -1))) \n",
    "print(\"After OverSampling, counts of label 0\".format(sum(y_train_res == 0))) \n",
    "print(\"After OverSampling, counts of label 1: {}\".format(sum(y_train_res == 1)))"
   ]
  },
  {
   "cell_type": "code",
   "execution_count": 46,
   "metadata": {
    "ExecuteTime": {
     "end_time": "2020-11-25T22:03:22.128341Z",
     "start_time": "2020-11-25T22:03:21.754947Z"
    }
   },
   "outputs": [
    {
     "data": {
      "image/png": "[encoded data removed]",
      "text/plain": [
       "<Figure size 576x288 with 2 Axes>"
      ]
     },
     "metadata": {},
     "output_type": "display_data"
    }
   ],
   "source": [
    "sns.set(context = 'notebook', style = 'whitegrid')\n",
    "\n",
    "fig, axes = plt.subplots(1, 2, figsize = (8,4)) \n",
    "ax = sns.countplot(y, palette = ['#d77ead', '#d77ead'], ax=axes[0], alpha=.8)\n",
    "ax.set_title(\"Class Distribution Before Smote\",fontsize=15)\n",
    "ax.set_xlabel(\"Answers\",fontsize=15, labelpad=10)\n",
    "ax.set_ylabel(\"Count\",fontsize=15,  labelpad=10)\n",
    "ax.set_xticklabels(['Incorrect', \"Correct\"], fontsize=13)\n",
    "ax.set_yticklabels(['0', '10,000', '20,000', '30,000', '40,000', '50,000', '60,000'], fontsize=15)\n",
    "ax.spines['top'].set_visible(False)\n",
    "ax.spines['right'].set_visible(False)\n",
    "ax.spines['left'].set_visible(False)\n",
    "\n",
    "ax2 = sns.countplot(y_train_res, palette = ['#645ca7', '#645ca7'], ax=axes[1], alpha=.8)\n",
    "ax2.set_title(\"Class Distribution After Smote\",fontsize=15)\n",
    "ax2.set_xlabel(\"Answers\",fontsize=15, labelpad=10)\n",
    "ax2.set_ylabel(\"Count\",fontsize=15,  labelpad=10)\n",
    "ax2.set_xticklabels(['Incorrect', \"Correct\"], fontsize=15)\n",
    "ax2.set_yticklabels(['0', '10,000', '20,000', '30,000', '40,000', '50,000', '60,000'], fontsize=15)\n",
    "ax2.spines['top'].set_visible(False)\n",
    "ax2.spines['right'].set_visible(False)\n",
    "ax2.spines['left'].set_visible(False)\n",
    "\n",
    "fig.tight_layout()\n",
    "plt.savefig('../../reports/figures/Fixing_class_imbalance.jpg', bbox_inches='tight');"
   ]
  },
  {
   "cell_type": "code",
   "execution_count": 47,
   "metadata": {
    "ExecuteTime": {
     "end_time": "2020-11-25T22:03:22.143375Z",
     "start_time": "2020-11-25T22:03:22.129331Z"
    }
   },
   "outputs": [],
   "source": [
    "# # PPT Viz\n",
    "# plt.figure(figsize = (5, 5))\n",
    "# ax = sns.countplot(data=df, x='prior_question_had_explanation', hue='answered_correctly', palette=['#d77ead', '#645ca7'])\n",
    "# legend_labels, _= ax.get_legend_handles_labels()\n",
    "# ax.legend(legend_labels, ['Incorrect','Correct'], fontsize='large', title_fontsize='20', loc='upper center')\n",
    "# ax.axes.set_title(\"Prior Question had Explanation\", y= 1.1, fontsize=25, color='white')\n",
    "# ax.set_xlabel(\"Prior Question\",fontsize=22, color='white', labelpad=10)\n",
    "# ax.set_ylabel(\"Count\",fontsize=22, color='white', labelpad=10)\n",
    "# ax.set_xticklabels(['Explanation', 'No Explanation'], fontsize=15, color='white')\n",
    "# ax.set_yticklabels(['0', '10,000', '20,000', '30,000', '40,000', '50,000', '60,000'], fontsize=15, color='white')\n",
    "# ax.grid(color='white', axis='y')\n",
    "# ax.spines['right'].set_visible(False)\n",
    "# ax.spines['top'].set_visible(False)\n",
    "# ax.spines['left'].set_visible(False)\n",
    "# ax.spines['bottom'].set_color('white')\n",
    "# ax.yaxis.set_major_formatter(ticker.StrMethodFormatter('{x:,.0f}'))\n",
    "# plt.savefig('../../reports/figures/prior_q_explanation_ppt.png', bbox_inches='tight', transparent=True);"
   ]
  },
  {
   "cell_type": "markdown",
   "metadata": {},
   "source": [
    "#### Simple Linear Regression Model After Smote"
   ]
  },
  {
   "cell_type": "code",
   "execution_count": 48,
   "metadata": {
    "ExecuteTime": {
     "end_time": "2020-11-25T22:03:49.395710Z",
     "start_time": "2020-11-25T22:03:48.728133Z"
    }
   },
   "outputs": [],
   "source": [
    "# X_train_res, y_train_res, X_test_transformed, y_test\n",
    "simple_lr = LogisticRegression()\n",
    "with joblib.parallel_backend('dask'):\n",
    "    simple_lr.fit(X_train_res, y_train_res)"
   ]
  },
  {
   "cell_type": "code",
   "execution_count": 49,
   "metadata": {
    "ExecuteTime": {
     "end_time": "2020-11-25T22:03:49.551726Z",
     "start_time": "2020-11-25T22:03:49.397711Z"
    },
    "scrolled": true
   },
   "outputs": [
    {
     "name": "stdout",
     "output_type": "stream",
     "text": [
      "              precision    recall  f1-score   support\n",
      "\n",
      "           0       0.55      0.57      0.56     50606\n",
      "           1       0.56      0.54      0.55     50606\n",
      "\n",
      "    accuracy                           0.56    101212\n",
      "   macro avg       0.56      0.56      0.56    101212\n",
      "weighted avg       0.56      0.56      0.56    101212\n",
      "\n"
     ]
    }
   ],
   "source": [
    "# Score on our training data\n",
    "y_pred = simple_lr.predict(X_train_res)\n",
    "print(classification_report(y_train_res, y_pred))"
   ]
  },
  {
   "cell_type": "code",
   "execution_count": 50,
   "metadata": {
    "ExecuteTime": {
     "end_time": "2020-11-25T22:03:49.737223Z",
     "start_time": "2020-11-25T22:03:49.703213Z"
    }
   },
   "outputs": [
    {
     "name": "stdout",
     "output_type": "stream",
     "text": [
      "              precision    recall  f1-score   support\n",
      "\n",
      "           0       0.41      0.58      0.48      6987\n",
      "           1       0.70      0.54      0.61     12604\n",
      "\n",
      "    accuracy                           0.55     19591\n",
      "   macro avg       0.55      0.56      0.54     19591\n",
      "weighted avg       0.60      0.55      0.56     19591\n",
      "\n"
     ]
    }
   ],
   "source": [
    "# Score on testing data\n",
    "y_pred = simple_lr.predict(X_test_transformed)\n",
    "print(classification_report(y_test, y_pred))"
   ]
  },
  {
   "cell_type": "code",
   "execution_count": 51,
   "metadata": {
    "ExecuteTime": {
     "end_time": "2020-11-25T22:03:51.186716Z",
     "start_time": "2020-11-25T22:03:50.720091Z"
    }
   },
   "outputs": [
    {
     "data": {
      "text/plain": [
       "array([0.64311964, 0.64434463, 0.6445488 , 0.64345518])"
      ]
     },
     "execution_count": 51,
     "metadata": {},
     "output_type": "execute_result"
    }
   ],
   "source": [
    "cross_val_score(simple_lr, X_test_transformed, y_test, cv=4)"
   ]
  },
  {
   "cell_type": "code",
   "execution_count": 52,
   "metadata": {
    "ExecuteTime": {
     "end_time": "2020-11-25T22:03:52.152803Z",
     "start_time": "2020-11-25T22:03:51.975135Z"
    }
   },
   "outputs": [
    {
     "data": {
      "image/png": "[encoded data removed]",
      "text/plain": [
       "<Figure size 432x288 with 2 Axes>"
      ]
     },
     "metadata": {},
     "output_type": "display_data"
    }
   ],
   "source": [
    "# Confusion matrix\n",
    "sns.set(context = 'notebook', style = 'white')\n",
    "plot_confusion_matrix(simple_lr, X_test_transformed, y_test, cmap='RdPu')\n",
    "plt.title('Simple Linear Regression',fontsize=20)\n",
    "plt.xlabel(\"Predicted Labels\",fontsize=17, labelpad=10)\n",
    "plt.ylabel(\"True Labels\",fontsize=17,  labelpad=10)\n",
    "plt.xticks([0,1], ('Incorrect', \"Correct\"), fontsize=14)\n",
    "plt.yticks([0,1], ('Incorrect', \"Correct\"), rotation=90, fontsize=14);"
   ]
  },
  {
   "cell_type": "code",
   "execution_count": 53,
   "metadata": {
    "ExecuteTime": {
     "end_time": "2020-11-25T22:03:55.058634Z",
     "start_time": "2020-11-25T22:03:55.056633Z"
    }
   },
   "outputs": [],
   "source": [
    "# # Grid Search for best params for Logistic Regression Classifier\n",
    "# params = {\n",
    "#     'penalty':['l1', 'l2', 'elasticnet'],        # l1 is Lasso, l2 is Ridge\n",
    "#     'solver':['liblinear', 'saga'],\n",
    "#     'C': [.001,.1, 1, 10],\n",
    "#     'verbose': [0, 1],\n",
    "#     'max_iter': [.5, 1, 2],\n",
    "#     'tol': [1, 10, 100]\n",
    "# }\n",
    "# lr_gs = GridSearchCV(LogisticRegression(random_state=42), params, cv=3)\n",
    "# with joblib.parallel_backend('dask'):\n",
    "#     lr_gs.fit(X_train_res, y_train_res)\n",
    "\n",
    "# print(\"Best Params\", lr_gs.best_params_)\n",
    "# print(\"Best Score\", lr_gs.best_score_)\n",
    "\n",
    "# # Best Params {'C': 1, 'max_iter': 5, 'penalty': 'l2', 'solver': 'liblinear', 'tol': 1, 'verbose': 0}\n",
    "# # Best Score 0.5575444544102709"
   ]
  },
  {
   "cell_type": "code",
   "execution_count": 54,
   "metadata": {
    "ExecuteTime": {
     "end_time": "2020-11-25T22:03:57.183740Z",
     "start_time": "2020-11-25T22:03:57.071742Z"
    }
   },
   "outputs": [
    {
     "data": {
      "text/plain": [
       "LogisticRegression(C=1, max_iter=1, random_state=42, solver='liblinear', tol=1)"
      ]
     },
     "execution_count": 54,
     "metadata": {},
     "output_type": "execute_result"
    }
   ],
   "source": [
    "# Plug in best params and run model\n",
    "lr_best = LogisticRegression(random_state=42, penalty= 'l2', solver= 'liblinear', C=1, verbose=0, max_iter=1, tol=1)\n",
    "lr_best.fit(X_train_res, y_train_res)"
   ]
  },
  {
   "cell_type": "code",
   "execution_count": 55,
   "metadata": {
    "ExecuteTime": {
     "end_time": "2020-11-25T22:03:57.574515Z",
     "start_time": "2020-11-25T22:03:57.414489Z"
    }
   },
   "outputs": [
    {
     "name": "stdout",
     "output_type": "stream",
     "text": [
      "              precision    recall  f1-score   support\n",
      "\n",
      "           0       0.55      0.58      0.56     50606\n",
      "           1       0.56      0.54      0.55     50606\n",
      "\n",
      "    accuracy                           0.56    101212\n",
      "   macro avg       0.56      0.56      0.56    101212\n",
      "weighted avg       0.56      0.56      0.56    101212\n",
      "\n"
     ]
    }
   ],
   "source": [
    "# Score on our training data\n",
    "y_pred = lr_best.predict(X_train_res)\n",
    "print(classification_report(y_train_res, y_pred))"
   ]
  },
  {
   "cell_type": "code",
   "execution_count": 56,
   "metadata": {
    "ExecuteTime": {
     "end_time": "2020-11-25T22:03:59.007179Z",
     "start_time": "2020-11-25T22:03:58.967178Z"
    },
    "scrolled": true
   },
   "outputs": [
    {
     "name": "stdout",
     "output_type": "stream",
     "text": [
      "              precision    recall  f1-score   support\n",
      "\n",
      "           0       0.41      0.58      0.48      6987\n",
      "           1       0.70      0.54      0.61     12604\n",
      "\n",
      "    accuracy                           0.55     19591\n",
      "   macro avg       0.55      0.56      0.54     19591\n",
      "weighted avg       0.59      0.55      0.56     19591\n",
      "\n"
     ]
    }
   ],
   "source": [
    "# Score on testing data\n",
    "y_pred = lr_best.predict(X_test_transformed)\n",
    "print(classification_report(y_test, y_pred))"
   ]
  },
  {
   "cell_type": "code",
   "execution_count": 57,
   "metadata": {
    "ExecuteTime": {
     "end_time": "2020-11-25T22:04:18.849581Z",
     "start_time": "2020-11-25T22:04:18.777569Z"
    }
   },
   "outputs": [
    {
     "data": {
      "text/plain": [
       "array([0.64352797, 0.64352797, 0.64291548, 0.64304676])"
      ]
     },
     "execution_count": 57,
     "metadata": {},
     "output_type": "execute_result"
    }
   ],
   "source": [
    "cross_val_score(lr_best, X_test_transformed, y_test, cv=4)"
   ]
  },
  {
   "cell_type": "code",
   "execution_count": 58,
   "metadata": {
    "ExecuteTime": {
     "end_time": "2020-11-25T22:04:19.381382Z",
     "start_time": "2020-11-25T22:04:19.206379Z"
    }
   },
   "outputs": [
    {
     "data": {
      "image/png": "[encoded data removed]",
      "text/plain": [
       "<Figure size 432x288 with 2 Axes>"
      ]
     },
     "metadata": {},
     "output_type": "display_data"
    }
   ],
   "source": [
    "# Confusion matrix\n",
    "sns.set(context = 'notebook', style = 'white')\n",
    "plot_confusion_matrix(lr_best, X_test_transformed, y_test, cmap='RdPu')\n",
    "plt.title('Linear Regression',fontsize=20)\n",
    "plt.xlabel(\"Predicted Labels\",fontsize=17, labelpad=10)\n",
    "plt.ylabel(\"True Labels\",fontsize=17,  labelpad=10)\n",
    "plt.xticks([0,1], ('Incorrect', \"Correct\"), fontsize=14)\n",
    "plt.yticks([0,1], ('Incorrect', \"Correct\"), rotation=90, fontsize=14);"
   ]
  },
  {
   "cell_type": "markdown",
   "metadata": {},
   "source": [
    "#### K Nearest Neighbors"
   ]
  },
  {
   "cell_type": "code",
   "execution_count": 59,
   "metadata": {
    "ExecuteTime": {
     "end_time": "2020-11-25T22:04:20.543473Z",
     "start_time": "2020-11-25T22:04:20.526474Z"
    }
   },
   "outputs": [],
   "source": [
    "# # Grid Search for best params for KNN Classifier *Do this overnight, takes forever*\n",
    "# params = {\n",
    "#     'n_neighbors': [3, 5],\n",
    "#     'weights': ['uniform', 'distance'],\n",
    "#     'p' : [1,2]\n",
    "# }\n",
    "\n",
    "# knn_gs = GridSearchCV(KNeighborsClassifier(), params)\n",
    "# with joblib.parallel_backend('dask'):\n",
    "#     knn_gs.fit(X_train_res, y_train_res)\n",
    "\n",
    "# print(\"Best Params\", knn_gs.best_params_)"
   ]
  },
  {
   "cell_type": "code",
   "execution_count": 60,
   "metadata": {
    "ExecuteTime": {
     "end_time": "2020-11-25T22:04:22.648973Z",
     "start_time": "2020-11-25T22:04:21.782620Z"
    }
   },
   "outputs": [
    {
     "data": {
      "text/plain": [
       "KNeighborsClassifier()"
      ]
     },
     "execution_count": 60,
     "metadata": {},
     "output_type": "execute_result"
    }
   ],
   "source": [
    "# Plug in best params and run model\n",
    "knn_best = KNeighborsClassifier()\n",
    "knn_best.fit(X_train_res, y_train_res)"
   ]
  },
  {
   "cell_type": "code",
   "execution_count": 61,
   "metadata": {
    "ExecuteTime": {
     "end_time": "2020-11-25T22:04:38.952624Z",
     "start_time": "2020-11-25T22:04:23.071063Z"
    }
   },
   "outputs": [
    {
     "name": "stdout",
     "output_type": "stream",
     "text": [
      "              precision    recall  f1-score   support\n",
      "\n",
      "           0       0.75      0.85      0.80     50606\n",
      "           1       0.83      0.72      0.77     50606\n",
      "\n",
      "    accuracy                           0.78    101212\n",
      "   macro avg       0.79      0.78      0.78    101212\n",
      "weighted avg       0.79      0.78      0.78    101212\n",
      "\n"
     ]
    }
   ],
   "source": [
    "# Score on our training data\n",
    "y_pred = knn_best.predict(X_train_res)\n",
    "print(classification_report(y_train_res, y_pred))"
   ]
  },
  {
   "cell_type": "code",
   "execution_count": 62,
   "metadata": {
    "ExecuteTime": {
     "end_time": "2020-11-25T22:04:42.806509Z",
     "start_time": "2020-11-25T22:04:38.954623Z"
    }
   },
   "outputs": [
    {
     "name": "stdout",
     "output_type": "stream",
     "text": [
      "              precision    recall  f1-score   support\n",
      "\n",
      "           0       0.41      0.54      0.47      6987\n",
      "           1       0.69      0.58      0.63     12604\n",
      "\n",
      "    accuracy                           0.56     19591\n",
      "   macro avg       0.55      0.56      0.55     19591\n",
      "weighted avg       0.59      0.56      0.57     19591\n",
      "\n"
     ]
    }
   ],
   "source": [
    "# Score on testing data\n",
    "y_pred = knn_best.predict(X_test_transformed)\n",
    "print(classification_report(y_test, y_pred))"
   ]
  },
  {
   "cell_type": "code",
   "execution_count": 63,
   "metadata": {
    "ExecuteTime": {
     "end_time": "2020-11-25T22:04:45.345785Z",
     "start_time": "2020-11-25T22:04:42.808508Z"
    }
   },
   "outputs": [
    {
     "data": {
      "text/plain": [
       "array([0.62209065, 0.60881993, 0.60943242, 0.60976108])"
      ]
     },
     "execution_count": 63,
     "metadata": {},
     "output_type": "execute_result"
    }
   ],
   "source": [
    "cross_val_score(knn_best, X_test_transformed, y_test, cv=4)"
   ]
  },
  {
   "cell_type": "code",
   "execution_count": 64,
   "metadata": {
    "ExecuteTime": {
     "end_time": "2020-11-25T22:04:49.382676Z",
     "start_time": "2020-11-25T22:04:45.347783Z"
    }
   },
   "outputs": [
    {
     "data": {
      "image/png": "[encoded data removed]",
      "text/plain": [
       "<Figure size 432x288 with 2 Axes>"
      ]
     },
     "metadata": {},
     "output_type": "display_data"
    }
   ],
   "source": [
    "# Confusion matrix\n",
    "sns.set(context = 'notebook', style = 'white')\n",
    "plot_confusion_matrix(knn_best, X_test_transformed, y_test, cmap='RdPu')\n",
    "plt.title('KNN',fontsize=20)\n",
    "plt.xlabel(\"Predicted Labels\",fontsize=17, labelpad=10)\n",
    "plt.ylabel(\"True Labels\",fontsize=17,  labelpad=10)\n",
    "plt.xticks([0,1], ('Incorrect', \"Correct\"), fontsize=14)\n",
    "plt.yticks([0,1], ('Incorrect', \"Correct\"), rotation=90, fontsize=14);"
   ]
  },
  {
   "cell_type": "markdown",
   "metadata": {},
   "source": [
    "#### Random Forest"
   ]
  },
  {
   "cell_type": "code",
   "execution_count": 65,
   "metadata": {
    "ExecuteTime": {
     "end_time": "2020-11-25T22:04:49.398663Z",
     "start_time": "2020-11-25T22:04:49.384663Z"
    }
   },
   "outputs": [],
   "source": [
    "# # Grid Search for best params for Random Forest Classifier\n",
    "# params = {\n",
    "#     'max_depth': [10, 16, 20],\n",
    "#     'n_estimators': [700, 800]\n",
    "# }\n",
    "\n",
    "# rf_gs = GridSearchCV(RandomForestClassifier(random_state=42), params)\n",
    "# with joblib.parallel_backend('dask'):\n",
    "#     rf_gs.fit(X_train_res, y_train_res)\n",
    "\n",
    "# print(\"Best Params\", rf_gs.best_params_)"
   ]
  },
  {
   "cell_type": "code",
   "execution_count": 66,
   "metadata": {
    "ExecuteTime": {
     "end_time": "2020-11-25T22:05:25.506483Z",
     "start_time": "2020-11-25T22:04:49.400664Z"
    }
   },
   "outputs": [],
   "source": [
    "# Plug in best params and run model\n",
    "rf_best = RandomForestClassifier(max_depth=16, n_estimators=700, random_state=42)\n",
    "with joblib.parallel_backend('dask'):\n",
    "    rf_best.fit(X_train_res, y_train_res)"
   ]
  },
  {
   "cell_type": "code",
   "execution_count": 67,
   "metadata": {
    "ExecuteTime": {
     "end_time": "2020-11-25T22:05:36.822803Z",
     "start_time": "2020-11-25T22:05:25.509476Z"
    }
   },
   "outputs": [
    {
     "name": "stdout",
     "output_type": "stream",
     "text": [
      "              precision    recall  f1-score   support\n",
      "\n",
      "           0       0.81      0.85      0.83     50606\n",
      "           1       0.84      0.80      0.82     50606\n",
      "\n",
      "    accuracy                           0.82    101212\n",
      "   macro avg       0.82      0.82      0.82    101212\n",
      "weighted avg       0.82      0.82      0.82    101212\n",
      "\n"
     ]
    }
   ],
   "source": [
    "# Score on our training data\n",
    "y_pred = rf_best.predict(X_train_res)\n",
    "print(classification_report(y_train_res, y_pred))"
   ]
  },
  {
   "cell_type": "code",
   "execution_count": 68,
   "metadata": {
    "ExecuteTime": {
     "end_time": "2020-11-25T22:05:39.246414Z",
     "start_time": "2020-11-25T22:05:36.824804Z"
    }
   },
   "outputs": [
    {
     "name": "stdout",
     "output_type": "stream",
     "text": [
      "              precision    recall  f1-score   support\n",
      "\n",
      "           0       0.47      0.56      0.51      6987\n",
      "           1       0.73      0.65      0.69     12604\n",
      "\n",
      "    accuracy                           0.62     19591\n",
      "   macro avg       0.60      0.60      0.60     19591\n",
      "weighted avg       0.63      0.62      0.62     19591\n",
      "\n"
     ]
    }
   ],
   "source": [
    "# Score on testing data\n",
    "y_pred = rf_best.predict(X_test_transformed)\n",
    "print(classification_report(y_test, y_pred))"
   ]
  },
  {
   "cell_type": "code",
   "execution_count": 69,
   "metadata": {
    "ExecuteTime": {
     "end_time": "2020-11-25T22:06:39.509885Z",
     "start_time": "2020-11-25T22:05:39.250416Z"
    }
   },
   "outputs": [
    {
     "data": {
      "text/plain": [
       "array([0.66721111, 0.65536954, 0.65373622, 0.66836839])"
      ]
     },
     "execution_count": 69,
     "metadata": {},
     "output_type": "execute_result"
    }
   ],
   "source": [
    "cross_val_score(rf_best, X_test_transformed, y_test, cv=4)"
   ]
  },
  {
   "cell_type": "code",
   "execution_count": 70,
   "metadata": {
    "ExecuteTime": {
     "end_time": "2020-11-25T22:06:42.043179Z",
     "start_time": "2020-11-25T22:06:39.512885Z"
    }
   },
   "outputs": [
    {
     "data": {
      "image/png": "[encoded data removed]",
      "text/plain": [
       "<Figure size 432x288 with 2 Axes>"
      ]
     },
     "metadata": {},
     "output_type": "display_data"
    }
   ],
   "source": [
    "# Confusion matrix\n",
    "sns.set(context = 'notebook', style = 'white')\n",
    "plot_confusion_matrix(rf_best, X_test_transformed, y_test, cmap='RdPu', values_format = '.0f')\n",
    "plt.title('Random Forest',fontsize=20)\n",
    "plt.xlabel(\"Predicted Labels\",fontsize=17, labelpad=10)\n",
    "plt.ylabel(\"True Labels\",fontsize=17,  labelpad=10)\n",
    "plt.xticks([0,1], ('Incorrect', \"Correct\"), fontsize=14)\n",
    "plt.yticks([0,1], ('Incorrect', \"Correct\"), rotation=90, fontsize=14);"
   ]
  },
  {
   "cell_type": "markdown",
   "metadata": {},
   "source": [
    "#### Support Vector Machines\n",
    "\n",
    "This is a slow one not great performing"
   ]
  },
  {
   "cell_type": "code",
   "execution_count": 71,
   "metadata": {
    "ExecuteTime": {
     "end_time": "2020-11-25T22:06:42.059177Z",
     "start_time": "2020-11-25T22:06:42.045177Z"
    }
   },
   "outputs": [],
   "source": [
    "# # Instantiate SVC\n",
    "# svc = SVC(cache_size=500, random_state=42)\n",
    "# with joblib.parallel_backend('dask'):\n",
    "#     svc.fit(X_train_res, y_train_res)"
   ]
  },
  {
   "cell_type": "code",
   "execution_count": 72,
   "metadata": {
    "ExecuteTime": {
     "end_time": "2020-11-25T22:06:42.074176Z",
     "start_time": "2020-11-25T22:06:42.061177Z"
    }
   },
   "outputs": [],
   "source": [
    "# # Score on our training data\n",
    "# y_pred = svc.predict(X_train_res)\n",
    "# print(classification_report(y_train_res, y_pred))"
   ]
  },
  {
   "cell_type": "code",
   "execution_count": 73,
   "metadata": {
    "ExecuteTime": {
     "end_time": "2020-11-25T22:06:42.089175Z",
     "start_time": "2020-11-25T22:06:42.077177Z"
    }
   },
   "outputs": [],
   "source": [
    "# # Score on testing data\n",
    "# y_pred = svc.predict(X_test_transformed)\n",
    "# print(classification_report(y_test, y_pred))"
   ]
  },
  {
   "cell_type": "code",
   "execution_count": 74,
   "metadata": {
    "ExecuteTime": {
     "end_time": "2020-11-25T22:06:42.104175Z",
     "start_time": "2020-11-25T22:06:42.091176Z"
    }
   },
   "outputs": [],
   "source": [
    "# # Confusion matrix\n",
    "# plot_confusion_matrix(svc, X_test_transformed, y_test)\n",
    "# plt.title('SVC');"
   ]
  },
  {
   "cell_type": "markdown",
   "metadata": {},
   "source": [
    "#### AdaBoost"
   ]
  },
  {
   "cell_type": "code",
   "execution_count": 75,
   "metadata": {
    "ExecuteTime": {
     "end_time": "2020-11-25T22:06:49.111319Z",
     "start_time": "2020-11-25T22:06:42.106175Z"
    }
   },
   "outputs": [
    {
     "data": {
      "text/plain": [
       "AdaBoostClassifier(random_state=42)"
      ]
     },
     "execution_count": 75,
     "metadata": {},
     "output_type": "execute_result"
    }
   ],
   "source": [
    "# Instantiate an AdaBoostClassifier\n",
    "# Defaults are estimator=DecisionTree, n_estimator=100, learning_rate = 1\n",
    "adaboost = AdaBoostClassifier(random_state=42)\n",
    "adaboost.fit(X_train_res, y_train_res)"
   ]
  },
  {
   "cell_type": "code",
   "execution_count": 76,
   "metadata": {
    "ExecuteTime": {
     "end_time": "2020-11-25T22:06:50.106288Z",
     "start_time": "2020-11-25T22:06:49.113308Z"
    }
   },
   "outputs": [
    {
     "name": "stdout",
     "output_type": "stream",
     "text": [
      "              precision    recall  f1-score   support\n",
      "\n",
      "           0       0.60      0.59      0.60     50606\n",
      "           1       0.60      0.60      0.60     50606\n",
      "\n",
      "    accuracy                           0.60    101212\n",
      "   macro avg       0.60      0.60      0.60    101212\n",
      "weighted avg       0.60      0.60      0.60    101212\n",
      "\n"
     ]
    }
   ],
   "source": [
    "# Score on our training data\n",
    "y_pred = adaboost.predict(X_train_res)\n",
    "print(classification_report(y_train_res, y_pred))"
   ]
  },
  {
   "cell_type": "code",
   "execution_count": 77,
   "metadata": {
    "ExecuteTime": {
     "end_time": "2020-11-25T22:06:50.308285Z",
     "start_time": "2020-11-25T22:06:50.108289Z"
    }
   },
   "outputs": [
    {
     "name": "stdout",
     "output_type": "stream",
     "text": [
      "              precision    recall  f1-score   support\n",
      "\n",
      "           0       0.44      0.57      0.50      6987\n",
      "           1       0.71      0.60      0.65     12604\n",
      "\n",
      "    accuracy                           0.59     19591\n",
      "   macro avg       0.58      0.58      0.57     19591\n",
      "weighted avg       0.62      0.59      0.59     19591\n",
      "\n"
     ]
    }
   ],
   "source": [
    "# Score on testing data\n",
    "y_pred = adaboost.predict(X_test_transformed)\n",
    "print(classification_report(y_test, y_pred))"
   ]
  },
  {
   "cell_type": "code",
   "execution_count": 78,
   "metadata": {
    "ExecuteTime": {
     "end_time": "2020-11-25T22:06:53.823168Z",
     "start_time": "2020-11-25T22:06:50.310274Z"
    }
   },
   "outputs": [
    {
     "data": {
      "text/plain": [
       "array([0.65577787, 0.65006125, 0.65251123, 0.66183378])"
      ]
     },
     "execution_count": 78,
     "metadata": {},
     "output_type": "execute_result"
    }
   ],
   "source": [
    "cross_val_score(adaboost, X_test_transformed, y_test, cv=4)"
   ]
  },
  {
   "cell_type": "code",
   "execution_count": 79,
   "metadata": {
    "ExecuteTime": {
     "end_time": "2020-11-25T22:06:54.167160Z",
     "start_time": "2020-11-25T22:06:53.825168Z"
    }
   },
   "outputs": [
    {
     "data": {
      "image/png": "[encoded data removed]",
      "text/plain": [
       "<Figure size 432x288 with 2 Axes>"
      ]
     },
     "metadata": {},
     "output_type": "display_data"
    }
   ],
   "source": [
    "# Confusion matrix\n",
    "sns.set(context = 'notebook', style = 'white')\n",
    "plot_confusion_matrix(adaboost, X_test_transformed, y_test, cmap='RdPu')\n",
    "plt.title('Adaboost',fontsize=20)\n",
    "plt.xlabel(\"Predicted Labels\",fontsize=17, labelpad=10)\n",
    "plt.ylabel(\"True Labels\",fontsize=17,  labelpad=10)\n",
    "plt.xticks([0,1], ('Incorrect', \"Correct\"), fontsize=14)\n",
    "plt.yticks([0,1], ('Incorrect', \"Correct\"), rotation=90, fontsize=14);"
   ]
  },
  {
   "cell_type": "markdown",
   "metadata": {},
   "source": [
    "#### Extreme Gradient Boosting"
   ]
  },
  {
   "cell_type": "code",
   "execution_count": 80,
   "metadata": {
    "ExecuteTime": {
     "end_time": "2020-11-25T22:07:01.107012Z",
     "start_time": "2020-11-25T22:06:54.169158Z"
    }
   },
   "outputs": [
    {
     "data": {
      "text/plain": [
       "XGBClassifier(random_state=42)"
      ]
     },
     "execution_count": 80,
     "metadata": {},
     "output_type": "execute_result"
    }
   ],
   "source": [
    "# Instantiate XGBClassifier\n",
    "# We dont specify an estimator since Gradient Boosting uses regression trees\n",
    "# Default params: n_estimators=100, learning_rate=0.1, mex_depth=3, min_samples_split, min_samples_leaf, max_features\n",
    "# In Gradient Boosting, it is recommended to use all the features\n",
    "# XGB Optomized for distributed computing. Parallel training.\n",
    "xgb = XGBClassifier(random_state=42)\n",
    "xgb.fit(X_train_res, y_train_res)"
   ]
  },
  {
   "cell_type": "code",
   "execution_count": 81,
   "metadata": {
    "ExecuteTime": {
     "end_time": "2020-11-25T22:07:01.468395Z",
     "start_time": "2020-11-25T22:07:01.109007Z"
    }
   },
   "outputs": [
    {
     "name": "stdout",
     "output_type": "stream",
     "text": [
      "              precision    recall  f1-score   support\n",
      "\n",
      "           0       0.64      0.64      0.64     50606\n",
      "           1       0.64      0.64      0.64     50606\n",
      "\n",
      "    accuracy                           0.64    101212\n",
      "   macro avg       0.64      0.64      0.64    101212\n",
      "weighted avg       0.64      0.64      0.64    101212\n",
      "\n"
     ]
    }
   ],
   "source": [
    "# Score on our training data\n",
    "y_pred = xgb.predict(X_train_res)\n",
    "print(classification_report(y_train_res, y_pred))"
   ]
  },
  {
   "cell_type": "code",
   "execution_count": 82,
   "metadata": {
    "ExecuteTime": {
     "end_time": "2020-11-25T22:07:01.546927Z",
     "start_time": "2020-11-25T22:07:01.470395Z"
    }
   },
   "outputs": [
    {
     "name": "stdout",
     "output_type": "stream",
     "text": [
      "              precision    recall  f1-score   support\n",
      "\n",
      "           0       0.45      0.55      0.50      6987\n",
      "           1       0.72      0.63      0.67     12604\n",
      "\n",
      "    accuracy                           0.60     19591\n",
      "   macro avg       0.59      0.59      0.59     19591\n",
      "weighted avg       0.62      0.60      0.61     19591\n",
      "\n"
     ]
    }
   ],
   "source": [
    "# Score on testing data\n",
    "y_pred = xgb.predict(X_test_transformed)\n",
    "print(classification_report(y_test, y_pred))"
   ]
  },
  {
   "cell_type": "code",
   "execution_count": 83,
   "metadata": {
    "ExecuteTime": {
     "end_time": "2020-11-25T22:07:05.185799Z",
     "start_time": "2020-11-25T22:07:01.548917Z"
    }
   },
   "outputs": [
    {
     "data": {
      "text/plain": [
       "array([0.65904451, 0.65659453, 0.65679869, 0.66183378])"
      ]
     },
     "execution_count": 83,
     "metadata": {},
     "output_type": "execute_result"
    }
   ],
   "source": [
    "cross_val_score(xgb, X_test_transformed, y_test, cv=4)"
   ]
  },
  {
   "cell_type": "code",
   "execution_count": 84,
   "metadata": {
    "ExecuteTime": {
     "end_time": "2020-11-25T22:07:05.528697Z",
     "start_time": "2020-11-25T22:07:05.187789Z"
    }
   },
   "outputs": [
    {
     "data": {
      "image/png": "[encoded data removed]",
      "text/plain": [
       "<Figure size 432x288 with 2 Axes>"
      ]
     },
     "metadata": {},
     "output_type": "display_data"
    }
   ],
   "source": [
    "# Confusion matrix\n",
    "sns.set(context = 'notebook', style = 'white')\n",
    "plot_confusion_matrix(xgb, X_test_transformed, y_test, cmap='RdPu')\n",
    "plt.title('XGB',fontsize=20)\n",
    "plt.xlabel(\"Predicted Labels\",fontsize=17, labelpad=10)\n",
    "plt.ylabel(\"True Labels\",fontsize=17,  labelpad=10)\n",
    "plt.xticks([0,1], ('Incorrect', \"Correct\"), fontsize=14)\n",
    "plt.yticks([0,1], ('Incorrect', \"Correct\"), rotation=90, fontsize=14);\n",
    "plt.savefig('../../reports/figures/xgb_matrix.png', bbox_inches='tight', transparent=True);"
   ]
  },
  {
   "cell_type": "markdown",
   "metadata": {},
   "source": [
    "#### Light Gradient Boosting"
   ]
  },
  {
   "cell_type": "code",
   "execution_count": 85,
   "metadata": {
    "ExecuteTime": {
     "end_time": "2020-11-25T22:07:06.192689Z",
     "start_time": "2020-11-25T22:07:05.530697Z"
    }
   },
   "outputs": [
    {
     "data": {
      "text/plain": [
       "LGBMClassifier(seed=42)"
      ]
     },
     "execution_count": 85,
     "metadata": {},
     "output_type": "execute_result"
    }
   ],
   "source": [
    "# Params similar to gradient boosting except default max_depth = -1 (unlimited)\n",
    "lgb = LGBMClassifier(seed=42)\n",
    "lgb.fit(X_train_res, y_train_res)"
   ]
  },
  {
   "cell_type": "code",
   "execution_count": 86,
   "metadata": {
    "ExecuteTime": {
     "end_time": "2020-11-25T22:07:06.549160Z",
     "start_time": "2020-11-25T22:07:06.195685Z"
    }
   },
   "outputs": [
    {
     "name": "stdout",
     "output_type": "stream",
     "text": [
      "              precision    recall  f1-score   support\n",
      "\n",
      "           0       0.73      0.65      0.69     50606\n",
      "           1       0.68      0.76      0.72     50606\n",
      "\n",
      "    accuracy                           0.70    101212\n",
      "   macro avg       0.71      0.70      0.70    101212\n",
      "weighted avg       0.71      0.70      0.70    101212\n",
      "\n"
     ]
    }
   ],
   "source": [
    "# Score on our training data\n",
    "y_pred = lgb.predict(X_train_res)\n",
    "print(classification_report(y_train_res, y_pred))"
   ]
  },
  {
   "cell_type": "code",
   "execution_count": 87,
   "metadata": {
    "ExecuteTime": {
     "end_time": "2020-11-25T22:07:06.659156Z",
     "start_time": "2020-11-25T22:07:06.550159Z"
    }
   },
   "outputs": [
    {
     "name": "stdout",
     "output_type": "stream",
     "text": [
      "              precision    recall  f1-score   support\n",
      "\n",
      "           0       0.49      0.46      0.47      6987\n",
      "           1       0.71      0.74      0.72     12604\n",
      "\n",
      "    accuracy                           0.64     19591\n",
      "   macro avg       0.60      0.60      0.60     19591\n",
      "weighted avg       0.63      0.64      0.63     19591\n",
      "\n"
     ]
    }
   ],
   "source": [
    "# Score on testing data\n",
    "y_pred = lgb.predict(X_test_transformed)\n",
    "print(classification_report(y_test, y_pred))"
   ]
  },
  {
   "cell_type": "code",
   "execution_count": 88,
   "metadata": {
    "ExecuteTime": {
     "end_time": "2020-11-25T22:07:07.511130Z",
     "start_time": "2020-11-25T22:07:06.662157Z"
    }
   },
   "outputs": [
    {
     "data": {
      "text/plain": [
       "array([0.66659861, 0.65475704, 0.65373622, 0.6657137 ])"
      ]
     },
     "execution_count": 88,
     "metadata": {},
     "output_type": "execute_result"
    }
   ],
   "source": [
    "cross_val_score(lgb, X_test_transformed, y_test, cv=4)"
   ]
  },
  {
   "cell_type": "code",
   "execution_count": 89,
   "metadata": {
    "ExecuteTime": {
     "end_time": "2020-11-25T22:07:07.790133Z",
     "start_time": "2020-11-25T22:07:07.514131Z"
    }
   },
   "outputs": [
    {
     "data": {
      "image/png": "[encoded data removed]",
      "text/plain": [
       "<Figure size 432x288 with 2 Axes>"
      ]
     },
     "metadata": {},
     "output_type": "display_data"
    }
   ],
   "source": [
    "# Confusion matrix\n",
    "sns.set(context = 'notebook', style = 'white')\n",
    "plot_confusion_matrix(lgb, X_test_transformed, y_test, cmap='RdPu')\n",
    "plt.title('LGB',fontsize=20)\n",
    "plt.xlabel(\"Predicted Labels\",fontsize=17, labelpad=10)\n",
    "plt.ylabel(\"True Labels\",fontsize=17,  labelpad=10)\n",
    "plt.xticks([0,1], ('Incorrect', \"Correct\"), fontsize=14)\n",
    "plt.yticks([0,1], ('Incorrect', \"Correct\"), rotation=90, fontsize=14);"
   ]
  },
  {
   "cell_type": "markdown",
   "metadata": {},
   "source": [
    "#### Training our best model(Random Forest) with a bigger subset of the Data"
   ]
  },
  {
   "cell_type": "code",
   "execution_count": 148,
   "metadata": {
    "ExecuteTime": {
     "end_time": "2020-11-25T23:23:10.296299Z",
     "start_time": "2020-11-25T23:22:38.012549Z"
    }
   },
   "outputs": [],
   "source": [
    "# Take a smaller subset of the data to work with (100,000 rows)\n",
    "# Taking the first 1,000,000 rows rather than a random sample because we want sequential data for each user\n",
    "DBNAME = \"riiid_education\"\n",
    "conn = psycopg2.connect(dbname=DBNAME)\n",
    "cursor = conn.cursor()\n",
    "\n",
    "data_med = pd.read_sql(\"\"\"SELECT * \n",
    "FROM train\n",
    "LIMIT 1000000;\"\"\", conn)\n",
    "\n",
    "conn.close()\n",
    "\n",
    "# Use our function which does our data engineering\n",
    "df = engineer_data(data_med)\n",
    "\n",
    "# Split data into features and target\n",
    "X = df.drop('answered_correctly', axis=1)\n",
    "y = df['answered_correctly'] \n",
    "\n",
    "# Train Test Split the data\n",
    "X_train, X_test, y_train, y_test = train_test_split(X, y, test_size=.2, random_state=42)\n",
    "\n",
    "# Use preprocessing pipeline to transform the data\n",
    "X_train_transformed = preprocessor.fit_transform(X_train)\n",
    "X_test_transformed = preprocessor.transform(X_test)\n",
    "\n",
    "with joblib.parallel_backend('dask'):\n",
    "    # import SMOTE module from imblearn library \n",
    "    # pip install imblearn (if you don't have imblearn in your system) \n",
    "    sm = SMOTE(random_state = 42) \n",
    "    X_train_res, y_train_res = sm.fit_sample(X_train_transformed, y_train.ravel())"
   ]
  },
  {
   "cell_type": "code",
   "execution_count": 149,
   "metadata": {
    "ExecuteTime": {
     "end_time": "2020-11-25T23:36:01.717361Z",
     "start_time": "2020-11-25T23:23:10.297956Z"
    }
   },
   "outputs": [],
   "source": [
    "# Plug in best params and run model\n",
    "rf_best = RandomForestClassifier(max_depth=16, n_estimators=700, random_state=42)\n",
    "with joblib.parallel_backend('dask'):\n",
    "    rf_best.fit(X_train_res, y_train_res)"
   ]
  },
  {
   "cell_type": "code",
   "execution_count": 150,
   "metadata": {
    "ExecuteTime": {
     "end_time": "2020-11-25T23:38:06.140068Z",
     "start_time": "2020-11-25T23:36:01.719365Z"
    }
   },
   "outputs": [
    {
     "name": "stdout",
     "output_type": "stream",
     "text": [
      "              precision    recall  f1-score   support\n",
      "\n",
      "           0       0.68      0.70      0.69    513551\n",
      "           1       0.69      0.67      0.68    513551\n",
      "\n",
      "    accuracy                           0.68   1027102\n",
      "   macro avg       0.68      0.68      0.68   1027102\n",
      "weighted avg       0.68      0.68      0.68   1027102\n",
      "\n"
     ]
    }
   ],
   "source": [
    "# Score on our training data\n",
    "y_pred = rf_best.predict(X_train_res)\n",
    "print(classification_report(y_train_res, y_pred))"
   ]
  },
  {
   "cell_type": "code",
   "execution_count": 151,
   "metadata": {
    "ExecuteTime": {
     "end_time": "2020-11-25T23:38:31.027567Z",
     "start_time": "2020-11-25T23:38:06.142058Z"
    }
   },
   "outputs": [
    {
     "name": "stdout",
     "output_type": "stream",
     "text": [
      "              precision    recall  f1-score   support\n",
      "\n",
      "           0       0.44      0.55      0.49     67384\n",
      "           1       0.73      0.63      0.67    128686\n",
      "\n",
      "    accuracy                           0.60    196070\n",
      "   macro avg       0.58      0.59      0.58    196070\n",
      "weighted avg       0.63      0.60      0.61    196070\n",
      "\n"
     ]
    }
   ],
   "source": [
    "# Score on testing data\n",
    "y_pred = rf_best.predict(X_test_transformed)\n",
    "print(classification_report(y_test, y_pred))"
   ]
  },
  {
   "cell_type": "code",
   "execution_count": 94,
   "metadata": {
    "ExecuteTime": {
     "end_time": "2020-11-25T22:36:30.217619Z",
     "start_time": "2020-11-25T22:23:20.396967Z"
    }
   },
   "outputs": [
    {
     "data": {
      "text/plain": [
       "array([0.67361224, 0.67102041, 0.67342857, 0.67289128])"
      ]
     },
     "execution_count": 94,
     "metadata": {},
     "output_type": "execute_result"
    }
   ],
   "source": [
    "# Cross Validation Scores\n",
    "cross_val_score(rf_best, X_test_transformed, y_test, cv=4)"
   ]
  },
  {
   "cell_type": "code",
   "execution_count": 97,
   "metadata": {
    "ExecuteTime": {
     "end_time": "2020-11-25T22:47:26.538414Z",
     "start_time": "2020-11-25T22:47:02.420223Z"
    }
   },
   "outputs": [
    {
     "data": {
      "image/png": "[encoded data removed]",
      "text/plain": [
       "<Figure size 432x288 with 2 Axes>"
      ]
     },
     "metadata": {},
     "output_type": "display_data"
    }
   ],
   "source": [
    "# Confusion matrix\n",
    "sns.set(context = 'notebook', style = 'white')\n",
    "plot_confusion_matrix(rf_best, X_test_transformed, y_test, cmap='RdPu', normalize='true')\n",
    "plt.title('Random Forest',fontsize=20)\n",
    "plt.xlabel(\"Predicted Labels\",fontsize=17, labelpad=10)\n",
    "plt.ylabel(\"True Labels\",fontsize=17,  labelpad=10)\n",
    "plt.xticks([0,1], ('Incorrect', \"Correct\"), fontsize=14)\n",
    "plt.yticks([0,1], ('Incorrect', \"Correct\"), rotation=90, fontsize=14)\n",
    "plt.savefig('../../reports/figures/rf_matrix.png', bbox_inches='tight', transparent=True);"
   ]
  },
  {
   "cell_type": "markdown",
   "metadata": {},
   "source": [
    "#### To use our model on a new dataset, import the test set as a pandas dataframe called data and run the following"
   ]
  },
  {
   "cell_type": "code",
   "execution_count": null,
   "metadata": {},
   "outputs": [],
   "source": [
    "# # Use our function which does our data engineering\n",
    "# df = engineer_data(data)\n",
    "\n",
    "# # Use preprocessing pipeline which is fit on our train data to transform the test data\n",
    "# X_test = preprocessor.transform(df)\n",
    "\n",
    "# # Make Predictions\n",
    "# y_pred = rf_best.predict(X_test)"
   ]
  },
  {
   "cell_type": "markdown",
   "metadata": {},
   "source": [
    "# Conclusion\n",
    "We can use these predictions to improve and prove the success of AI tutors. Knowing how the student is likely to perform in the future and give better insight for the AI to individualize education and personalize the learning experience for each student to achieve the best results.\n",
    "\n",
    "AI tutors could be a much needed change in our education system to provide equal opportunity and improve the success of students around the globe."
   ]
  },
  {
   "cell_type": "code",
   "execution_count": null,
   "metadata": {},
   "outputs": [],
   "source": []
  }
 ],
 "metadata": {
  "kernelspec": {
   "display_name": "learn-env",
   "language": "python",
   "name": "learn-env"
  },
  "language_info": {
   "codemirror_mode": {
    "name": "ipython",
    "version": 3
   },
   "file_extension": ".py",
   "mimetype": "text/x-python",
   "name": "python",
   "nbconvert_exporter": "python",
   "pygments_lexer": "ipython3",
   "version": "3.6.9"
  }
 },
 "nbformat": 4,
 "nbformat_minor": 4
}
