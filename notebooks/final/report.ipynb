{
 "cells": [
  {
   "cell_type": "markdown",
   "metadata": {},
   "source": [
    "# Riiid---Answer-Correctness-Prediction\n",
    "Predicting Student Performance on future interactions with an AI tutor\n",
    "# Project Overview"
   ]
  },
  {
   "cell_type": "markdown",
   "metadata": {},
   "source": [
    "## Issues in Education\n",
    "First, I’d like to talk about some issues in education today. According to data gathered by the UNESCO Institute, in 2018, 260 million children weren’t attending school. Of the children that we’re attending school, more than half of young students around the globe did not meet minimum reading and math standards. This is in part due to the fact that many students don’t have access to personalized learning.\n",
    "\n",
    "Education was already in a tough place before COVID forced many schools to shutdown and switch to remote learning. I created this map in Tableau with data from UNESCO Institute.\n",
    "\n",
    "<b>School Closure Due to COVID-19 May 2020</b>\n",
    "![COVID MAP](../../reports/figures/COVID_map_no_labels.png)\n",
    "\n",
    "## Education with Artificial Intelligence\n",
    " Artificial Intelligent solutions can change the current education system in terms of attendance, engagement, and individualized attention. It could potentially provide equal opportunity in education to anyone with an internet connection. With these goals in mind, RIIID Labs developed AI tutors.\n",
    "\n",
    "Aiming to rethink traditional ways of learning, RIID Labs launched EdNet this year, the world’s largest open database for AI education. The database, which is hosted on Kaggle.com, contains data on more than 100 million student interactions across almost 400 thousand students for over 13,000 questions.\n",
    "\n",
    "## Student Performance Predictions on AI tutor\n",
    "I will be predicting whether the student will answer incorrect, or correct for future questions. The purpose of these predictions is to help evaluate and guide the success of the AI tutors. The AI tutor can become more individualized to a student’s needs if they know the predicted performance. For example, it could provide more questions and lectures on topics it sees the student is predicted to be weak in."
   ]
  },
  {
   "cell_type": "markdown",
   "metadata": {},
   "source": [
    "# Import Libraries"
   ]
  },
  {
   "cell_type": "code",
   "execution_count": 1,
   "metadata": {
    "ExecuteTime": {
     "end_time": "2020-12-02T21:27:41.260875Z",
     "start_time": "2020-12-02T21:27:37.385639Z"
    }
   },
   "outputs": [],
   "source": [
    "import warnings\n",
    "warnings.filterwarnings('ignore')\n",
    "\n",
    "import zipfile\n",
    "import psycopg2\n",
    "import pandas as pd\n",
    "import numpy as np\n",
    "import matplotlib.pyplot as plt\n",
    "from matplotlib import ticker\n",
    "import seaborn as sns\n",
    "\n",
    "from sklearn.model_selection import train_test_split, cross_val_score, GridSearchCV, ParameterGrid\n",
    "from sklearn.pipeline import Pipeline\n",
    "from sklearn.compose import ColumnTransformer\n",
    "from sklearn.impute import SimpleImputer\n",
    "from sklearn.preprocessing import StandardScaler, OneHotEncoder\n",
    "\n",
    "from sklearn.metrics import classification_report, confusion_matrix, plot_confusion_matrix\n",
    "from imblearn.over_sampling import SMOTE\n",
    "from sklearn.linear_model import LogisticRegression\n",
    "\n",
    "from sklearn.neighbors import KNeighborsClassifier\n",
    "from sklearn.svm import SVC\n",
    "from sklearn.ensemble import RandomForestClassifier, AdaBoostClassifier\n",
    "from xgboost import XGBClassifier\n",
    "from lightgbm import LGBMClassifier\n",
    "\n",
    "%load_ext autoreload\n",
    "%autoreload 2\n",
    "\n",
    "import os\n",
    "import sys\n",
    "module_path = os.path.abspath(os.path.join(os.pardir, os.pardir))\n",
    "if module_path not in sys.path:\n",
    "    sys.path.append(module_path)\n",
    "\n",
    "from src import riiid_functions\n",
    "\n",
    "from dask.distributed import Client, LocalCluster\n",
    "import joblib"
   ]
  },
  {
   "cell_type": "code",
   "execution_count": 2,
   "metadata": {
    "ExecuteTime": {
     "end_time": "2020-12-02T21:27:43.570341Z",
     "start_time": "2020-12-02T21:27:41.263865Z"
    }
   },
   "outputs": [],
   "source": [
    "cluster = LocalCluster()\n",
    "client = Client(cluster) # start a local Dask client"
   ]
  },
  {
   "cell_type": "code",
   "execution_count": 3,
   "metadata": {
    "ExecuteTime": {
     "end_time": "2020-12-02T21:27:43.745336Z",
     "start_time": "2020-12-02T21:27:43.571353Z"
    }
   },
   "outputs": [
    {
     "data": {
      "application/vnd.jupyter.widget-view+json": {
       "model_id": "26083de6923d4fe493608eb26dd6b861",
       "version_major": 2,
       "version_minor": 0
      },
      "text/plain": [
       "VBox(children=(HTML(value='<h2>LocalCluster</h2>'), HBox(children=(HTML(value='\\n<div>\\n  <style scoped>\\n    …"
      ]
     },
     "metadata": {},
     "output_type": "display_data"
    }
   ],
   "source": [
    "cluster"
   ]
  },
  {
   "cell_type": "markdown",
   "metadata": {},
   "source": [
    "# Data"
   ]
  },
  {
   "cell_type": "markdown",
   "metadata": {},
   "source": [
    "#### Import Data"
   ]
  },
  {
   "cell_type": "markdown",
   "metadata": {},
   "source": [
    "In the [Create SQL Database notebook](https://github.com/SinShady/Riiid_AI_Tutor-Answer_Correctness_Predictions/blob/main/notebooks/create_SQL_database.ipynb), we downloaded and imported the data into a newly created PostgreSQL database. In order to get the data on your local computer, follow the instructions in that notebook and you should be able to connect to the database and run the following cells."
   ]
  },
  {
   "cell_type": "code",
   "execution_count": 4,
   "metadata": {
    "ExecuteTime": {
     "end_time": "2020-12-02T21:27:43.915012Z",
     "start_time": "2020-12-02T21:27:43.748334Z"
    }
   },
   "outputs": [],
   "source": [
    "# Connect to the PostgreSQL database riiid_education we created in our create SQL Database notebook\n",
    "DBNAME = \"riiid_education\"\n",
    "conn = psycopg2.connect(dbname=DBNAME)\n",
    "cursor = conn.cursor()"
   ]
  },
  {
   "cell_type": "code",
   "execution_count": 5,
   "metadata": {
    "ExecuteTime": {
     "end_time": "2020-12-02T21:27:44.069998Z",
     "start_time": "2020-12-02T21:27:43.918010Z"
    }
   },
   "outputs": [
    {
     "data": {
      "text/plain": [
       "['train', 'questions', 'lectures', 'example_test']"
      ]
     },
     "execution_count": 5,
     "metadata": {},
     "output_type": "execute_result"
    }
   ],
   "source": [
    "#create a list of the table names\n",
    "cursor.execute(\"\"\"SELECT table_name FROM information_schema.tables\n",
    "       WHERE table_schema = 'public'\"\"\")\n",
    "tables = []\n",
    "for table in cursor.fetchall():\n",
    "    tables.append(table[0])\n",
    "tables"
   ]
  },
  {
   "cell_type": "code",
   "execution_count": 6,
   "metadata": {
    "ExecuteTime": {
     "end_time": "2020-12-02T21:28:44.898767Z",
     "start_time": "2020-12-02T21:27:44.073998Z"
    }
   },
   "outputs": [],
   "source": [
    "# Read in Data from Database as pandas dataframes\n",
    "train = pd.read_sql(\"\"\"SELECT * \n",
    "FROM train;\"\"\", conn)\n",
    "questions = pd.read_sql(\"SELECT * FROM questions;\", conn)\n",
    "lectures = pd.read_sql(\"SELECT * FROM lectures;\", conn)\n",
    "conn.close()"
   ]
  },
  {
   "cell_type": "markdown",
   "metadata": {},
   "source": [
    "### Data Understanding"
   ]
  },
  {
   "cell_type": "markdown",
   "metadata": {},
   "source": [
    "<b>Description of Features in Train</b>\n",
    "\n",
    "`row_id` - ID for the row.\n",
    "\n",
    "`timestamp` - the time between this user interaction and the first event from that user.\n",
    "\n",
    "`user_id` - ID for the user.\n",
    "\n",
    "`content_id` - ID for the user interaction\n",
    "\n",
    "`content_type_id` - 0 if the event was a question being posed to the user, 1 if the event was the user watching a lecture. Every row with 1 has an answered_correctly value of not answered(-1). Filtering out all rows with content id 1 filters out all the unanswered questions. This is the culprit of our 100% predictions on unanswered.\n",
    "\n",
    "`task_container_id` - ID for the batch of questions or lectures. For example, a user might see three questions in a row before seeing the explanations for any of them. Those three would all share a task_container_id. Monotonically increasing for each user.\n",
    "\n",
    "`user_answer` - the user's answer to the question, if any. Read -1 as null, for lectures.\n",
    "\n",
    "`answered_correctly` - if the user responded correctly. Read -1 as null, for lectures.\n",
    "\n",
    "`prior_question_elapsed_time` - How long it took a user to answer their previous question bundle, ignoring any lectures in between. The value is shared across a single question bundle, and is null for a user's first question bundle or lecture. Note that the time is the total time a user took to solve all the questions in the previous bundle.\n",
    "\n",
    "`prior_question_had_explanation` - Whether or not the user saw an explanation and the correct response(s) after answering the previous question bundle, ignoring any lectures in between. The value is shared across a single question bundle, and is null for a user's first question bundle or lecture. Typically the first several questions a user sees were part of an onboarding diagnostic test where they did not get any feedback."
   ]
  },
  {
   "cell_type": "code",
   "execution_count": 7,
   "metadata": {
    "ExecuteTime": {
     "end_time": "2020-12-02T21:28:45.086761Z",
     "start_time": "2020-12-02T21:28:44.899767Z"
    }
   },
   "outputs": [
    {
     "data": {
      "text/html": [
       "<div>\n",
       "<style scoped>\n",
       "    .dataframe tbody tr th:only-of-type {\n",
       "        vertical-align: middle;\n",
       "    }\n",
       "\n",
       "    .dataframe tbody tr th {\n",
       "        vertical-align: top;\n",
       "    }\n",
       "\n",
       "    .dataframe thead th {\n",
       "        text-align: right;\n",
       "    }\n",
       "</style>\n",
       "<table border=\"1\" class=\"dataframe\">\n",
       "  <thead>\n",
       "    <tr style=\"text-align: right;\">\n",
       "      <th></th>\n",
       "      <th>row_id</th>\n",
       "      <th>timestamp</th>\n",
       "      <th>user_id</th>\n",
       "      <th>content_id</th>\n",
       "      <th>content_type_id</th>\n",
       "      <th>task_container_id</th>\n",
       "      <th>user_answer</th>\n",
       "      <th>answered_correctly</th>\n",
       "      <th>prior_question_elapsed_time</th>\n",
       "      <th>prior_question_had_explanation</th>\n",
       "    </tr>\n",
       "  </thead>\n",
       "  <tbody>\n",
       "    <tr>\n",
       "      <th>0</th>\n",
       "      <td>0</td>\n",
       "      <td>0</td>\n",
       "      <td>115</td>\n",
       "      <td>5692</td>\n",
       "      <td>0</td>\n",
       "      <td>1</td>\n",
       "      <td>3</td>\n",
       "      <td>1</td>\n",
       "      <td>NaN</td>\n",
       "      <td>NaN</td>\n",
       "    </tr>\n",
       "    <tr>\n",
       "      <th>1</th>\n",
       "      <td>1</td>\n",
       "      <td>56943</td>\n",
       "      <td>115</td>\n",
       "      <td>5716</td>\n",
       "      <td>0</td>\n",
       "      <td>2</td>\n",
       "      <td>2</td>\n",
       "      <td>1</td>\n",
       "      <td>37000.0</td>\n",
       "      <td>False</td>\n",
       "    </tr>\n",
       "    <tr>\n",
       "      <th>2</th>\n",
       "      <td>2</td>\n",
       "      <td>118363</td>\n",
       "      <td>115</td>\n",
       "      <td>128</td>\n",
       "      <td>0</td>\n",
       "      <td>0</td>\n",
       "      <td>0</td>\n",
       "      <td>1</td>\n",
       "      <td>55000.0</td>\n",
       "      <td>False</td>\n",
       "    </tr>\n",
       "    <tr>\n",
       "      <th>3</th>\n",
       "      <td>3</td>\n",
       "      <td>131167</td>\n",
       "      <td>115</td>\n",
       "      <td>7860</td>\n",
       "      <td>0</td>\n",
       "      <td>3</td>\n",
       "      <td>0</td>\n",
       "      <td>1</td>\n",
       "      <td>19000.0</td>\n",
       "      <td>False</td>\n",
       "    </tr>\n",
       "    <tr>\n",
       "      <th>4</th>\n",
       "      <td>4</td>\n",
       "      <td>137965</td>\n",
       "      <td>115</td>\n",
       "      <td>7922</td>\n",
       "      <td>0</td>\n",
       "      <td>4</td>\n",
       "      <td>1</td>\n",
       "      <td>1</td>\n",
       "      <td>11000.0</td>\n",
       "      <td>False</td>\n",
       "    </tr>\n",
       "  </tbody>\n",
       "</table>\n",
       "</div>"
      ],
      "text/plain": [
       "   row_id  timestamp  user_id  content_id  content_type_id  task_container_id  \\\n",
       "0       0          0      115        5692                0                  1   \n",
       "1       1      56943      115        5716                0                  2   \n",
       "2       2     118363      115         128                0                  0   \n",
       "3       3     131167      115        7860                0                  3   \n",
       "4       4     137965      115        7922                0                  4   \n",
       "\n",
       "   user_answer  answered_correctly  prior_question_elapsed_time  \\\n",
       "0            3                   1                          NaN   \n",
       "1            2                   1                      37000.0   \n",
       "2            0                   1                      55000.0   \n",
       "3            0                   1                      19000.0   \n",
       "4            1                   1                      11000.0   \n",
       "\n",
       "  prior_question_had_explanation  \n",
       "0                            NaN  \n",
       "1                          False  \n",
       "2                          False  \n",
       "3                          False  \n",
       "4                          False  "
      ]
     },
     "execution_count": 7,
     "metadata": {},
     "output_type": "execute_result"
    }
   ],
   "source": [
    "train.head()"
   ]
  },
  {
   "cell_type": "code",
   "execution_count": 8,
   "metadata": {
    "ExecuteTime": {
     "end_time": "2020-12-02T21:28:45.198758Z",
     "start_time": "2020-12-02T21:28:45.088753Z"
    }
   },
   "outputs": [
    {
     "data": {
      "text/plain": [
       "(101230332, 10)"
      ]
     },
     "execution_count": 8,
     "metadata": {},
     "output_type": "execute_result"
    }
   ],
   "source": [
    "train.shape\n",
    "# 101,230,332 rows"
   ]
  },
  {
   "cell_type": "code",
   "execution_count": 9,
   "metadata": {
    "ExecuteTime": {
     "end_time": "2020-12-02T21:29:18.105394Z",
     "start_time": "2020-12-02T21:28:45.200758Z"
    },
    "scrolled": true
   },
   "outputs": [
    {
     "name": "stdout",
     "output_type": "stream",
     "text": [
      "Count of unique values in each column\n",
      "row_id: 101230332\n",
      "timestamp: 72821015\n",
      "user_id: 393656\n",
      "content_id: 13782\n",
      "content_type_id: 2\n",
      "task_container_id: 10000\n",
      "user_answer: 5\n",
      "answered_correctly: 3\n",
      "prior_question_elapsed_time: 3258\n",
      "prior_question_had_explanation: 2\n"
     ]
    }
   ],
   "source": [
    "# Find number of unique values in each column\n",
    "print(\"Count of unique values in each column\")\n",
    "for column in train.columns:\n",
    "    print(f\"{column}: {train[column].nunique()}\")"
   ]
  },
  {
   "cell_type": "markdown",
   "metadata": {},
   "source": [
    "Categorical Features: `content_type_id`, `user_answer`, `answered_correctly`, `prior_question_had_explanation`"
   ]
  },
  {
   "cell_type": "markdown",
   "metadata": {},
   "source": [
    "<b>Description of Features in Questions</b>\n",
    "\n",
    "`question` - foreign key for the train/test content_id column, when the content type is question (0).\n",
    "\n",
    "`bundle_id` - code for which questions are served together.\n",
    "\n",
    "`correct_answer` - the answer to the question. Can be compared with the train user_answer column to check if the user was right.\n",
    "\n",
    "`part` - top level category code for the question.\n",
    "\n",
    "`tags` - one or more detailed tag codes for the question. The meaning of the tags will not be provided, but these codes are sufficient for clustering the questions together."
   ]
  },
  {
   "cell_type": "code",
   "execution_count": 10,
   "metadata": {
    "ExecuteTime": {
     "end_time": "2020-12-02T21:29:18.226409Z",
     "start_time": "2020-12-02T21:29:18.107385Z"
    }
   },
   "outputs": [
    {
     "data": {
      "text/html": [
       "<div>\n",
       "<style scoped>\n",
       "    .dataframe tbody tr th:only-of-type {\n",
       "        vertical-align: middle;\n",
       "    }\n",
       "\n",
       "    .dataframe tbody tr th {\n",
       "        vertical-align: top;\n",
       "    }\n",
       "\n",
       "    .dataframe thead th {\n",
       "        text-align: right;\n",
       "    }\n",
       "</style>\n",
       "<table border=\"1\" class=\"dataframe\">\n",
       "  <thead>\n",
       "    <tr style=\"text-align: right;\">\n",
       "      <th></th>\n",
       "      <th>question</th>\n",
       "      <th>bundle_id</th>\n",
       "      <th>correct_answer</th>\n",
       "      <th>part</th>\n",
       "      <th>tags</th>\n",
       "    </tr>\n",
       "  </thead>\n",
       "  <tbody>\n",
       "    <tr>\n",
       "      <th>0</th>\n",
       "      <td>0</td>\n",
       "      <td>0</td>\n",
       "      <td>0</td>\n",
       "      <td>1</td>\n",
       "      <td>51 131 162 38                                 ...</td>\n",
       "    </tr>\n",
       "    <tr>\n",
       "      <th>1</th>\n",
       "      <td>1</td>\n",
       "      <td>1</td>\n",
       "      <td>1</td>\n",
       "      <td>1</td>\n",
       "      <td>131 36 81                                     ...</td>\n",
       "    </tr>\n",
       "    <tr>\n",
       "      <th>2</th>\n",
       "      <td>2</td>\n",
       "      <td>2</td>\n",
       "      <td>0</td>\n",
       "      <td>1</td>\n",
       "      <td>131 101 162 92                                ...</td>\n",
       "    </tr>\n",
       "    <tr>\n",
       "      <th>3</th>\n",
       "      <td>3</td>\n",
       "      <td>3</td>\n",
       "      <td>0</td>\n",
       "      <td>1</td>\n",
       "      <td>131 149 162 29                                ...</td>\n",
       "    </tr>\n",
       "    <tr>\n",
       "      <th>4</th>\n",
       "      <td>4</td>\n",
       "      <td>4</td>\n",
       "      <td>3</td>\n",
       "      <td>1</td>\n",
       "      <td>131 5 162 38                                  ...</td>\n",
       "    </tr>\n",
       "  </tbody>\n",
       "</table>\n",
       "</div>"
      ],
      "text/plain": [
       "   question  bundle_id  correct_answer  part  \\\n",
       "0         0          0               0     1   \n",
       "1         1          1               1     1   \n",
       "2         2          2               0     1   \n",
       "3         3          3               0     1   \n",
       "4         4          4               3     1   \n",
       "\n",
       "                                                tags  \n",
       "0  51 131 162 38                                 ...  \n",
       "1  131 36 81                                     ...  \n",
       "2  131 101 162 92                                ...  \n",
       "3  131 149 162 29                                ...  \n",
       "4  131 5 162 38                                  ...  "
      ]
     },
     "execution_count": 10,
     "metadata": {},
     "output_type": "execute_result"
    }
   ],
   "source": [
    "questions.head()"
   ]
  },
  {
   "cell_type": "code",
   "execution_count": 11,
   "metadata": {
    "ExecuteTime": {
     "end_time": "2020-12-02T21:29:18.335388Z",
     "start_time": "2020-12-02T21:29:18.228381Z"
    }
   },
   "outputs": [
    {
     "data": {
      "text/plain": [
       "(13523, 5)"
      ]
     },
     "execution_count": 11,
     "metadata": {},
     "output_type": "execute_result"
    }
   ],
   "source": [
    "questions.shape"
   ]
  },
  {
   "cell_type": "code",
   "execution_count": 12,
   "metadata": {
    "ExecuteTime": {
     "end_time": "2020-12-02T21:29:18.460402Z",
     "start_time": "2020-12-02T21:29:18.337378Z"
    }
   },
   "outputs": [
    {
     "name": "stdout",
     "output_type": "stream",
     "text": [
      "Count of unique values in each column\n",
      "question: 13523\n",
      "bundle_id: 9765\n",
      "correct_answer: 4\n",
      "part: 7\n",
      "tags: 1519\n"
     ]
    }
   ],
   "source": [
    "# Find number of unique values in each column\n",
    "print(\"Count of unique values in each column\")\n",
    "for column in questions.columns:\n",
    "    print(f\"{column}: {questions[column].nunique()}\")"
   ]
  },
  {
   "cell_type": "markdown",
   "metadata": {},
   "source": [
    "Categorical Features: `correct_answer`, `part`\n",
    "\n",
    "Note - Should only need bundle_id, correct_answer and part column."
   ]
  },
  {
   "cell_type": "markdown",
   "metadata": {},
   "source": [
    "<b>Description of Features in Lectures</b>\n",
    "\n",
    "Note - Wont be using this table for our model\n",
    "\n",
    "`lecture_id` - foreign key for the train/test content_id column, when the content type is lecture (1).\n",
    "\n",
    "`part` - top level category code for the lecture.\n",
    "\n",
    "`tag` - one tag codes for the lecture. The meaning of the tags will not be provided, but these codes are sufficient for clustering the lectures together.\n",
    "\n",
    "`type_of` - brief description of the core purpose of the lecture"
   ]
  },
  {
   "cell_type": "code",
   "execution_count": 13,
   "metadata": {
    "ExecuteTime": {
     "end_time": "2020-12-02T21:29:18.570830Z",
     "start_time": "2020-12-02T21:29:18.461373Z"
    }
   },
   "outputs": [
    {
     "data": {
      "text/html": [
       "<div>\n",
       "<style scoped>\n",
       "    .dataframe tbody tr th:only-of-type {\n",
       "        vertical-align: middle;\n",
       "    }\n",
       "\n",
       "    .dataframe tbody tr th {\n",
       "        vertical-align: top;\n",
       "    }\n",
       "\n",
       "    .dataframe thead th {\n",
       "        text-align: right;\n",
       "    }\n",
       "</style>\n",
       "<table border=\"1\" class=\"dataframe\">\n",
       "  <thead>\n",
       "    <tr style=\"text-align: right;\">\n",
       "      <th></th>\n",
       "      <th>lecture_id</th>\n",
       "      <th>tag</th>\n",
       "      <th>part</th>\n",
       "      <th>type_of</th>\n",
       "    </tr>\n",
       "  </thead>\n",
       "  <tbody>\n",
       "    <tr>\n",
       "      <th>0</th>\n",
       "      <td>89</td>\n",
       "      <td>159</td>\n",
       "      <td>5</td>\n",
       "      <td>concept</td>\n",
       "    </tr>\n",
       "    <tr>\n",
       "      <th>1</th>\n",
       "      <td>100</td>\n",
       "      <td>70</td>\n",
       "      <td>1</td>\n",
       "      <td>concept</td>\n",
       "    </tr>\n",
       "    <tr>\n",
       "      <th>2</th>\n",
       "      <td>185</td>\n",
       "      <td>45</td>\n",
       "      <td>6</td>\n",
       "      <td>concept</td>\n",
       "    </tr>\n",
       "    <tr>\n",
       "      <th>3</th>\n",
       "      <td>192</td>\n",
       "      <td>79</td>\n",
       "      <td>5</td>\n",
       "      <td>solving question</td>\n",
       "    </tr>\n",
       "    <tr>\n",
       "      <th>4</th>\n",
       "      <td>317</td>\n",
       "      <td>156</td>\n",
       "      <td>5</td>\n",
       "      <td>solving question</td>\n",
       "    </tr>\n",
       "  </tbody>\n",
       "</table>\n",
       "</div>"
      ],
      "text/plain": [
       "   lecture_id  tag  part               type_of\n",
       "0          89  159     5  concept             \n",
       "1         100   70     1  concept             \n",
       "2         185   45     6  concept             \n",
       "3         192   79     5  solving question    \n",
       "4         317  156     5  solving question    "
      ]
     },
     "execution_count": 13,
     "metadata": {},
     "output_type": "execute_result"
    }
   ],
   "source": [
    "lectures.head()"
   ]
  },
  {
   "cell_type": "code",
   "execution_count": 14,
   "metadata": {
    "ExecuteTime": {
     "end_time": "2020-12-02T21:29:18.679871Z",
     "start_time": "2020-12-02T21:29:18.571829Z"
    }
   },
   "outputs": [
    {
     "name": "stdout",
     "output_type": "stream",
     "text": [
      "Count of unique values in each column\n",
      "lecture_id: 418\n",
      "tag: 151\n",
      "part: 7\n",
      "type_of: 4\n"
     ]
    }
   ],
   "source": [
    "# Find number of unique values in each column\n",
    "print(\"Count of unique values in each column\")\n",
    "for column in lectures.columns:\n",
    "    print(f\"{column}: {lectures[column].nunique()}\")"
   ]
  },
  {
   "cell_type": "markdown",
   "metadata": {},
   "source": [
    "### Data Engineering"
   ]
  },
  {
   "cell_type": "markdown",
   "metadata": {},
   "source": [
    "Later in the notebook, we create a function to do the following data engineering, but I've left this in here for a look at the process.\n",
    "\n",
    "A I am only predicting student answers on questions, there was no need for the lectures data. I joined the train and questions tables on the `content_id` and `question` columns and dropped the columns `user_answer` (since real training data could not have this column), `tags`, and `content_id`.\n",
    "\n",
    "Since the original features were not enough for my model to make accurate predictions, I engineered the following features.\n",
    "- `user_question_count` - the cumulative count of questions each user has answered\n",
    "- `avg_time_per_question` - the cumulative average time spent per question per user\n",
    "- `question_difficulty` - the ratio of wrong answers to total answers per question"
   ]
  },
  {
   "cell_type": "code",
   "execution_count": 15,
   "metadata": {
    "ExecuteTime": {
     "end_time": "2020-12-02T21:29:26.026661Z",
     "start_time": "2020-12-02T21:29:18.680854Z"
    }
   },
   "outputs": [],
   "source": [
    "# Drop all rows with answered_correctly is blank (-1) since these are lectures, not questions\n",
    "train = train[train.content_type_id != 1]\n",
    "\n",
    "# prior_question_had_explanation is type string and should be type bool\n",
    "train['prior_question_had_explanation'] = train['prior_question_had_explanation'].astype('bool')"
   ]
  },
  {
   "cell_type": "markdown",
   "metadata": {},
   "source": [
    "#### Merge train and questions tables"
   ]
  },
  {
   "cell_type": "code",
   "execution_count": 16,
   "metadata": {
    "ExecuteTime": {
     "end_time": "2020-12-02T21:30:07.441405Z",
     "start_time": "2020-12-02T21:29:26.028661Z"
    }
   },
   "outputs": [],
   "source": [
    "df = train.merge(questions, left_on='content_id', right_on='question', how='left')"
   ]
  },
  {
   "cell_type": "code",
   "execution_count": 17,
   "metadata": {
    "ExecuteTime": {
     "end_time": "2020-12-02T21:30:57.110739Z",
     "start_time": "2020-12-02T21:30:07.464404Z"
    }
   },
   "outputs": [],
   "source": [
    "# Drop the columns we don't need\n",
    "# question is already there as content id\n",
    "# user_answer doesn't make sense to have - we can't know that in advance\n",
    "# There are only 2 unique content_type_ids and we dropped one type, no point having a column of zeros\n",
    "# tags has to do with the lecture tags, adressing would be way too calculation heavy for my computer to handle.\n",
    "df.drop(['tags', 'question', 'user_answer', 'content_type_id'], axis=1, inplace=True)"
   ]
  },
  {
   "cell_type": "markdown",
   "metadata": {},
   "source": [
    "#### Feature Engineering"
   ]
  },
  {
   "cell_type": "code",
   "execution_count": 18,
   "metadata": {
    "ExecuteTime": {
     "end_time": "2020-12-02T21:31:06.360840Z",
     "start_time": "2020-12-02T21:30:57.117740Z"
    }
   },
   "outputs": [],
   "source": [
    "# Engineer Feature for how many questions this user has answered prior\n",
    "df[\"user_question_count\"] = df.groupby(\"user_id\").cumcount() + 1"
   ]
  },
  {
   "cell_type": "code",
   "execution_count": 19,
   "metadata": {
    "ExecuteTime": {
     "end_time": "2020-12-02T21:31:45.983606Z",
     "start_time": "2020-12-02T21:31:06.362840Z"
    }
   },
   "outputs": [],
   "source": [
    "# Engineer Feature for average time per questions per user for prior questions\n",
    "cumsum = df.groupby(\"user_id\")[\"prior_question_elapsed_time\"].cumsum()\n",
    "count = df.groupby(\"user_id\").cumcount() + 1\n",
    "df[\"avg_time_per_question\"] = round(cumsum/count, 0)"
   ]
  },
  {
   "cell_type": "code",
   "execution_count": 20,
   "metadata": {
    "ExecuteTime": {
     "end_time": "2020-12-02T21:31:53.172523Z",
     "start_time": "2020-12-02T21:31:45.989619Z"
    }
   },
   "outputs": [],
   "source": [
    "# Engineer Feature for question difficulty (ratio of incorrect/all answers)\n",
    "correct_answers = df.groupby(\"content_id\")[\"answered_correctly\"].sum()\n",
    "all_answers = df.groupby(\"content_id\")[\"answered_correctly\"].count()\n",
    "wrong_answers = all_answers-correct_answers\n",
    "question_difficulty = pd.DataFrame(wrong_answers/all_answers)\n",
    "\n",
    "# Decided not to bin\n",
    "# # Bin difficulty on a scale of 1->10, 1 being easy, 10 being difficult\n",
    "# question_difficulty_binned = pd.cut(x=question_difficulty['answered_correctly'],\n",
    "#                                     bins=np.linspace(0,1,11),\n",
    "#                                     labels=[1, 2, 3, 4, 5, 6, 7, 8, 9, 10])\n",
    "# question_difficulty_binned = pd.DataFrame(question_difficulty_binned)\n",
    "\n",
    "question_difficulty = question_difficulty.rename(columns={\"answered_correctly\": \"question_difficulty\"}).reset_index()"
   ]
  },
  {
   "cell_type": "code",
   "execution_count": 21,
   "metadata": {
    "ExecuteTime": {
     "end_time": "2020-12-02T21:33:10.477213Z",
     "start_time": "2020-12-02T21:31:53.177432Z"
    }
   },
   "outputs": [],
   "source": [
    "# Merge question_difficulty_binned into main DataFrame\n",
    "df= df.merge(question_difficulty, on='content_id', how=\"left\")"
   ]
  },
  {
   "cell_type": "code",
   "execution_count": 22,
   "metadata": {
    "ExecuteTime": {
     "end_time": "2020-12-02T21:33:55.916264Z",
     "start_time": "2020-12-02T21:33:10.547202Z"
    }
   },
   "outputs": [],
   "source": [
    "# Split data into features and target\n",
    "X = df.drop('answered_correctly', axis=1)\n",
    "y = df['answered_correctly'] "
   ]
  },
  {
   "cell_type": "markdown",
   "metadata": {},
   "source": [
    "### Data Visualization"
   ]
  },
  {
   "cell_type": "code",
   "execution_count": 111,
   "metadata": {
    "ExecuteTime": {
     "end_time": "2020-12-02T23:35:23.153895Z",
     "start_time": "2020-12-02T23:35:22.275559Z"
    }
   },
   "outputs": [
    {
     "data": {
      "image/png": "[encoded data removed]",
      "text/plain": [
       "<Figure size 360x360 with 1 Axes>"
      ]
     },
     "metadata": {},
     "output_type": "display_data"
    }
   ],
   "source": [
    "# Class Distribution\n",
    "sns.set(context = 'notebook', style='whitegrid')\n",
    "fig, ax = plt.subplots(figsize = (5,5)) \n",
    "ax = sns.countplot(y, palette = ['#d77ead', '#645ca7'], alpha=.8)\n",
    "ax.axes.set_title(\"Class Distribution\",fontsize=28)\n",
    "ax.set_xlabel(\"Answers\",fontsize=22, labelpad=10)\n",
    "ax.set_ylabel(\"Count\",fontsize=22, labelpad=10)\n",
    "ax.set_xticklabels(['Incorrect', \"Correct\"], fontsize=16)\n",
    "# ax.set_yticklabels(['0', '10,000', '20,000', '30,000', '40,000', '50,000', '60,000'], fontsize=15)\n",
    "ax.spines['top'].set_visible(False)\n",
    "ax.spines['right'].set_visible(False)\n",
    "ax.spines['left'].set_visible(False)\n",
    "ax.yaxis.set_major_formatter(ticker.StrMethodFormatter('{x:,.0f}'))\n",
    "plt.savefig('../../reports/figures/class_imbalance.png', bbox_inches='tight', transparent=True);"
   ]
  },
  {
   "cell_type": "markdown",
   "metadata": {},
   "source": [
    "This is the distribution of our target variable - answers - in the Ednet Database. We can see students are getting over twice as many answers correct than incorrect."
   ]
  },
  {
   "cell_type": "code",
   "execution_count": 24,
   "metadata": {
    "ExecuteTime": {
     "end_time": "2020-12-02T21:34:28.558259Z",
     "start_time": "2020-12-02T21:34:14.040702Z"
    }
   },
   "outputs": [
    {
     "data": {
      "image/png": "[encoded data removed]",
      "text/plain": [
       "<Figure size 720x360 with 1 Axes>"
      ]
     },
     "metadata": {},
     "output_type": "display_data"
    }
   ],
   "source": [
    "# Viz for Questions Answered per Topic\n",
    "sns.set(context = 'notebook', style='whitegrid')\n",
    "plt.figure(figsize = (10, 5))\n",
    "ax = sns.countplot(data=df, x='part', hue='answered_correctly', palette=['#d77ead', '#645ca7'], alpha=.8)\n",
    "ax.set(xlabel = '', ylabel = '')\n",
    "legend_labels, _= ax.get_legend_handles_labels()\n",
    "ax.legend(legend_labels, ['Incorrect','Correct'], fontsize='large', title_fontsize='20')\n",
    "ax.axes.set_title(\"Questions Answered per Topic\", y= 1.1, fontsize=25, color='black')\n",
    "ax.set_xlabel(\"Topic\",fontsize=22, color='black', labelpad=10)\n",
    "ax.set_ylabel(\"Count\",fontsize=22, color='black', labelpad=10)\n",
    "ax.set_xticklabels(['1', '2', '3', '4', '5', '6', '7'], fontsize=15, color='black')\n",
    "# ax.set_yticklabels(['0', '5,000,000', '10,000,000', '15,000,000', '20,000,000', '25,000,000'], fontsize=15, color='black')\n",
    "# ax.grid(color='white', axis='y')\n",
    "ax.spines['right'].set_visible(False)\n",
    "ax.spines['top'].set_visible(False)\n",
    "ax.spines['left'].set_visible(False)\n",
    "ax.spines['bottom'].set_color('black')\n",
    "ax.yaxis.set_major_formatter(ticker.StrMethodFormatter('{x:,.0f}'))\n",
    "plt.savefig('../../reports/figures/parts.png', bbox_inches='tight', transparent=True);"
   ]
  },
  {
   "cell_type": "markdown",
   "metadata": {},
   "source": [
    "Another feature in the dataset was topics numbered from 1-7 shown by this plot. Ednet has not provided the information for which number belongs to which topic, but that’s understandable given consideration of student privacy. Here we can see some topics have a greater class imbalance than others, which means this feature will help our model more accurately predict student outcomes. For example, students on average seem to be performing better on topic 1 than on topic 4. Topic 5 seems to be very popular."
   ]
  },
  {
   "cell_type": "code",
   "execution_count": 25,
   "metadata": {
    "ExecuteTime": {
     "end_time": "2020-12-02T21:34:41.700449Z",
     "start_time": "2020-12-02T21:34:28.560258Z"
    },
    "scrolled": false
   },
   "outputs": [
    {
     "data": {
      "image/png": "[encoded data removed]",
      "text/plain": [
       "<Figure size 360x360 with 1 Axes>"
      ]
     },
     "metadata": {},
     "output_type": "display_data"
    }
   ],
   "source": [
    "plt.figure(figsize = (5, 5))\n",
    "ax = sns.countplot(data=df, x='prior_question_had_explanation', hue='answered_correctly', palette=['#d77ead', '#645ca7'], alpha=.8)\n",
    "legend_labels, _= ax.get_legend_handles_labels()\n",
    "ax.legend(legend_labels, ['Incorrect','Correct'], fontsize='large', title_fontsize='20', loc='upper center')\n",
    "ax.axes.set_title(\"Prior Question had Explanation\", y= 1.1, fontsize=25, color='black')\n",
    "ax.set_xlabel(\"Prior Question\",fontsize=22, color='black', labelpad=10)\n",
    "ax.set_ylabel(\"Count\",fontsize=22, color='black', labelpad=10)\n",
    "ax.set_xticklabels(['Explanation', 'No Explanation'], fontsize=15, color='black')\n",
    "# ax.grid(color='white', axis='y')\n",
    "ax.spines['right'].set_visible(False)\n",
    "ax.spines['top'].set_visible(False)\n",
    "ax.spines['left'].set_visible(False)\n",
    "ax.spines['bottom'].set_color('black')\n",
    "ax.yaxis.set_major_formatter(ticker.StrMethodFormatter('{x:,.0f}'))\n",
    "plt.savefig('../../reports/figures/prior_q_explanation.png', bbox_inches='tight', transparent=True);"
   ]
  },
  {
   "cell_type": "markdown",
   "metadata": {},
   "source": [
    "Another feature was if the prior qestion had an explanation or not. As it looks like most prior questions did not have an explantion, this feature doesnt seem immensly helpful for my model."
   ]
  },
  {
   "cell_type": "code",
   "execution_count": 32,
   "metadata": {
    "ExecuteTime": {
     "end_time": "2020-12-02T22:27:11.856638Z",
     "start_time": "2020-12-02T22:27:11.095660Z"
    },
    "scrolled": false
   },
   "outputs": [
    {
     "data": {
      "image/png": "[encoded data removed]",
      "text/plain": [
       "<Figure size 864x360 with 1 Axes>"
      ]
     },
     "metadata": {},
     "output_type": "display_data"
    }
   ],
   "source": [
    "# Viz for dist plot for question difficulty\n",
    "plt.figure(figsize = (12, 5))\n",
    "ax = sns.distplot(question_difficulty['question_difficulty']*10, bins=100, kde_kws=dict(color = '#645ca7', linewidth=1.5),\n",
    "                  color='#d77ead', hist_kws=dict(alpha=1))\n",
    "ax.set_title(\"Question Difficulty Distribution\", fontsize=30, color='black')\n",
    "ax.set_xlabel(\"Question Difficulty\",fontsize=25, color='black', labelpad=10)\n",
    "ax.set_ylabel(\"Density\",fontsize=25, color='black', labelpad=10)\n",
    "plt.xticks(range(0,11), fontsize=15, color='black')\n",
    "plt.yticks(fontsize=15, color='black')\n",
    "ax.grid(False)\n",
    "ax.grid(color='black', axis='y')\n",
    "ax.spines['right'].set_visible(False)\n",
    "ax.spines['top'].set_visible(False)\n",
    "ax.spines['left'].set_visible(False)\n",
    "ax.spines['bottom'].set_color('black')\n",
    "plt.setp(ax.patches, linewidth=1, edgecolor='#eeeeee')\n",
    "plt.savefig('../../reports/figures/Question_difficulty.png', bbox_inches='tight', transparent=True);"
   ]
  },
  {
   "cell_type": "markdown",
   "metadata": {},
   "source": [
    "To improve my model performance, I also engineered features such as the cumulative question count per user, cumulative average time per question per user, and question difficulty which we can see represented here on a scale of 0 to 10 as a right skewed normal distribution. This new feature significantly increased my model performance. I calculated this by dividing the number of incorrect answers by the amount of total answers per unique question in the database. For all the questions with a difficulty of 0, every student answered correctly, while for all the questions with a difficulty of 10, nobody answered correctly. The average question, has a difficulty around 2, meaning about 80% of students answered those questions correctly"
   ]
  },
  {
   "cell_type": "markdown",
   "metadata": {},
   "source": [
    "Taking a subset of the data to work with to create violin plots without too much noise"
   ]
  },
  {
   "cell_type": "code",
   "execution_count": 33,
   "metadata": {
    "ExecuteTime": {
     "end_time": "2020-12-02T22:29:46.645115Z",
     "start_time": "2020-12-02T22:29:40.673438Z"
    }
   },
   "outputs": [],
   "source": [
    "# Take a subset of the data to work with (1,000,000 rows)\n",
    "# Taking the first 1,000,000 rows rather than a random sample because we want sequential data for each user\n",
    "DBNAME = \"riiid_education\"\n",
    "conn = psycopg2.connect(dbname=DBNAME)\n",
    "cursor = conn.cursor()\n",
    "\n",
    "data_small = pd.read_sql(\"\"\"SELECT * \n",
    "FROM train\n",
    "LIMIT 1000000;\"\"\", conn)\n",
    "\n",
    "conn.close()"
   ]
  },
  {
   "cell_type": "markdown",
   "metadata": {},
   "source": [
    "The code for the following function resides in riiid_functions.py in the src folder"
   ]
  },
  {
   "cell_type": "code",
   "execution_count": 35,
   "metadata": {
    "ExecuteTime": {
     "end_time": "2020-12-02T22:31:11.187321Z",
     "start_time": "2020-12-02T22:31:09.575905Z"
    }
   },
   "outputs": [],
   "source": [
    "df_small = riiid_functions.engineer_data(data_small, question_difficulty)"
   ]
  },
  {
   "cell_type": "code",
   "execution_count": 36,
   "metadata": {
    "ExecuteTime": {
     "end_time": "2020-12-02T22:31:17.092323Z",
     "start_time": "2020-12-02T22:31:13.673250Z"
    },
    "scrolled": false
   },
   "outputs": [
    {
     "data": {
      "image/png": "[encoded data removed]",
      "text/plain": [
       "<Figure size 504x432 with 1 Axes>"
      ]
     },
     "metadata": {},
     "output_type": "display_data"
    }
   ],
   "source": [
    "# Violin Plot for Prior_Question_Elapsed_Time\n",
    "df_small['prior_question_time_seconds'] = df_small['prior_question_elapsed_time'].fillna(0).apply(riiid_functions.time_reformat_seconds)\n",
    "# df['prior_question_time_datetime'] = df['prior_question_time_datetime'].apply(time_reformat)\n",
    "# prior_question\n",
    "plt.figure(figsize = (7, 6))\n",
    "ax = sns.violinplot(y='prior_question_time_seconds', x='answered_correctly', data=df_small, palette=['#d77ead', '#645ca7'])\n",
    "ax.set_title(\"Prior Question Elapsed Time\", fontsize=26, color='black')\n",
    "ax.set_xticklabels(['Incorrect', 'Correct'], fontsize=15, color='black')\n",
    "ax.set_xlabel(\"Answers\",fontsize=20, color='white', labelpad=10)\n",
    "ax.set_ylabel(\"Time (in seconds)\",fontsize=20, color='black', labelpad=10)\n",
    "plt.xticks(fontsize=15, color='black');\n",
    "plt.yticks(fontsize=15, color='black')\n",
    "ax.grid(False)\n",
    "ax.grid(color='black', axis='y')\n",
    "ax.spines['right'].set_visible(False)\n",
    "ax.spines['top'].set_visible(False)\n",
    "ax.spines['left'].set_visible(False)\n",
    "plt.savefig('../../reports/figures/prior_question_time_violin.png', bbox_inches='tight', transparent=True);"
   ]
  },
  {
   "cell_type": "markdown",
   "metadata": {},
   "source": [
    "Features in the dataset also include cumulative timestamps per user, and prior question elapsed time, which is shown here as a violin plot. The widest part shows how long most questions took to answer, which is around 18 seconds. The next wide part is at 0 since the prior question elapsed time for the first question for every user is 0. We can see that most users tend to get the first question wrong. The small white dot shows the average time per question – 20 seconds. Overall, the shapes of both violins are very similar which suggests that this feature will only help a little in predicting student answers."
   ]
  },
  {
   "cell_type": "markdown",
   "metadata": {},
   "source": [
    "### Prepare data for modeling"
   ]
  },
  {
   "cell_type": "markdown",
   "metadata": {},
   "source": [
    " As the dataset of over 100,000 student interactions was too big for my sole computer to handle, I used a subset - 1 million interactions to choose and tune my models"
   ]
  },
  {
   "cell_type": "code",
   "execution_count": 96,
   "metadata": {
    "ExecuteTime": {
     "end_time": "2020-12-02T23:14:14.619579Z",
     "start_time": "2020-12-02T23:14:13.743199Z"
    }
   },
   "outputs": [],
   "source": [
    "# Taking an even smaller subset of the data to run our various models (100,000 rows)\n",
    "# Taking the first 100,000 rows rather than a random sample because we want sequential data for each user\n",
    "DBNAME = \"riiid_education\"\n",
    "conn = psycopg2.connect(dbname=DBNAME)\n",
    "cursor = conn.cursor()\n",
    "data_smallest = pd.read_sql(\"\"\"SELECT * \n",
    "FROM train\n",
    "LIMIT 100000;\"\"\", conn)\n",
    "conn.close()\n",
    "\n",
    "df_smallest = riiid_functions.engineer_data(data_smallest, question_difficulty)"
   ]
  },
  {
   "cell_type": "code",
   "execution_count": 97,
   "metadata": {
    "ExecuteTime": {
     "end_time": "2020-12-02T23:14:14.776555Z",
     "start_time": "2020-12-02T23:14:14.621561Z"
    }
   },
   "outputs": [],
   "source": [
    "# Split data into features and target\n",
    "X = df_smallest.drop('answered_correctly', axis=1)\n",
    "y = df_smallest['answered_correctly'] \n",
    "\n",
    "# Train Test Split the data\n",
    "X_train, X_test, y_train, y_test = train_test_split(X, y, test_size=.2, random_state=42)"
   ]
  },
  {
   "cell_type": "code",
   "execution_count": 98,
   "metadata": {
    "ExecuteTime": {
     "end_time": "2020-12-02T23:14:14.888542Z",
     "start_time": "2020-12-02T23:14:14.778547Z"
    }
   },
   "outputs": [],
   "source": [
    "# Pipeline for preprocessing numeric features\n",
    "# numeric_features = list(X.select_dtypes(exclude='object').columns)\n",
    "numeric_features = ['timestamp', 'row_id', 'user_id', 'content_id', 'task_container_id', 'question_difficulty',\n",
    "                    'prior_question_elapsed_time', 'avg_time_per_question', 'bundle_id', 'user_question_count']\n",
    "numeric_transformer = Pipeline(steps=[\n",
    "    ('imputer', SimpleImputer(strategy='median')),\n",
    "    ('scaler', StandardScaler())])\n",
    "\n",
    "# Pipeline for preprocessing categorical features\n",
    "# categorical_features = list(X.select_dtypes(include='object').columns)\n",
    "categorical_features = ['part', 'prior_question_had_explanation', 'correct_answer']\n",
    "categorical_transformer = Pipeline(steps=[\n",
    "    ('imputer', SimpleImputer(fill_value='None')),\n",
    "    ('one_hot_encoder', OneHotEncoder(sparse=False))])\n",
    "\n",
    "# Pipeline for preprocessing combined\n",
    "preprocessor = ColumnTransformer(\n",
    "    transformers=[\n",
    "        ('num', numeric_transformer, numeric_features),\n",
    "        ('cat', categorical_transformer, categorical_features)])"
   ]
  },
  {
   "cell_type": "code",
   "execution_count": 99,
   "metadata": {
    "ExecuteTime": {
     "end_time": "2020-12-02T23:14:16.874008Z",
     "start_time": "2020-12-02T23:14:16.554943Z"
    }
   },
   "outputs": [],
   "source": [
    "# Use preprocessing pipeline to transform the data\n",
    "X_train_transformed = preprocessor.fit_transform(X_train)\n",
    "X_test_transformed = preprocessor.transform(X_test)"
   ]
  },
  {
   "cell_type": "markdown",
   "metadata": {},
   "source": [
    "# Modeling"
   ]
  },
  {
   "cell_type": "markdown",
   "metadata": {},
   "source": [
    "#### First Simple Model"
   ]
  },
  {
   "cell_type": "code",
   "execution_count": 41,
   "metadata": {
    "ExecuteTime": {
     "end_time": "2020-12-02T22:31:19.985528Z",
     "start_time": "2020-12-02T22:31:19.292275Z"
    }
   },
   "outputs": [
    {
     "data": {
      "text/plain": [
       "LogisticRegression()"
      ]
     },
     "execution_count": 41,
     "metadata": {},
     "output_type": "execute_result"
    }
   ],
   "source": [
    "# Logistic Regression Model Fit\n",
    "fsm = LogisticRegression()\n",
    "fsm.fit(X_train_transformed, y_train)"
   ]
  },
  {
   "cell_type": "code",
   "execution_count": 42,
   "metadata": {
    "ExecuteTime": {
     "end_time": "2020-12-02T22:31:20.227522Z",
     "start_time": "2020-12-02T22:31:19.987528Z"
    }
   },
   "outputs": [
    {
     "name": "stdout",
     "output_type": "stream",
     "text": [
      "              precision    recall  f1-score   support\n",
      "\n",
      "           0       0.62      0.36      0.46     26911\n",
      "           1       0.73      0.88      0.80     51358\n",
      "\n",
      "    accuracy                           0.70     78269\n",
      "   macro avg       0.67      0.62      0.63     78269\n",
      "weighted avg       0.69      0.70      0.68     78269\n",
      "\n"
     ]
    }
   ],
   "source": [
    "# Score on our training data\n",
    "y_pred = fsm.predict(X_train_transformed)\n",
    "print(classification_report(y_train, y_pred))"
   ]
  },
  {
   "cell_type": "code",
   "execution_count": 43,
   "metadata": {
    "ExecuteTime": {
     "end_time": "2020-12-02T22:31:20.382515Z",
     "start_time": "2020-12-02T22:31:20.229522Z"
    }
   },
   "outputs": [
    {
     "name": "stdout",
     "output_type": "stream",
     "text": [
      "              precision    recall  f1-score   support\n",
      "\n",
      "           0       0.60      0.37      0.46      6670\n",
      "           1       0.73      0.88      0.80     12898\n",
      "\n",
      "    accuracy                           0.70     19568\n",
      "   macro avg       0.67      0.62      0.63     19568\n",
      "weighted avg       0.69      0.70      0.68     19568\n",
      "\n"
     ]
    }
   ],
   "source": [
    "# Score on our testing data\n",
    "y_pred = fsm.predict(X_test_transformed)\n",
    "print(classification_report(y_test, y_pred))"
   ]
  },
  {
   "cell_type": "code",
   "execution_count": 44,
   "metadata": {
    "ExecuteTime": {
     "end_time": "2020-12-02T22:31:22.092464Z",
     "start_time": "2020-12-02T22:31:20.385516Z"
    }
   },
   "outputs": [
    {
     "data": {
      "text/plain": [
       "array([0.70569297, 0.70608678, 0.70373588, 0.6999029 ])"
      ]
     },
     "execution_count": 44,
     "metadata": {},
     "output_type": "execute_result"
    }
   ],
   "source": [
    "cross_val_score(fsm, X_train_transformed, y_train, cv=4)"
   ]
  },
  {
   "cell_type": "code",
   "execution_count": 45,
   "metadata": {
    "ExecuteTime": {
     "end_time": "2020-12-02T22:31:22.618447Z",
     "start_time": "2020-12-02T22:31:22.094464Z"
    }
   },
   "outputs": [
    {
     "data": {
      "image/png": "[encoded data removed]",
      "text/plain": [
       "<Figure size 432x288 with 2 Axes>"
      ]
     },
     "metadata": {},
     "output_type": "display_data"
    }
   ],
   "source": [
    "# Confusion matrix\n",
    "sns.set(context = 'notebook', style = 'white')\n",
    "plot_confusion_matrix(fsm, X_test_transformed, y_test, cmap='RdPu', normalize='true')\n",
    "plt.title('First Simple Model',fontsize=20)\n",
    "plt.xlabel(\"Predicted Labels\",fontsize=17, labelpad=10)\n",
    "plt.ylabel(\"True Labels\",fontsize=17,  labelpad=10)\n",
    "plt.xticks([0,1], ('Incorrect', \"Correct\"), fontsize=14)\n",
    "plt.yticks([0,1], ('Incorrect', \"Correct\"), rotation=90, fontsize=14)\n",
    "plt.savefig('../../reports/figures/fsm_matrix.png', bbox_inches='tight', transparent=True);"
   ]
  },
  {
   "cell_type": "markdown",
   "metadata": {},
   "source": [
    "We are severely underpredicting incorrectly answered. Our recall is a mere .12. This is due to class imbalance - there are much more correctly answered questions than incorrect. Let's resample the data the adress this issue"
   ]
  },
  {
   "cell_type": "markdown",
   "metadata": {},
   "source": [
    "### Further Data Preprocessing"
   ]
  },
  {
   "cell_type": "markdown",
   "metadata": {},
   "source": [
    "#### Using Smote to Deal with Class Imbalance"
   ]
  },
  {
   "cell_type": "code",
   "execution_count": 46,
   "metadata": {
    "ExecuteTime": {
     "end_time": "2020-12-02T22:31:28.707931Z",
     "start_time": "2020-12-02T22:31:22.621448Z"
    }
   },
   "outputs": [
    {
     "name": "stdout",
     "output_type": "stream",
     "text": [
      "Before OverSampling, counts of label -1: 0\n",
      "Before OverSampling, counts of label 0: 26911\n",
      "Before OverSampling, counts of label 1: 51358 \n",
      "\n",
      "After OverSampling, the shape of train_X: (102716, 23)\n",
      "After OverSampling, the shape of train_y: (102716,) \n",
      "\n",
      "After OverSampling, counts of label -1: 0\n",
      "Before OverSampling, counts of label 0: 26911\n",
      "After OverSampling, counts of label 1: 51358\n"
     ]
    }
   ],
   "source": [
    "print(\"Before OverSampling, counts of label -1: {}\".format(sum(y_train == -1))) \n",
    "print(\"Before OverSampling, counts of label 0: {}\".format(sum(y_train == 0))) \n",
    "print(\"Before OverSampling, counts of label 1: {} \\n\".format(sum(y_train == 1))) \n",
    "\n",
    "with joblib.parallel_backend('dask'):\n",
    "    # import SMOTE module from imblearn library \n",
    "    # pip install imblearn (if you don't have imblearn in your system) \n",
    "    sm = SMOTE(random_state = 42) \n",
    "    X_train_res, y_train_res = sm.fit_sample(X_train_transformed, y_train.ravel()) \n",
    "\n",
    "print('After OverSampling, the shape of train_X: {}'.format(X_train_res.shape)) \n",
    "print('After OverSampling, the shape of train_y: {} \\n'.format(y_train_res.shape)) \n",
    "\n",
    "print(\"After OverSampling, counts of label -1: {}\".format(sum(y_train_res == -1))) \n",
    "print(\"Before OverSampling, counts of label 0: {}\".format(sum(y_train == 0))) \n",
    "print(\"After OverSampling, counts of label 1: {}\".format(sum(y_train_res == 1)))"
   ]
  },
  {
   "cell_type": "code",
   "execution_count": 47,
   "metadata": {
    "ExecuteTime": {
     "end_time": "2020-12-02T22:31:29.260796Z",
     "start_time": "2020-12-02T22:31:28.708932Z"
    }
   },
   "outputs": [
    {
     "data": {
      "image/png": "[encoded data removed]",
      "text/plain": [
       "<Figure size 576x288 with 2 Axes>"
      ]
     },
     "metadata": {},
     "output_type": "display_data"
    }
   ],
   "source": [
    "sns.set(context = 'notebook', style = 'whitegrid')\n",
    "\n",
    "fig, axes = plt.subplots(1, 2, figsize = (8,4)) \n",
    "ax = sns.countplot(y, palette = ['#d77ead', '#d77ead'], ax=axes[0], alpha=.8)\n",
    "ax.set_title(\"Class Distribution Before Smote\",fontsize=15)\n",
    "ax.set_xlabel(\"Answers\",fontsize=15, labelpad=10)\n",
    "ax.set_ylabel(\"Count\",fontsize=15,  labelpad=10)\n",
    "ax.set_xticklabels(['Incorrect', \"Correct\"], fontsize=13)\n",
    "ax.set_yticklabels(['0', '10,000', '20,000', '30,000', '40,000', '50,000', '60,000'], fontsize=15)\n",
    "ax.spines['top'].set_visible(False)\n",
    "ax.spines['right'].set_visible(False)\n",
    "ax.spines['left'].set_visible(False)\n",
    "\n",
    "ax2 = sns.countplot(y_train_res, palette = ['#645ca7', '#645ca7'], ax=axes[1], alpha=.8)\n",
    "ax2.set_title(\"Class Distribution After Smote\",fontsize=15)\n",
    "ax2.set_xlabel(\"Answers\",fontsize=15, labelpad=10)\n",
    "ax2.set_ylabel(\"Count\",fontsize=15,  labelpad=10)\n",
    "ax2.set_xticklabels(['Incorrect', \"Correct\"], fontsize=15)\n",
    "ax2.set_yticklabels(['0', '10,000', '20,000', '30,000', '40,000', '50,000', '60,000'], fontsize=15)\n",
    "ax2.spines['top'].set_visible(False)\n",
    "ax2.spines['right'].set_visible(False)\n",
    "ax2.spines['left'].set_visible(False)\n",
    "\n",
    "fig.tight_layout()\n",
    "plt.savefig('../../reports/figures/Fixing_class_imbalance.jpg', bbox_inches='tight');"
   ]
  },
  {
   "cell_type": "markdown",
   "metadata": {},
   "source": [
    "#### Logistic Regression After Smote"
   ]
  },
  {
   "cell_type": "code",
   "execution_count": 48,
   "metadata": {
    "ExecuteTime": {
     "end_time": "2020-12-02T22:31:29.381856Z",
     "start_time": "2020-12-02T22:31:29.263796Z"
    }
   },
   "outputs": [],
   "source": [
    "# # Grid Search for best params for Logistic Regression Classifier\n",
    "# params = {\n",
    "#     'penalty':['l1', 'l2', 'elasticnet'],        # l1 is Lasso, l2 is Ridge\n",
    "#     'solver':['liblinear', 'saga'],\n",
    "#     'C': [.001,.1, 1, 10],\n",
    "#     'verbose': [0, 1],\n",
    "#     'max_iter': [.5, 1, 2],\n",
    "#     'tol': [1, 10, 100]\n",
    "# }\n",
    "# lr_gs = GridSearchCV(LogisticRegression(random_state=42), params, cv=3)\n",
    "# with joblib.parallel_backend('dask'):\n",
    "#     lr_gs.fit(X_train_res, y_train_res)\n",
    "\n",
    "# print(\"Best Params\", lr_gs.best_params_)\n",
    "# print(\"Best Score\", lr_gs.best_score_)\n",
    "\n",
    "# # Best Params {'C': 1, 'max_iter': 5, 'penalty': 'l2', 'solver': 'liblinear', 'tol': 1, 'verbose': 0}\n",
    "# # Best Score 0.5575444544102709"
   ]
  },
  {
   "cell_type": "code",
   "execution_count": 49,
   "metadata": {
    "ExecuteTime": {
     "end_time": "2020-12-02T22:31:29.610861Z",
     "start_time": "2020-12-02T22:31:29.389858Z"
    }
   },
   "outputs": [
    {
     "data": {
      "text/plain": [
       "LogisticRegression(C=1, max_iter=1, random_state=42, solver='liblinear', tol=1)"
      ]
     },
     "execution_count": 49,
     "metadata": {},
     "output_type": "execute_result"
    }
   ],
   "source": [
    "# Plug in best params and run model\n",
    "lr_best = LogisticRegression(random_state=42, penalty= 'l2', solver= 'liblinear', C=1, verbose=0, max_iter=1, tol=1)\n",
    "lr_best.fit(X_train_res, y_train_res)"
   ]
  },
  {
   "cell_type": "code",
   "execution_count": 50,
   "metadata": {
    "ExecuteTime": {
     "end_time": "2020-12-02T22:31:29.873844Z",
     "start_time": "2020-12-02T22:31:29.611851Z"
    }
   },
   "outputs": [
    {
     "name": "stdout",
     "output_type": "stream",
     "text": [
      "              precision    recall  f1-score   support\n",
      "\n",
      "           0       0.67      0.62      0.64     51358\n",
      "           1       0.65      0.70      0.67     51358\n",
      "\n",
      "    accuracy                           0.66    102716\n",
      "   macro avg       0.66      0.66      0.66    102716\n",
      "weighted avg       0.66      0.66      0.66    102716\n",
      "\n"
     ]
    }
   ],
   "source": [
    "# Score on our training data\n",
    "y_pred = lr_best.predict(X_train_res)\n",
    "print(classification_report(y_train_res, y_pred))"
   ]
  },
  {
   "cell_type": "code",
   "execution_count": 51,
   "metadata": {
    "ExecuteTime": {
     "end_time": "2020-12-02T22:31:30.024838Z",
     "start_time": "2020-12-02T22:31:29.875844Z"
    },
    "scrolled": true
   },
   "outputs": [
    {
     "name": "stdout",
     "output_type": "stream",
     "text": [
      "              precision    recall  f1-score   support\n",
      "\n",
      "           0       0.52      0.62      0.56      6670\n",
      "           1       0.78      0.70      0.74     12898\n",
      "\n",
      "    accuracy                           0.67     19568\n",
      "   macro avg       0.65      0.66      0.65     19568\n",
      "weighted avg       0.69      0.67      0.68     19568\n",
      "\n"
     ]
    }
   ],
   "source": [
    "# Score on testing data\n",
    "y_pred = lr_best.predict(X_test_transformed)\n",
    "print(classification_report(y_test, y_pred))"
   ]
  },
  {
   "cell_type": "code",
   "execution_count": 52,
   "metadata": {
    "ExecuteTime": {
     "end_time": "2020-12-02T22:31:30.413346Z",
     "start_time": "2020-12-02T22:31:30.029838Z"
    }
   },
   "outputs": [
    {
     "data": {
      "text/plain": [
       "array([0.70528414, 0.70368478, 0.70046507, 0.6983697 ])"
      ]
     },
     "execution_count": 52,
     "metadata": {},
     "output_type": "execute_result"
    }
   ],
   "source": [
    "cross_val_score(lr_best, X_train_transformed, y_train, cv=4)"
   ]
  },
  {
   "cell_type": "code",
   "execution_count": 53,
   "metadata": {
    "ExecuteTime": {
     "end_time": "2020-12-02T22:31:30.703339Z",
     "start_time": "2020-12-02T22:31:30.415347Z"
    }
   },
   "outputs": [
    {
     "data": {
      "image/png": "[encoded data removed]",
      "text/plain": [
       "<Figure size 432x288 with 2 Axes>"
      ]
     },
     "metadata": {},
     "output_type": "display_data"
    }
   ],
   "source": [
    "# Confusion matrix\n",
    "sns.set(context = 'notebook', style = 'white')\n",
    "plot_confusion_matrix(lr_best, X_test_transformed, y_test, cmap='RdPu')\n",
    "plt.title('Logistic Regression',fontsize=20)\n",
    "plt.xlabel(\"Predicted Labels\",fontsize=17, labelpad=10)\n",
    "plt.ylabel(\"True Labels\",fontsize=17,  labelpad=10)\n",
    "plt.xticks([0,1], ('Incorrect', \"Correct\"), fontsize=14)\n",
    "plt.yticks([0,1], ('Incorrect', \"Correct\"), rotation=90, fontsize=14);"
   ]
  },
  {
   "cell_type": "markdown",
   "metadata": {},
   "source": [
    "#### K Nearest Neighbors"
   ]
  },
  {
   "cell_type": "code",
   "execution_count": 54,
   "metadata": {
    "ExecuteTime": {
     "end_time": "2020-12-02T22:31:30.823361Z",
     "start_time": "2020-12-02T22:31:30.705339Z"
    }
   },
   "outputs": [],
   "source": [
    "# # Grid Search for best params for KNN Classifier *Do this overnight, takes forever*\n",
    "# params = {\n",
    "#     'n_neighbors': [3, 5],\n",
    "#     'weights': ['uniform', 'distance'],\n",
    "#     'p' : [1,2]\n",
    "# }\n",
    "\n",
    "# knn_gs = GridSearchCV(KNeighborsClassifier(), params)\n",
    "# with joblib.parallel_backend('dask'):\n",
    "#     knn_gs.fit(X_train_res, y_train_res)\n",
    "\n",
    "# print(\"Best Params\", knn_gs.best_params_)"
   ]
  },
  {
   "cell_type": "code",
   "execution_count": 55,
   "metadata": {
    "ExecuteTime": {
     "end_time": "2020-12-02T22:31:32.077300Z",
     "start_time": "2020-12-02T22:31:30.825333Z"
    }
   },
   "outputs": [
    {
     "data": {
      "text/plain": [
       "KNeighborsClassifier()"
      ]
     },
     "execution_count": 55,
     "metadata": {},
     "output_type": "execute_result"
    }
   ],
   "source": [
    "# Plug in best params and run model\n",
    "knn_best = KNeighborsClassifier()\n",
    "knn_best.fit(X_train_res, y_train_res)"
   ]
  },
  {
   "cell_type": "code",
   "execution_count": 56,
   "metadata": {
    "ExecuteTime": {
     "end_time": "2020-12-02T22:31:56.762356Z",
     "start_time": "2020-12-02T22:31:32.080296Z"
    }
   },
   "outputs": [
    {
     "name": "stdout",
     "output_type": "stream",
     "text": [
      "              precision    recall  f1-score   support\n",
      "\n",
      "           0       0.77      0.89      0.83     51358\n",
      "           1       0.87      0.74      0.80     51358\n",
      "\n",
      "    accuracy                           0.81    102716\n",
      "   macro avg       0.82      0.81      0.81    102716\n",
      "weighted avg       0.82      0.81      0.81    102716\n",
      "\n"
     ]
    }
   ],
   "source": [
    "# Score on our training data\n",
    "y_pred = knn_best.predict(X_train_res)\n",
    "print(classification_report(y_train_res, y_pred))"
   ]
  },
  {
   "cell_type": "code",
   "execution_count": 57,
   "metadata": {
    "ExecuteTime": {
     "end_time": "2020-12-02T22:32:02.727437Z",
     "start_time": "2020-12-02T22:31:56.764355Z"
    }
   },
   "outputs": [
    {
     "name": "stdout",
     "output_type": "stream",
     "text": [
      "              precision    recall  f1-score   support\n",
      "\n",
      "           0       0.46      0.60      0.52      6670\n",
      "           1       0.76      0.63      0.69     12898\n",
      "\n",
      "    accuracy                           0.62     19568\n",
      "   macro avg       0.61      0.62      0.60     19568\n",
      "weighted avg       0.65      0.62      0.63     19568\n",
      "\n"
     ]
    }
   ],
   "source": [
    "# Score on testing data\n",
    "y_pred = knn_best.predict(X_test_transformed)\n",
    "print(classification_report(y_test, y_pred))"
   ]
  },
  {
   "cell_type": "code",
   "execution_count": 58,
   "metadata": {
    "ExecuteTime": {
     "end_time": "2020-12-02T22:32:25.682391Z",
     "start_time": "2020-12-02T22:32:02.730429Z"
    }
   },
   "outputs": [
    {
     "data": {
      "text/plain": [
       "array([0.67324203, 0.67593397, 0.67036337, 0.67480963])"
      ]
     },
     "execution_count": 58,
     "metadata": {},
     "output_type": "execute_result"
    }
   ],
   "source": [
    "cross_val_score(knn_best, X_train_transformed, y_train, cv=4)"
   ]
  },
  {
   "cell_type": "code",
   "execution_count": 59,
   "metadata": {
    "ExecuteTime": {
     "end_time": "2020-12-02T22:32:31.750548Z",
     "start_time": "2020-12-02T22:32:25.684382Z"
    }
   },
   "outputs": [
    {
     "data": {
      "image/png": "[encoded data removed]",
      "text/plain": [
       "<Figure size 432x288 with 2 Axes>"
      ]
     },
     "metadata": {},
     "output_type": "display_data"
    }
   ],
   "source": [
    "# Confusion matrix\n",
    "sns.set(context = 'notebook', style = 'white')\n",
    "plot_confusion_matrix(knn_best, X_test_transformed, y_test, cmap='RdPu')\n",
    "plt.title('KNN',fontsize=20)\n",
    "plt.xlabel(\"Predicted Labels\",fontsize=17, labelpad=10)\n",
    "plt.ylabel(\"True Labels\",fontsize=17,  labelpad=10)\n",
    "plt.xticks([0,1], ('Incorrect', \"Correct\"), fontsize=14)\n",
    "plt.yticks([0,1], ('Incorrect', \"Correct\"), rotation=90, fontsize=14);"
   ]
  },
  {
   "cell_type": "markdown",
   "metadata": {},
   "source": [
    "#### Random Forest"
   ]
  },
  {
   "cell_type": "code",
   "execution_count": 60,
   "metadata": {
    "ExecuteTime": {
     "end_time": "2020-12-02T22:32:31.871536Z",
     "start_time": "2020-12-02T22:32:31.756551Z"
    }
   },
   "outputs": [],
   "source": [
    "# # Grid Search for best params for Random Forest Classifier\n",
    "# params = {\n",
    "#     'max_depth': [10, 16, 20],\n",
    "#     'n_estimators': [700, 800]\n",
    "# }\n",
    "\n",
    "# rf_gs = GridSearchCV(RandomForestClassifier(random_state=42), params)\n",
    "# with joblib.parallel_backend('dask'):\n",
    "#     rf_gs.fit(X_train_res, y_train_res)\n",
    "\n",
    "# print(\"Best Params\", rf_gs.best_params_)"
   ]
  },
  {
   "cell_type": "code",
   "execution_count": 61,
   "metadata": {
    "ExecuteTime": {
     "end_time": "2020-12-02T22:33:12.828643Z",
     "start_time": "2020-12-02T22:32:31.873533Z"
    }
   },
   "outputs": [],
   "source": [
    "# Plug in best params and run model\n",
    "rf_best = RandomForestClassifier(max_depth=16, n_estimators=700, random_state=42)\n",
    "with joblib.parallel_backend('dask'):\n",
    "    rf_best.fit(X_train_res, y_train_res)"
   ]
  },
  {
   "cell_type": "code",
   "execution_count": 62,
   "metadata": {
    "ExecuteTime": {
     "end_time": "2020-12-02T22:33:26.262244Z",
     "start_time": "2020-12-02T22:33:12.835645Z"
    }
   },
   "outputs": [
    {
     "name": "stdout",
     "output_type": "stream",
     "text": [
      "              precision    recall  f1-score   support\n",
      "\n",
      "           0       0.85      0.88      0.87     51358\n",
      "           1       0.88      0.85      0.86     51358\n",
      "\n",
      "    accuracy                           0.87    102716\n",
      "   macro avg       0.87      0.87      0.87    102716\n",
      "weighted avg       0.87      0.87      0.87    102716\n",
      "\n"
     ]
    }
   ],
   "source": [
    "# Score on our training data\n",
    "y_pred = rf_best.predict(X_train_res)\n",
    "print(classification_report(y_train_res, y_pred))"
   ]
  },
  {
   "cell_type": "code",
   "execution_count": 63,
   "metadata": {
    "ExecuteTime": {
     "end_time": "2020-12-02T22:33:29.152154Z",
     "start_time": "2020-12-02T22:33:26.264232Z"
    }
   },
   "outputs": [
    {
     "name": "stdout",
     "output_type": "stream",
     "text": [
      "              precision    recall  f1-score   support\n",
      "\n",
      "           0       0.53      0.64      0.58      6670\n",
      "           1       0.79      0.71      0.75     12898\n",
      "\n",
      "    accuracy                           0.69     19568\n",
      "   macro avg       0.66      0.68      0.66     19568\n",
      "weighted avg       0.70      0.69      0.69     19568\n",
      "\n"
     ]
    }
   ],
   "source": [
    "# Score on testing data\n",
    "y_pred = rf_best.predict(X_test_transformed)\n",
    "print(classification_report(y_test, y_pred))"
   ]
  },
  {
   "cell_type": "code",
   "execution_count": 64,
   "metadata": {
    "ExecuteTime": {
     "end_time": "2020-12-02T22:38:05.958518Z",
     "start_time": "2020-12-02T22:33:29.154144Z"
    }
   },
   "outputs": [
    {
     "data": {
      "text/plain": [
       "array([0.71754906, 0.71819901, 0.71446824, 0.71625696])"
      ]
     },
     "execution_count": 64,
     "metadata": {},
     "output_type": "execute_result"
    }
   ],
   "source": [
    "cross_val_score(rf_best, X_train_transformed, y_train, cv=4)"
   ]
  },
  {
   "cell_type": "code",
   "execution_count": 65,
   "metadata": {
    "ExecuteTime": {
     "end_time": "2020-12-02T22:38:09.057754Z",
     "start_time": "2020-12-02T22:38:05.960517Z"
    }
   },
   "outputs": [
    {
     "data": {
      "image/png": "[encoded data removed]",
      "text/plain": [
       "<Figure size 432x288 with 2 Axes>"
      ]
     },
     "metadata": {},
     "output_type": "display_data"
    }
   ],
   "source": [
    "# Confusion matrix\n",
    "sns.set(context = 'notebook', style = 'white')\n",
    "plot_confusion_matrix(rf_best, X_test_transformed, y_test, cmap='RdPu', values_format = '.0f')\n",
    "plt.title('Random Forest',fontsize=20)\n",
    "plt.xlabel(\"Predicted Labels\",fontsize=17, labelpad=10)\n",
    "plt.ylabel(\"True Labels\",fontsize=17,  labelpad=10)\n",
    "plt.xticks([0,1], ('Incorrect', \"Correct\"), fontsize=14)\n",
    "plt.yticks([0,1], ('Incorrect', \"Correct\"), rotation=90, fontsize=14);"
   ]
  },
  {
   "cell_type": "markdown",
   "metadata": {},
   "source": [
    "#### AdaBoost"
   ]
  },
  {
   "cell_type": "code",
   "execution_count": 66,
   "metadata": {
    "ExecuteTime": {
     "end_time": "2020-12-02T22:38:17.588502Z",
     "start_time": "2020-12-02T22:38:09.059754Z"
    }
   },
   "outputs": [
    {
     "data": {
      "text/plain": [
       "AdaBoostClassifier(random_state=42)"
      ]
     },
     "execution_count": 66,
     "metadata": {},
     "output_type": "execute_result"
    }
   ],
   "source": [
    "# Instantiate an AdaBoostClassifier\n",
    "# Defaults are estimator=DecisionTree, n_estimator=100, learning_rate = 1\n",
    "adaboost = AdaBoostClassifier(random_state=42)\n",
    "adaboost.fit(X_train_res, y_train_res)"
   ]
  },
  {
   "cell_type": "code",
   "execution_count": 67,
   "metadata": {
    "ExecuteTime": {
     "end_time": "2020-12-02T22:38:18.892452Z",
     "start_time": "2020-12-02T22:38:17.590493Z"
    }
   },
   "outputs": [
    {
     "name": "stdout",
     "output_type": "stream",
     "text": [
      "              precision    recall  f1-score   support\n",
      "\n",
      "           0       0.67      0.72      0.69     51358\n",
      "           1       0.69      0.64      0.67     51358\n",
      "\n",
      "    accuracy                           0.68    102716\n",
      "   macro avg       0.68      0.68      0.68    102716\n",
      "weighted avg       0.68      0.68      0.68    102716\n",
      "\n"
     ]
    }
   ],
   "source": [
    "# Score on our training data\n",
    "y_pred = adaboost.predict(X_train_res)\n",
    "print(classification_report(y_train_res, y_pred))"
   ]
  },
  {
   "cell_type": "code",
   "execution_count": 68,
   "metadata": {
    "ExecuteTime": {
     "end_time": "2020-12-02T22:38:19.244441Z",
     "start_time": "2020-12-02T22:38:18.895453Z"
    }
   },
   "outputs": [
    {
     "name": "stdout",
     "output_type": "stream",
     "text": [
      "              precision    recall  f1-score   support\n",
      "\n",
      "           0       0.50      0.71      0.59      6670\n",
      "           1       0.81      0.63      0.71     12898\n",
      "\n",
      "    accuracy                           0.66     19568\n",
      "   macro avg       0.66      0.67      0.65     19568\n",
      "weighted avg       0.70      0.66      0.67     19568\n",
      "\n"
     ]
    }
   ],
   "source": [
    "# Score on testing data\n",
    "y_pred = adaboost.predict(X_test_transformed)\n",
    "print(classification_report(y_test, y_pred))"
   ]
  },
  {
   "cell_type": "code",
   "execution_count": 69,
   "metadata": {
    "ExecuteTime": {
     "end_time": "2020-12-02T22:38:37.131503Z",
     "start_time": "2020-12-02T22:38:19.246441Z"
    }
   },
   "outputs": [
    {
     "data": {
      "text/plain": [
       "array([0.70763491, 0.71487709, 0.71155517, 0.70537129])"
      ]
     },
     "execution_count": 69,
     "metadata": {},
     "output_type": "execute_result"
    }
   ],
   "source": [
    "cross_val_score(adaboost, X_train_transformed, y_train, cv=4)"
   ]
  },
  {
   "cell_type": "code",
   "execution_count": 70,
   "metadata": {
    "ExecuteTime": {
     "end_time": "2020-12-02T22:38:37.641486Z",
     "start_time": "2020-12-02T22:38:37.134504Z"
    }
   },
   "outputs": [
    {
     "data": {
      "image/png": "[encoded data removed]",
      "text/plain": [
       "<Figure size 432x288 with 2 Axes>"
      ]
     },
     "metadata": {},
     "output_type": "display_data"
    }
   ],
   "source": [
    "# Confusion matrix\n",
    "sns.set(context = 'notebook', style = 'white')\n",
    "plot_confusion_matrix(adaboost, X_test_transformed, y_test, cmap='RdPu')\n",
    "plt.title('Adaboost',fontsize=20)\n",
    "plt.xlabel(\"Predicted Labels\",fontsize=17, labelpad=10)\n",
    "plt.ylabel(\"True Labels\",fontsize=17,  labelpad=10)\n",
    "plt.xticks([0,1], ('Incorrect', \"Correct\"), fontsize=14)\n",
    "plt.yticks([0,1], ('Incorrect', \"Correct\"), rotation=90, fontsize=14);"
   ]
  },
  {
   "cell_type": "markdown",
   "metadata": {},
   "source": [
    "#### Extreme Gradient Boosting"
   ]
  },
  {
   "cell_type": "code",
   "execution_count": 71,
   "metadata": {
    "ExecuteTime": {
     "end_time": "2020-12-02T22:38:45.672116Z",
     "start_time": "2020-12-02T22:38:37.643486Z"
    }
   },
   "outputs": [
    {
     "data": {
      "text/plain": [
       "XGBClassifier(random_state=42)"
      ]
     },
     "execution_count": 71,
     "metadata": {},
     "output_type": "execute_result"
    }
   ],
   "source": [
    "# Instantiate XGBClassifier\n",
    "# We dont specify an estimator since Gradient Boosting uses regression trees\n",
    "# Default params: n_estimators=100, learning_rate=0.1, mex_depth=3, min_samples_split, min_samples_leaf, max_features\n",
    "# In Gradient Boosting, it is recommended to use all the features\n",
    "# XGB Optomized for distributed computing. Parallel training.\n",
    "xgb = XGBClassifier(random_state=42)\n",
    "xgb.fit(X_train_res, y_train_res)"
   ]
  },
  {
   "cell_type": "code",
   "execution_count": 72,
   "metadata": {
    "ExecuteTime": {
     "end_time": "2020-12-02T22:38:46.171099Z",
     "start_time": "2020-12-02T22:38:45.673114Z"
    }
   },
   "outputs": [
    {
     "name": "stdout",
     "output_type": "stream",
     "text": [
      "              precision    recall  f1-score   support\n",
      "\n",
      "           0       0.69      0.72      0.71     51358\n",
      "           1       0.71      0.68      0.69     51358\n",
      "\n",
      "    accuracy                           0.70    102716\n",
      "   macro avg       0.70      0.70      0.70    102716\n",
      "weighted avg       0.70      0.70      0.70    102716\n",
      "\n"
     ]
    }
   ],
   "source": [
    "# Score on our training data\n",
    "y_pred = xgb.predict(X_train_res)\n",
    "print(classification_report(y_train_res, y_pred))"
   ]
  },
  {
   "cell_type": "code",
   "execution_count": 73,
   "metadata": {
    "ExecuteTime": {
     "end_time": "2020-12-02T22:38:46.355084Z",
     "start_time": "2020-12-02T22:38:46.173099Z"
    }
   },
   "outputs": [
    {
     "name": "stdout",
     "output_type": "stream",
     "text": [
      "              precision    recall  f1-score   support\n",
      "\n",
      "           0       0.52      0.69      0.59      6670\n",
      "           1       0.81      0.67      0.73     12898\n",
      "\n",
      "    accuracy                           0.68     19568\n",
      "   macro avg       0.66      0.68      0.66     19568\n",
      "weighted avg       0.71      0.68      0.68     19568\n",
      "\n"
     ]
    }
   ],
   "source": [
    "# Score on testing data\n",
    "y_pred = xgb.predict(X_test_transformed)\n",
    "print(classification_report(y_test, y_pred))"
   ]
  },
  {
   "cell_type": "code",
   "execution_count": 74,
   "metadata": {
    "ExecuteTime": {
     "end_time": "2020-12-02T22:39:02.978583Z",
     "start_time": "2020-12-02T22:38:46.357093Z"
    }
   },
   "outputs": [
    {
     "data": {
      "text/plain": [
       "array([0.71642478, 0.72090765, 0.71564369, 0.71518373])"
      ]
     },
     "execution_count": 74,
     "metadata": {},
     "output_type": "execute_result"
    }
   ],
   "source": [
    "cross_val_score(xgb, X_train_transformed, y_train, cv=4)"
   ]
  },
  {
   "cell_type": "code",
   "execution_count": 75,
   "metadata": {
    "ExecuteTime": {
     "end_time": "2020-12-02T22:39:03.461559Z",
     "start_time": "2020-12-02T22:39:02.980574Z"
    }
   },
   "outputs": [
    {
     "data": {
      "image/png": "[encoded data removed]",
      "text/plain": [
       "<Figure size 432x288 with 2 Axes>"
      ]
     },
     "metadata": {},
     "output_type": "display_data"
    }
   ],
   "source": [
    "# Confusion matrix\n",
    "sns.set(context = 'notebook', style = 'white')\n",
    "plot_confusion_matrix(xgb, X_test_transformed, y_test, cmap='RdPu')\n",
    "plt.title('XGB',fontsize=20)\n",
    "plt.xlabel(\"Predicted Labels\",fontsize=17, labelpad=10)\n",
    "plt.ylabel(\"True Labels\",fontsize=17,  labelpad=10)\n",
    "plt.xticks([0,1], ('Incorrect', \"Correct\"), fontsize=14)\n",
    "plt.yticks([0,1], ('Incorrect', \"Correct\"), rotation=90, fontsize=14);\n",
    "plt.savefig('../../reports/figures/xgb_matrix.png', bbox_inches='tight', transparent=True);"
   ]
  },
  {
   "cell_type": "markdown",
   "metadata": {},
   "source": [
    "#### Light Gradient Boosting"
   ]
  },
  {
   "cell_type": "code",
   "execution_count": 101,
   "metadata": {
    "ExecuteTime": {
     "end_time": "2020-12-02T23:15:42.060103Z",
     "start_time": "2020-12-02T23:15:36.935260Z"
    }
   },
   "outputs": [
    {
     "data": {
      "text/plain": [
       "LGBMClassifier(seed=42)"
      ]
     },
     "execution_count": 101,
     "metadata": {},
     "output_type": "execute_result"
    }
   ],
   "source": [
    "# Params similar to gradient boosting except default max_depth = -1 (unlimited)\n",
    "lgb = LGBMClassifier(seed=42)\n",
    "lgb.fit(X_train_res, y_train_res)"
   ]
  },
  {
   "cell_type": "code",
   "execution_count": 102,
   "metadata": {
    "ExecuteTime": {
     "end_time": "2020-12-02T23:15:45.255019Z",
     "start_time": "2020-12-02T23:15:42.063103Z"
    }
   },
   "outputs": [
    {
     "name": "stdout",
     "output_type": "stream",
     "text": [
      "              precision    recall  f1-score   support\n",
      "\n",
      "           0       0.74      0.70      0.72    515117\n",
      "           1       0.72      0.76      0.74    515117\n",
      "\n",
      "    accuracy                           0.73   1030234\n",
      "   macro avg       0.73      0.73      0.73   1030234\n",
      "weighted avg       0.73      0.73      0.73   1030234\n",
      "\n"
     ]
    }
   ],
   "source": [
    "# Score on our training data\n",
    "y_pred = lgb.predict(X_train_res)\n",
    "print(classification_report(y_train_res, y_pred))"
   ]
  },
  {
   "cell_type": "code",
   "execution_count": 103,
   "metadata": {
    "ExecuteTime": {
     "end_time": "2020-12-02T23:15:45.459999Z",
     "start_time": "2020-12-02T23:15:45.257018Z"
    }
   },
   "outputs": [
    {
     "name": "stdout",
     "output_type": "stream",
     "text": [
      "              precision    recall  f1-score   support\n",
      "\n",
      "           0       0.41      0.88      0.56      6782\n",
      "           1       0.84      0.32      0.47     12783\n",
      "\n",
      "    accuracy                           0.52     19565\n",
      "   macro avg       0.62      0.60      0.51     19565\n",
      "weighted avg       0.69      0.52      0.50     19565\n",
      "\n"
     ]
    }
   ],
   "source": [
    "# Score on testing data\n",
    "y_pred = lgb.predict(X_test_transformed)\n",
    "print(classification_report(y_test, y_pred))"
   ]
  },
  {
   "cell_type": "code",
   "execution_count": 104,
   "metadata": {
    "ExecuteTime": {
     "end_time": "2020-12-02T23:15:47.478937Z",
     "start_time": "2020-12-02T23:15:45.461998Z"
    }
   },
   "outputs": [
    {
     "data": {
      "text/plain": [
       "array([0.71305903, 0.71300792, 0.70999233, 0.71145982])"
      ]
     },
     "execution_count": 104,
     "metadata": {},
     "output_type": "execute_result"
    }
   ],
   "source": [
    "cross_val_score(lgb, X_train_transformed, y_train, cv=4)"
   ]
  },
  {
   "cell_type": "code",
   "execution_count": 105,
   "metadata": {
    "ExecuteTime": {
     "end_time": "2020-12-02T23:15:47.873925Z",
     "start_time": "2020-12-02T23:15:47.482937Z"
    }
   },
   "outputs": [
    {
     "data": {
      "image/png": "[encoded data removed]",
      "text/plain": [
       "<Figure size 432x288 with 2 Axes>"
      ]
     },
     "metadata": {},
     "output_type": "display_data"
    }
   ],
   "source": [
    "# Confusion matrix\n",
    "sns.set(context = 'notebook', style = 'white')\n",
    "plot_confusion_matrix(lgb, X_test_transformed, y_test, cmap='RdPu', normalize='true')\n",
    "plt.title('LGB',fontsize=20)\n",
    "plt.xlabel(\"Predicted Labels\",fontsize=17, labelpad=10)\n",
    "plt.ylabel(\"True Labels\",fontsize=17,  labelpad=10)\n",
    "plt.xticks([0,1], ('Incorrect', \"Correct\"), fontsize=14)\n",
    "plt.yticks([0,1], ('Incorrect', \"Correct\"), rotation=90, fontsize=14);"
   ]
  },
  {
   "cell_type": "markdown",
   "metadata": {},
   "source": [
    "#### Training our best model(Light Gradient Boost) with a bigger subset of the Data"
   ]
  },
  {
   "cell_type": "code",
   "execution_count": 112,
   "metadata": {
    "ExecuteTime": {
     "end_time": "2020-12-02T23:46:36.171137Z",
     "start_time": "2020-12-02T23:45:35.379773Z"
    }
   },
   "outputs": [],
   "source": [
    "# Take a larger subset of the data to run the final model on (10,000,000 rows)\n",
    "# Taking the first 1,000,000 rows rather than a random sample because we want sequential data for each user\n",
    "DBNAME = \"riiid_education\"\n",
    "conn = psycopg2.connect(dbname=DBNAME)\n",
    "cursor = conn.cursor()\n",
    "\n",
    "data = pd.read_sql(\"\"\"SELECT * \n",
    "FROM train\n",
    "LIMIT 1000000;\"\"\", conn)\n",
    "\n",
    "conn.close()\n",
    "\n",
    "df = riiid_functions.engineer_data(data, question_difficulty)\n",
    "\n",
    "# Split data into features and target\n",
    "X = df.drop('answered_correctly', axis=1)\n",
    "y = df['answered_correctly'] \n",
    "\n",
    "# Train Test Split the data\n",
    "X_train, X_test, y_train, y_test = train_test_split(X, y, test_size=.2, random_state=42)\n",
    "\n",
    "# Use preprocessing pipeline to transform the data\n",
    "X_train_transformed = preprocessor.fit_transform(X_train)\n",
    "X_test_transformed = preprocessor.transform(X_test)\n",
    "\n",
    "with joblib.parallel_backend('dask'):\n",
    "    # import SMOTE module from imblearn library \n",
    "    # pip install imblearn (if you don't have imblearn in your system) \n",
    "    sm = SMOTE(random_state = 42) \n",
    "    X_train_res, y_train_res = sm.fit_sample(X_train_transformed, y_train.ravel())"
   ]
  },
  {
   "cell_type": "code",
   "execution_count": null,
   "metadata": {
    "ExecuteTime": {
     "start_time": "2020-12-03T00:20:10.484Z"
    }
   },
   "outputs": [],
   "source": [
    "# Plug in best params and run model\n",
    "best_model = RandomForestClassifier(max_depth=16, n_estimators=700, random_state=42)\n",
    "with joblib.parallel_backend('dask'):\n",
    "    best_model.fit(X_train_res, y_train_res)"
   ]
  },
  {
   "cell_type": "code",
   "execution_count": null,
   "metadata": {
    "ExecuteTime": {
     "start_time": "2020-12-03T00:20:13.276Z"
    }
   },
   "outputs": [],
   "source": [
    "# Score on testing data\n",
    "y_pred = best_model.predict(X_test_transformed)\n",
    "print(classification_report(y_test, y_pred))"
   ]
  },
  {
   "cell_type": "code",
   "execution_count": null,
   "metadata": {
    "ExecuteTime": {
     "start_time": "2020-12-03T00:20:13.661Z"
    }
   },
   "outputs": [],
   "source": [
    "# Cross Validation Scores\n",
    "cross_val_score(best_model, X_train_transformed, y_train, cv=4)"
   ]
  },
  {
   "cell_type": "code",
   "execution_count": null,
   "metadata": {
    "ExecuteTime": {
     "start_time": "2020-12-03T00:20:14.125Z"
    }
   },
   "outputs": [],
   "source": [
    "# Confusion matrix\n",
    "sns.set(context = 'notebook', style = 'white')\n",
    "plot_confusion_matrix(best_model, X_test_transformed, y_test, cmap='RdPu', normalize='true')\n",
    "plt.title('Random Forest',fontsize=20)\n",
    "plt.xlabel(\"Predicted Labels\",fontsize=17, labelpad=10)\n",
    "plt.ylabel(\"True Labels\",fontsize=17,  labelpad=10)\n",
    "plt.xticks([0,1], ('Incorrect', \"Correct\"), fontsize=14)\n",
    "plt.yticks([0,1], ('Incorrect', \"Correct\"), rotation=90, fontsize=14)\n",
    "plt.savefig('../../reports/figures/random_forest_matrix.png', bbox_inches='tight', transparent=True);"
   ]
  },
  {
   "cell_type": "markdown",
   "metadata": {},
   "source": [
    "#### To use our model on a new dataset, import the test set as a pandas dataframe called data and run the following"
   ]
  },
  {
   "cell_type": "code",
   "execution_count": null,
   "metadata": {
    "ExecuteTime": {
     "end_time": "2020-12-02T22:40:28.551518Z",
     "start_time": "2020-12-02T22:31:25.739Z"
    }
   },
   "outputs": [],
   "source": [
    "# # Use our function which does our data engineering\n",
    "# df = engineer_data(data)\n",
    "\n",
    "# # Use preprocessing pipeline which is fit on our train data to transform the test data\n",
    "# X_test = preprocessor.transform(df)\n",
    "\n",
    "# # Make Predictions\n",
    "# y_pred = best_model.predict(X_test)"
   ]
  },
  {
   "cell_type": "markdown",
   "metadata": {},
   "source": [
    "# Conclusion\n",
    "In conclusion, we can use these predictions to improve and prove the success of AI tutors. Knowing how the student is likely to perform in the future can give better insight for the AI to individualize education and personalize the learning experience for each student to achieve the best results. I strongly believe that if features about student demographics were included in the database, the model accuracy would greatly improve and student success in underprivileged areas could be addressed and improved by the AI tutor as well.\n",
    "\n",
    "AI tutors could be a much needed change in our education system to provide equal opportunity and improve the success of students around the globe."
   ]
  },
  {
   "cell_type": "markdown",
   "metadata": {},
   "source": [
    "# Next Steps\n",
    "- As engineering new features is what improved my model the most in the end, in the futures, I would like to brainstorm more creative ideas for features to add.\n",
    "- With the limitations of my computer, I was only able to use 1% of the dataset for my current model, even after using the dask package for parallel computing. Being able to fit the entire dataset of 100 million student interactions could improve my model.\n",
    "- I want to try a neural network model and see how it does with this database.\n",
    "- I would also like to create a deployable web app for my model using flask."
   ]
  }
 ],
 "metadata": {
  "kernelspec": {
   "display_name": "learn-env",
   "language": "python",
   "name": "learn-env"
  },
  "language_info": {
   "codemirror_mode": {
    "name": "ipython",
    "version": 3
   },
   "file_extension": ".py",
   "mimetype": "text/x-python",
   "name": "python",
   "nbconvert_exporter": "python",
   "pygments_lexer": "ipython3",
   "version": "3.6.9"
  }
 },
 "nbformat": 4,
 "nbformat_minor": 4
}
