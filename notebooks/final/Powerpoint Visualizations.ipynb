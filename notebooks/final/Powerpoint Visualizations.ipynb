{
 "cells": [
  {
   "cell_type": "markdown",
   "metadata": {},
   "source": [
    "# Riiid---Answer-Correctness-Prediction\n",
    "Predicting Student Performance on future interactions with an AI tutor\n",
    "\n",
    "# Visualizations for PowerPoint"
   ]
  },
  {
   "cell_type": "markdown",
   "metadata": {},
   "source": [
    "## Import Libraries"
   ]
  },
  {
   "cell_type": "code",
   "execution_count": 1,
   "metadata": {
    "ExecuteTime": {
     "end_time": "2020-12-02T19:35:06.081611Z",
     "start_time": "2020-12-02T19:35:01.086367Z"
    }
   },
   "outputs": [],
   "source": [
    "import warnings\n",
    "warnings.filterwarnings('ignore')\n",
    "\n",
    "import zipfile\n",
    "import psycopg2\n",
    "import pandas as pd\n",
    "import numpy as np\n",
    "import matplotlib.pyplot as plt\n",
    "from matplotlib import ticker\n",
    "import seaborn as sns\n",
    "\n",
    "from sklearn.model_selection import train_test_split, cross_val_score, GridSearchCV, ParameterGrid\n",
    "from sklearn.pipeline import Pipeline\n",
    "from sklearn.compose import ColumnTransformer\n",
    "from sklearn.impute import SimpleImputer\n",
    "from sklearn.preprocessing import StandardScaler, OneHotEncoder\n",
    "\n",
    "from sklearn.metrics import classification_report, confusion_matrix, plot_confusion_matrix\n",
    "from imblearn.over_sampling import SMOTE\n",
    "from sklearn.linear_model import LogisticRegression\n",
    "\n",
    "from sklearn.neighbors import KNeighborsClassifier\n",
    "from sklearn.svm import SVC\n",
    "from sklearn.ensemble import RandomForestClassifier, AdaBoostClassifier\n",
    "from xgboost import XGBClassifier\n",
    "from lightgbm import LGBMClassifier\n",
    "\n",
    "from dask.distributed import Client, LocalCluster\n",
    "import joblib"
   ]
  },
  {
   "cell_type": "code",
   "execution_count": 2,
   "metadata": {
    "ExecuteTime": {
     "end_time": "2020-12-02T19:35:07.953483Z",
     "start_time": "2020-12-02T19:35:06.083598Z"
    }
   },
   "outputs": [],
   "source": [
    "cluster = LocalCluster()\n",
    "client = Client(cluster) # start a local Dask client"
   ]
  },
  {
   "cell_type": "code",
   "execution_count": 3,
   "metadata": {
    "ExecuteTime": {
     "end_time": "2020-12-02T19:35:08.033469Z",
     "start_time": "2020-12-02T19:35:07.954471Z"
    }
   },
   "outputs": [
    {
     "data": {
      "application/vnd.jupyter.widget-view+json": {
       "model_id": "27c19694cd27401d9f1ad6cd9c64fbd8",
       "version_major": 2,
       "version_minor": 0
      },
      "text/plain": [
       "VBox(children=(HTML(value='<h2>LocalCluster</h2>'), HBox(children=(HTML(value='\\n<div>\\n  <style scoped>\\n    …"
      ]
     },
     "metadata": {},
     "output_type": "display_data"
    }
   ],
   "source": [
    "cluster"
   ]
  },
  {
   "cell_type": "markdown",
   "metadata": {},
   "source": [
    "## Data"
   ]
  },
  {
   "cell_type": "markdown",
   "metadata": {},
   "source": [
    "#### Import Data"
   ]
  },
  {
   "cell_type": "code",
   "execution_count": 5,
   "metadata": {
    "ExecuteTime": {
     "end_time": "2020-12-02T19:36:08.839874Z",
     "start_time": "2020-12-02T19:36:08.789718Z"
    }
   },
   "outputs": [],
   "source": [
    "# Connect to the PostgreSQL database riiid_education we created previously\n",
    "# Note: Run create SQL database notebook if database not created\n",
    "DBNAME = \"riiid_education\"\n",
    "conn = psycopg2.connect(dbname=DBNAME)\n",
    "cursor = conn.cursor()"
   ]
  },
  {
   "cell_type": "code",
   "execution_count": 6,
   "metadata": {
    "ExecuteTime": {
     "end_time": "2020-12-02T19:37:08.157345Z",
     "start_time": "2020-12-02T19:36:09.516657Z"
    }
   },
   "outputs": [],
   "source": [
    "# Read in Data from Database\n",
    "df = pd.read_csv('../../data/train.csv')"
   ]
  },
  {
   "cell_type": "markdown",
   "metadata": {},
   "source": [
    "#### Feature Engineering"
   ]
  },
  {
   "cell_type": "code",
   "execution_count": 7,
   "metadata": {
    "ExecuteTime": {
     "end_time": "2020-12-02T19:37:13.655984Z",
     "start_time": "2020-12-02T19:37:08.159346Z"
    }
   },
   "outputs": [],
   "source": [
    "# Engineer Feature for question difficulty (ratio of incorrect/all answers)\n",
    "correct_answers = df.groupby(\"content_id\")[\"answered_correctly\"].sum()\n",
    "all_answers = df.groupby(\"content_id\")[\"answered_correctly\"].count()\n",
    "wrong_answers = all_answers-correct_answers\n",
    "question_difficulty = pd.DataFrame(wrong_answers/all_answers)\n",
    "\n",
    "question_difficulty = question_difficulty.rename(columns={\"answered_correctly\": \"question_difficulty\"}).reset_index()"
   ]
  },
  {
   "cell_type": "code",
   "execution_count": 8,
   "metadata": {
    "ExecuteTime": {
     "end_time": "2020-12-02T19:37:13.671332Z",
     "start_time": "2020-12-02T19:37:13.656972Z"
    }
   },
   "outputs": [],
   "source": [
    "def engineer_data(data, question_difficulty=question_difficulty):\n",
    "\n",
    "    # read in questions and lectures tables from database\n",
    "    DBNAME = \"riiid_education\"\n",
    "    conn = psycopg2.connect(dbname=DBNAME)\n",
    "    cursor = conn.cursor()\n",
    "    questions = pd.read_sql(\"SELECT * FROM questions;\", conn)\n",
    "    conn.close()\n",
    "    \n",
    "    # Drop all rows with answered_correctly is blank (-1) since these are lectures, not questions\n",
    "    data = data[data.content_type_id != 1]\n",
    "    df = data.merge(questions, left_on='content_id', right_on='question', how='left')\n",
    "    \n",
    "    # Drop the columns we don't need\n",
    "    # question is already there as content id\n",
    "    # user_answer doesn't make sense to have - we can't know that in advance\n",
    "    # There are only 2 unique content_type_ids and we dropped one type, no point having a column of zeros\n",
    "    df.drop(['tags', 'question', 'user_answer', 'content_type_id'], axis=1, inplace=True)\n",
    "    \n",
    "    # Engineer Feature for how many questions this user has answered prior\n",
    "    df[\"user_question_count\"] = df.groupby(\"user_id\").cumcount() + 1\n",
    "    \n",
    "    # Engineer Feature for average time per questions per user for prior questions\n",
    "    cumsum = df.groupby(\"user_id\")[\"prior_question_elapsed_time\"].cumsum()\n",
    "    count = df.groupby(\"user_id\").cumcount() + 1\n",
    "    df[\"avg_time_per_question\"] = round(cumsum/count, 0)\n",
    "    \n",
    "    # Merge question_difficulty_binned into main DataFrame\n",
    "    df= df.merge(question_difficulty, on='content_id', how=\"left\")\n",
    "    \n",
    "    # Change string object type to bool on prior_question_had_explanation\n",
    "    df['prior_question_had_explanation'] = df['prior_question_had_explanation'].astype('bool')\n",
    "    \n",
    "    return df"
   ]
  },
  {
   "cell_type": "code",
   "execution_count": 9,
   "metadata": {
    "ExecuteTime": {
     "end_time": "2020-12-02T19:40:49.577923Z",
     "start_time": "2020-12-02T19:37:13.673322Z"
    }
   },
   "outputs": [],
   "source": [
    "df = engineer_data(df)"
   ]
  },
  {
   "cell_type": "markdown",
   "metadata": {},
   "source": [
    "### Data Visualization"
   ]
  },
  {
   "cell_type": "code",
   "execution_count": 11,
   "metadata": {
    "ExecuteTime": {
     "end_time": "2020-12-02T19:43:31.819452Z",
     "start_time": "2020-12-02T19:43:24.111603Z"
    }
   },
   "outputs": [
    {
     "data": {
      "image/png": "[encoded data removed]",
      "text/plain": [
       "<Figure size 432x432 with 1 Axes>"
      ]
     },
     "metadata": {},
     "output_type": "display_data"
    }
   ],
   "source": [
    "# PPT Viz for Class Distribution\n",
    "sns.set(context = 'notebook',  style = 'white')\n",
    "fig, ax = plt.subplots(figsize = (6,6)) \n",
    "ax = sns.countplot(df['answered_correctly'], palette = ['#d77ead', '#645ca7'])\n",
    "ax.axes.set_title(\"Class Distribution\",fontsize=28, color='white')\n",
    "ax.set_xlabel(\"Answers\",fontsize=22, color='white', labelpad=10)\n",
    "ax.set_ylabel(\"Count\",fontsize=22, color='white', labelpad=10)\n",
    "ax.set_xticklabels(['Incorrect', \"Correct\"], fontsize=15, color='white')\n",
    "ax.set_yticklabels(['0', '10,000,000', '20,000,000', '30,000,000', '40,000,000', '50,000,000', '60,000,000'],\n",
    "fontsize=15, color='white')\n",
    "ax.grid(color='white', axis='y')\n",
    "ax.spines['right'].set_visible(False)\n",
    "ax.spines['top'].set_visible(False)\n",
    "ax.spines['left'].set_visible(False)\n",
    "ax.spines['bottom'].set_color('White')\n",
    "# ax.yaxis.set_major_formatter(ticker.StrMethodFormatter('{x:,.0f}'))\n",
    "plt.savefig('../../reports/figures/class_imbalance_ppt.png', bbox_inches='tight', transparent=True);"
   ]
  },
  {
   "cell_type": "code",
   "execution_count": 12,
   "metadata": {
    "ExecuteTime": {
     "end_time": "2020-12-02T19:43:48.363417Z",
     "start_time": "2020-12-02T19:43:35.764803Z"
    }
   },
   "outputs": [
    {
     "data": {
      "image/png": "[encoded data removed]",
      "text/plain": [
       "<Figure size 720x360 with 1 Axes>"
      ]
     },
     "metadata": {},
     "output_type": "display_data"
    }
   ],
   "source": [
    "# PPT Viz for Questions Answered per Topic\n",
    "plt.figure(figsize = (10, 5))\n",
    "ax = sns.countplot(data=df, x='part', hue='answered_correctly', palette=['#d77ead', '#645ca7'])\n",
    "ax.set(xlabel = '', ylabel = '')\n",
    "legend_labels, _= ax.get_legend_handles_labels()\n",
    "ax.legend(legend_labels, ['Incorrect','Correct'], fontsize='large', title_fontsize='20')\n",
    "ax.axes.set_title(\"Questions Answered per Topic\", y= 1.1, fontsize=25, color='white')\n",
    "ax.set_xlabel(\"Topic\",fontsize=22, color='white', labelpad=10)\n",
    "ax.set_ylabel(\"Count\",fontsize=22, color='white', labelpad=10)\n",
    "ax.set_xticklabels(['1', '2', '3', '4', '5', '6', '7'], fontsize=15, color='white')\n",
    "ax.set_yticklabels(['0', '5,000,000', '10,000,000', '15,000,000', '20,000,000', '25,000,000'], fontsize=15, color='white')\n",
    "ax.grid(color='white', axis='y')\n",
    "ax.spines['right'].set_visible(False)\n",
    "ax.spines['top'].set_visible(False)\n",
    "ax.spines['left'].set_visible(False)\n",
    "ax.spines['bottom'].set_color('white')\n",
    "ax.yaxis.set_major_formatter(ticker.StrMethodFormatter('{x:,.0f}'))\n",
    "plt.savefig('../../reports/figures/parts_ppt.png', bbox_inches='tight', transparent=True);"
   ]
  },
  {
   "cell_type": "code",
   "execution_count": 13,
   "metadata": {
    "ExecuteTime": {
     "end_time": "2020-12-02T19:44:00.226760Z",
     "start_time": "2020-12-02T19:43:48.368417Z"
    }
   },
   "outputs": [
    {
     "data": {
      "image/png": "[encoded data removed]",
      "text/plain": [
       "<Figure size 360x360 with 1 Axes>"
      ]
     },
     "metadata": {},
     "output_type": "display_data"
    }
   ],
   "source": [
    "# PPT Viz for prior question explanation\n",
    "plt.figure(figsize = (5, 5))\n",
    "ax = sns.countplot(data=df, x='prior_question_had_explanation', hue='answered_correctly', palette=['#d77ead', '#645ca7'])\n",
    "legend_labels, _= ax.get_legend_handles_labels()\n",
    "ax.legend(legend_labels, ['Incorrect','Correct'], fontsize='large', title_fontsize='20', loc='upper center')\n",
    "ax.axes.set_title(\"Prior Question had Explanation\", y= 1.1, fontsize=25, color='white')\n",
    "ax.set_xlabel(\"Prior Question\",fontsize=22, color='white', labelpad=10)\n",
    "ax.set_ylabel(\"Count\",fontsize=22, color='white', labelpad=10)\n",
    "ax.set_xticklabels(['Explanation', 'No Explanation'], fontsize=15, color='white')\n",
    "ax.set_yticklabels(['0', '10,000,000', '20,000,000', '30,000,000', '40,000,000', '50,000,000', '60,000,000'],\n",
    "fontsize=15, color='white')\n",
    "ax.grid(color='white', axis='y')\n",
    "ax.spines['right'].set_visible(False)\n",
    "ax.spines['top'].set_visible(False)\n",
    "ax.spines['left'].set_visible(False)\n",
    "ax.spines['bottom'].set_color('white')\n",
    "# ax.yaxis.set_major_formatter(ticker.StrMethodFormatter('{x:,.0f}'))\n",
    "plt.savefig('../../reports/figures/prior_q_explanation_ppt.png', bbox_inches='tight', transparent=True);"
   ]
  },
  {
   "cell_type": "code",
   "execution_count": 22,
   "metadata": {
    "ExecuteTime": {
     "end_time": "2020-12-02T20:01:39.354339Z",
     "start_time": "2020-12-02T19:48:22.669300Z"
    }
   },
   "outputs": [
    {
     "data": {
      "image/png": "[encoded data removed]",
      "text/plain": [
       "<Figure size 864x360 with 1 Axes>"
      ]
     },
     "metadata": {},
     "output_type": "display_data"
    }
   ],
   "source": [
    "# PPT Viz for dist plot for question difficulty\n",
    "plt.figure(figsize = (12, 5))\n",
    "ax = sns.distplot(question_difficulty['question_difficulty']*10, bins=100, kde_kws=dict(color = 'white', linewidth=1.5),\n",
    "                  color='#d77ead', hist_kws=dict(alpha=1))\n",
    "ax.set_title(\"Question Difficulty Distribution\", fontsize=30, color='white')\n",
    "ax.set_xlabel(\"Question Difficulty\",fontsize=25, color='white', labelpad=10)\n",
    "ax.set_ylabel(\"Density\",fontsize=25, color='white', labelpad=10)\n",
    "plt.xticks(range(0,11), fontsize=15, color='white')\n",
    "plt.yticks(fontsize=15, color='white')\n",
    "ax.grid(False)\n",
    "ax.grid(color='white', axis='y')\n",
    "ax.spines['right'].set_visible(False)\n",
    "ax.spines['top'].set_visible(False)\n",
    "ax.spines['left'].set_visible(False)\n",
    "ax.spines['bottom'].set_color('white')\n",
    "plt.setp(ax.patches, linewidth=1, edgecolor='#eeeeee')\n",
    "plt.savefig('../../reports/figures/Question_difficulty_ppt.png', bbox_inches='tight', transparent=True);"
   ]
  },
  {
   "cell_type": "markdown",
   "metadata": {},
   "source": [
    "Taking a subset of the data to work with for the voilin plots to avoid too much noise"
   ]
  },
  {
   "cell_type": "code",
   "execution_count": 15,
   "metadata": {
    "ExecuteTime": {
     "end_time": "2020-12-02T19:44:06.609879Z",
     "start_time": "2020-12-02T19:44:01.476124Z"
    }
   },
   "outputs": [],
   "source": [
    "# Take a smaller subset of the data to work with (1,000,000 rows)\n",
    "# Taking the first 1,000,000 rows rather than a random sample because we want sequential data for each user\n",
    "DBNAME = \"riiid_education\"\n",
    "conn = psycopg2.connect(dbname=DBNAME)\n",
    "cursor = conn.cursor()\n",
    "\n",
    "data_med = pd.read_sql(\"\"\"SELECT * \n",
    "FROM train\n",
    "LIMIT 1000000;\"\"\", conn)\n",
    "\n",
    "conn.close()"
   ]
  },
  {
   "cell_type": "code",
   "execution_count": 16,
   "metadata": {
    "ExecuteTime": {
     "end_time": "2020-12-02T19:44:07.796259Z",
     "start_time": "2020-12-02T19:44:06.612869Z"
    }
   },
   "outputs": [],
   "source": [
    "df_med = engineer_data(data_med)"
   ]
  },
  {
   "cell_type": "code",
   "execution_count": 17,
   "metadata": {
    "ExecuteTime": {
     "end_time": "2020-12-02T19:44:07.812278Z",
     "start_time": "2020-12-02T19:44:07.798249Z"
    }
   },
   "outputs": [],
   "source": [
    "def time_reformat_seconds(millis):\n",
    "    millis = int(millis)\n",
    "    seconds=(millis/1000)%60\n",
    "    seconds = int(seconds)\n",
    "    minutes=(millis/(1000*60))%60\n",
    "    minutes = int(minutes)\n",
    "    hours=(millis/(1000*60*60))%24\n",
    "\n",
    "    return seconds"
   ]
  },
  {
   "cell_type": "code",
   "execution_count": 18,
   "metadata": {
    "ExecuteTime": {
     "end_time": "2020-12-02T19:44:11.278159Z",
     "start_time": "2020-12-02T19:44:07.813267Z"
    },
    "scrolled": false
   },
   "outputs": [
    {
     "data": {
      "image/png": "[encoded data removed]",
      "text/plain": [
       "<Figure size 504x432 with 1 Axes>"
      ]
     },
     "metadata": {},
     "output_type": "display_data"
    }
   ],
   "source": [
    "# Violin Plot for Prior_Question_Elapsed_Time PPT\n",
    "def patch_violinplot():\n",
    "    \"\"\"Patch seaborn's violinplot in current axis to workaround matplotlib's bug ##5423.\"\"\"\n",
    "    from matplotlib.collections import PolyCollection\n",
    "    ax = plt.gca()\n",
    "    for art in ax.get_children():\n",
    "        if isinstance(art, PolyCollection):\n",
    "            art.set_edgecolor((1, 1, 1))\n",
    "\n",
    "df_med['prior_question_time_seconds'] = df_med['prior_question_elapsed_time'].fillna(0).apply(time_reformat_seconds)\n",
    "\n",
    "plt.figure(figsize = (7, 6))\n",
    "ax = sns.violinplot(y='prior_question_time_seconds', x='answered_correctly', data=df_med, palette=['#d77ead', '#645ca7'])\n",
    "patch_violinplot()\n",
    "ax.set_title(\"Prior Question Elapsed Time\", fontsize=26, color='white')\n",
    "ax.set_xticklabels(['Incorrect', 'Correct'], fontsize=15, color='white')\n",
    "ax.set_xlabel(\"Answers\",fontsize=20, color='white', labelpad=10)\n",
    "ax.set_ylabel(\"Time (in seconds)\",fontsize=20, color='white', labelpad=10)\n",
    "plt.xticks(fontsize=15, color='white');\n",
    "plt.yticks(fontsize=15, color='white')\n",
    "ax.grid(False)\n",
    "ax.grid(color='white', axis='y')\n",
    "ax.spines['right'].set_visible(False)\n",
    "ax.spines['top'].set_visible(False)\n",
    "ax.spines['left'].set_visible(False)\n",
    "ax.spines['bottom'].set_color('white')\n",
    "plt.savefig('../../reports/figures/prior_question_time_violin_ppt.png', bbox_inches='tight', transparent=True);"
   ]
  },
  {
   "cell_type": "markdown",
   "metadata": {},
   "source": [
    "# Modeling"
   ]
  },
  {
   "cell_type": "code",
   "execution_count": 23,
   "metadata": {
    "ExecuteTime": {
     "end_time": "2020-12-02T20:03:04.470579Z",
     "start_time": "2020-12-02T20:03:03.661972Z"
    }
   },
   "outputs": [],
   "source": [
    "# Take an even smaller subset of the data to work with (100,000 rows) for second violin plot and modeling\n",
    "# Taking the first 100,000 rows rather than a random sample because we want sequential data for each user\n",
    "DBNAME = \"riiid_education\"\n",
    "conn = psycopg2.connect(dbname=DBNAME)\n",
    "cursor = conn.cursor()\n",
    "\n",
    "data_small = pd.read_sql(\"\"\"SELECT * \n",
    "FROM train\n",
    "LIMIT 100000;\"\"\", conn)\n",
    "\n",
    "conn.close()\n",
    "df_small = engineer_data(data_small)"
   ]
  },
  {
   "cell_type": "code",
   "execution_count": 27,
   "metadata": {
    "ExecuteTime": {
     "end_time": "2020-12-02T20:03:47.207617Z",
     "start_time": "2020-12-02T20:03:47.157528Z"
    }
   },
   "outputs": [],
   "source": [
    "# Split data into features and target\n",
    "X = df_small.drop('answered_correctly', axis=1)\n",
    "y = df_small['answered_correctly'] \n",
    "\n",
    "# Train Test Split the data\n",
    "X_train, X_test, y_train, y_test = train_test_split(X, y, test_size=.2, random_state=42)"
   ]
  },
  {
   "cell_type": "code",
   "execution_count": 28,
   "metadata": {
    "ExecuteTime": {
     "end_time": "2020-12-02T20:03:47.589163Z",
     "start_time": "2020-12-02T20:03:47.582165Z"
    }
   },
   "outputs": [],
   "source": [
    "# Pipeline for preprocessing numeric features\n",
    "# numeric_features = list(X.select_dtypes(exclude='object').columns)\n",
    "numeric_features = ['timestamp', 'row_id', 'user_id', 'content_id', 'task_container_id', 'question_difficulty',\n",
    "                    'prior_question_elapsed_time', 'avg_time_per_question', 'bundle_id', 'user_question_count']\n",
    "numeric_transformer = Pipeline(steps=[\n",
    "    ('imputer', SimpleImputer(strategy='median')),\n",
    "    ('scaler', StandardScaler())])\n",
    "\n",
    "# Pipeline for preprocessing categorical features\n",
    "# categorical_features = list(X.select_dtypes(include='object').columns)\n",
    "categorical_features = ['part', 'prior_question_had_explanation', 'correct_answer']\n",
    "categorical_transformer = Pipeline(steps=[\n",
    "    ('imputer', SimpleImputer(fill_value='None')),\n",
    "    ('one_hot_encoder', OneHotEncoder(sparse=False))])\n",
    "\n",
    "# Pipeline for preprocessing combined\n",
    "preprocessor = ColumnTransformer(\n",
    "    transformers=[\n",
    "        ('num', numeric_transformer, numeric_features),\n",
    "        ('cat', categorical_transformer, categorical_features)])"
   ]
  },
  {
   "cell_type": "code",
   "execution_count": 29,
   "metadata": {
    "ExecuteTime": {
     "end_time": "2020-12-02T20:03:48.507731Z",
     "start_time": "2020-12-02T20:03:48.301622Z"
    }
   },
   "outputs": [],
   "source": [
    "# Use preprocessing pipeline to transform the data\n",
    "X_train_transformed = preprocessor.fit_transform(X_train)\n",
    "X_test_transformed = preprocessor.transform(X_test)"
   ]
  },
  {
   "cell_type": "markdown",
   "metadata": {},
   "source": [
    "#### First Simple Model"
   ]
  },
  {
   "cell_type": "code",
   "execution_count": 30,
   "metadata": {
    "ExecuteTime": {
     "end_time": "2020-12-02T20:03:53.098229Z",
     "start_time": "2020-12-02T20:03:52.724435Z"
    }
   },
   "outputs": [
    {
     "data": {
      "text/plain": [
       "LogisticRegression()"
      ]
     },
     "execution_count": 30,
     "metadata": {},
     "output_type": "execute_result"
    }
   ],
   "source": [
    "# Logistic Regression Model Fit\n",
    "fsm = LogisticRegression()\n",
    "fsm.fit(X_train_transformed, y_train)"
   ]
  },
  {
   "cell_type": "code",
   "execution_count": 31,
   "metadata": {
    "ExecuteTime": {
     "end_time": "2020-12-02T20:03:53.429252Z",
     "start_time": "2020-12-02T20:03:53.100230Z"
    }
   },
   "outputs": [
    {
     "data": {
      "image/png": "[encoded data removed]",
      "text/plain": [
       "<Figure size 432x288 with 2 Axes>"
      ]
     },
     "metadata": {},
     "output_type": "display_data"
    }
   ],
   "source": [
    "# Confusion matrix PPT\n",
    "sns.set(context = 'notebook', style = 'white')\n",
    "plt.style.use('seaborn-dark')\n",
    "ax = plot_confusion_matrix(fsm, X_test_transformed, y_test, cmap='RdPu', normalize='true')\n",
    "plt.grid(False)\n",
    "plt.title('First Simple Model',fontsize=20, color=\"white\")\n",
    "plt.xlabel(\"Predicted Labels\",fontsize=17, labelpad=10, color=\"white\")\n",
    "plt.ylabel(\"True Labels\",fontsize=17,  labelpad=10, color=\"white\")\n",
    "plt.xticks([0,1], ('Incorrect', \"Correct\"), fontsize=14, color=\"white\")\n",
    "plt.yticks([0,1], ('Incorrect', \"Correct\"), rotation=90, fontsize=14, color=\"white\")\n",
    "plt.savefig('../../reports/figures/fsm_matrix_ppt.png', bbox_inches='tight', transparent=True);"
   ]
  },
  {
   "cell_type": "markdown",
   "metadata": {},
   "source": [
    "We are severely underpredicting incorrectly answered. Our recall is a mere .12. This is due to class imbalance - there are much more correctly answered questions than incorrect. Let's resample the data the adress this issue"
   ]
  },
  {
   "cell_type": "markdown",
   "metadata": {},
   "source": [
    "### Further Data Preprocessing"
   ]
  },
  {
   "cell_type": "markdown",
   "metadata": {},
   "source": [
    "#### Using Smote to Deal with Class Imbalance"
   ]
  },
  {
   "cell_type": "code",
   "execution_count": 32,
   "metadata": {
    "ExecuteTime": {
     "end_time": "2020-12-02T20:03:56.324137Z",
     "start_time": "2020-12-02T20:03:53.796882Z"
    }
   },
   "outputs": [],
   "source": [
    "with joblib.parallel_backend('dask'):\n",
    "    # import SMOTE module from imblearn library \n",
    "    # pip install imblearn (if you don't have imblearn in your system) \n",
    "    sm = SMOTE(random_state = 42) \n",
    "    X_train_res, y_train_res = sm.fit_sample(X_train_transformed, y_train.ravel()) "
   ]
  },
  {
   "cell_type": "markdown",
   "metadata": {},
   "source": [
    "#### Logistic Regression After Smote"
   ]
  },
  {
   "cell_type": "code",
   "execution_count": 33,
   "metadata": {
    "ExecuteTime": {
     "end_time": "2020-12-02T20:04:01.497611Z",
     "start_time": "2020-12-02T20:04:01.352605Z"
    }
   },
   "outputs": [
    {
     "data": {
      "text/plain": [
       "LogisticRegression(C=1, max_iter=1, random_state=42, solver='liblinear', tol=1)"
      ]
     },
     "execution_count": 33,
     "metadata": {},
     "output_type": "execute_result"
    }
   ],
   "source": [
    "# Plug in best params and run model\n",
    "lr_best = LogisticRegression(random_state=42, penalty= 'l2', solver= 'liblinear', C=1, verbose=0, max_iter=1, tol=1)\n",
    "lr_best.fit(X_train_res, y_train_res)"
   ]
  },
  {
   "cell_type": "code",
   "execution_count": 34,
   "metadata": {
    "ExecuteTime": {
     "end_time": "2020-12-02T20:04:01.961615Z",
     "start_time": "2020-12-02T20:04:01.556618Z"
    }
   },
   "outputs": [
    {
     "data": {
      "image/png": "[encoded data removed]",
      "text/plain": [
       "<Figure size 432x288 with 2 Axes>"
      ]
     },
     "metadata": {},
     "output_type": "display_data"
    }
   ],
   "source": [
    "# Confusion matrix PPT\n",
    "sns.set(context = 'notebook', style = 'white')\n",
    "plt.style.use('seaborn-dark')\n",
    "ax = plot_confusion_matrix(lr_best, X_test_transformed, y_test, cmap='RdPu', normalize='true')\n",
    "plt.grid(False)\n",
    "plt.title('Logistic Regression',fontsize=20, color=\"white\")\n",
    "plt.xlabel(\"Predicted Labels\",fontsize=17, labelpad=10, color=\"white\")\n",
    "plt.ylabel(\"True Labels\",fontsize=17,  labelpad=10, color=\"white\")\n",
    "plt.xticks([0,1], ('Incorrect', \"Correct\"), fontsize=14, color=\"white\")\n",
    "plt.yticks([0,1], ('Incorrect', \"Correct\"), rotation=90, fontsize=14, color=\"white\")\n",
    "plt.savefig('../../reports/figures/logistic_regression_matrix_ppt.png', bbox_inches='tight', transparent=True);"
   ]
  },
  {
   "cell_type": "markdown",
   "metadata": {},
   "source": [
    "#### K Nearest Neighbors"
   ]
  },
  {
   "cell_type": "code",
   "execution_count": 35,
   "metadata": {
    "ExecuteTime": {
     "end_time": "2020-12-02T20:04:15.725784Z",
     "start_time": "2020-12-02T20:04:14.836801Z"
    }
   },
   "outputs": [
    {
     "data": {
      "text/plain": [
       "KNeighborsClassifier()"
      ]
     },
     "execution_count": 35,
     "metadata": {},
     "output_type": "execute_result"
    }
   ],
   "source": [
    "# Plug in best params and run model\n",
    "knn_best = KNeighborsClassifier()\n",
    "knn_best.fit(X_train_res, y_train_res)"
   ]
  },
  {
   "cell_type": "code",
   "execution_count": 36,
   "metadata": {
    "ExecuteTime": {
     "end_time": "2020-12-02T20:04:19.091680Z",
     "start_time": "2020-12-02T20:04:15.727776Z"
    }
   },
   "outputs": [
    {
     "data": {
      "image/png": "[encoded data removed]",
      "text/plain": [
       "<Figure size 432x288 with 2 Axes>"
      ]
     },
     "metadata": {},
     "output_type": "display_data"
    }
   ],
   "source": [
    "# Confusion matrix PPT\n",
    "sns.set(context = 'notebook', style = 'white')\n",
    "plt.style.use('seaborn-dark')\n",
    "ax = plot_confusion_matrix(knn_best, X_test_transformed, y_test, cmap='RdPu', normalize='true')\n",
    "plt.grid(False)\n",
    "plt.title('K Nearest Neighbors',fontsize=20, color=\"white\")\n",
    "plt.xlabel(\"Predicted Labels\",fontsize=17, labelpad=10, color=\"white\")\n",
    "plt.ylabel(\"True Labels\",fontsize=17,  labelpad=10, color=\"white\")\n",
    "plt.xticks([0,1], ('Incorrect', \"Correct\"), fontsize=14, color=\"white\")\n",
    "plt.yticks([0,1], ('Incorrect', \"Correct\"), rotation=90, fontsize=14, color=\"white\")\n",
    "plt.savefig('../../reports/figures/knn_matrix_ppt.png', bbox_inches='tight', transparent=True);"
   ]
  },
  {
   "cell_type": "markdown",
   "metadata": {},
   "source": [
    "#### Random Forest"
   ]
  },
  {
   "cell_type": "code",
   "execution_count": 37,
   "metadata": {
    "ExecuteTime": {
     "end_time": "2020-12-02T20:04:53.038656Z",
     "start_time": "2020-12-02T20:04:19.213008Z"
    }
   },
   "outputs": [],
   "source": [
    "# Plug in best params and run model\n",
    "rf_best = RandomForestClassifier(max_depth=16, n_estimators=700, random_state=42)\n",
    "with joblib.parallel_backend('dask'):\n",
    "    rf_best.fit(X_train_res, y_train_res)"
   ]
  },
  {
   "cell_type": "code",
   "execution_count": 38,
   "metadata": {
    "ExecuteTime": {
     "end_time": "2020-12-02T20:04:55.762583Z",
     "start_time": "2020-12-02T20:04:53.041657Z"
    }
   },
   "outputs": [
    {
     "data": {
      "image/png": "[encoded data removed]",
      "text/plain": [
       "<Figure size 432x288 with 2 Axes>"
      ]
     },
     "metadata": {},
     "output_type": "display_data"
    }
   ],
   "source": [
    "# Confusion matrix PPT\n",
    "sns.set(context = 'notebook', style = 'white')\n",
    "plt.style.use('seaborn-dark')\n",
    "ax = plot_confusion_matrix(rf_best, X_test_transformed, y_test, cmap='RdPu', normalize='true')\n",
    "plt.grid(False)\n",
    "plt.title('Random Forest',fontsize=20, color=\"white\")\n",
    "plt.xlabel(\"Predicted Labels\",fontsize=17, labelpad=10, color=\"white\")\n",
    "plt.ylabel(\"True Labels\",fontsize=17,  labelpad=10, color=\"white\")\n",
    "plt.xticks([0,1], ('Incorrect', \"Correct\"), fontsize=14, color=\"white\")\n",
    "plt.yticks([0,1], ('Incorrect', \"Correct\"), rotation=90, fontsize=14, color=\"white\")\n",
    "plt.savefig('../../reports/figures/random_forest_small_matrix_ppt.png', bbox_inches='tight', transparent=True);"
   ]
  },
  {
   "cell_type": "markdown",
   "metadata": {},
   "source": [
    "#### AdaBoost"
   ]
  },
  {
   "cell_type": "code",
   "execution_count": 39,
   "metadata": {
    "ExecuteTime": {
     "end_time": "2020-12-02T20:05:02.735369Z",
     "start_time": "2020-12-02T20:04:55.767583Z"
    }
   },
   "outputs": [
    {
     "data": {
      "text/plain": [
       "AdaBoostClassifier(random_state=42)"
      ]
     },
     "execution_count": 39,
     "metadata": {},
     "output_type": "execute_result"
    }
   ],
   "source": [
    "# Instantiate an AdaBoostClassifier\n",
    "# Defaults are estimator=DecisionTree, n_estimator=100, learning_rate = 1\n",
    "adaboost = AdaBoostClassifier(random_state=42)\n",
    "adaboost.fit(X_train_res, y_train_res)"
   ]
  },
  {
   "cell_type": "code",
   "execution_count": 40,
   "metadata": {
    "ExecuteTime": {
     "end_time": "2020-12-02T20:05:03.193361Z",
     "start_time": "2020-12-02T20:05:02.737359Z"
    }
   },
   "outputs": [
    {
     "data": {
      "image/png": "[encoded data removed]",
      "text/plain": [
       "<Figure size 432x288 with 2 Axes>"
      ]
     },
     "metadata": {},
     "output_type": "display_data"
    }
   ],
   "source": [
    "# Confusion matrix PPT\n",
    "sns.set(context = 'notebook', style = 'white')\n",
    "plt.style.use('seaborn-dark')\n",
    "ax = plot_confusion_matrix(adaboost, X_test_transformed, y_test, cmap='RdPu', normalize='true')\n",
    "plt.grid(False)\n",
    "plt.title('Adaboost',fontsize=20, color=\"white\")\n",
    "plt.xlabel(\"Predicted Labels\",fontsize=17, labelpad=10, color=\"white\")\n",
    "plt.ylabel(\"True Labels\",fontsize=17,  labelpad=10, color=\"white\")\n",
    "plt.xticks([0,1], ('Incorrect', \"Correct\"), fontsize=14, color=\"white\")\n",
    "plt.yticks([0,1], ('Incorrect', \"Correct\"), rotation=90, fontsize=14, color=\"white\")\n",
    "plt.savefig('../../reports/figures/adaboost_matrix_ppt.png', bbox_inches='tight', transparent=True);"
   ]
  },
  {
   "cell_type": "markdown",
   "metadata": {},
   "source": [
    "#### Extreme Gradient Boosting"
   ]
  },
  {
   "cell_type": "code",
   "execution_count": 41,
   "metadata": {
    "ExecuteTime": {
     "end_time": "2020-12-02T20:05:10.066138Z",
     "start_time": "2020-12-02T20:05:03.196345Z"
    }
   },
   "outputs": [
    {
     "data": {
      "text/plain": [
       "XGBClassifier(random_state=42)"
      ]
     },
     "execution_count": 41,
     "metadata": {},
     "output_type": "execute_result"
    }
   ],
   "source": [
    "# Instantiate XGBClassifier\n",
    "# We dont specify an estimator since Gradient Boosting uses regression trees\n",
    "# Default params: n_estimators=100, learning_rate=0.1, mex_depth=3, min_samples_split, min_samples_leaf, max_features\n",
    "# In Gradient Boosting, it is recommended to use all the features\n",
    "# XGB Optomized for distributed computing. Parallel training.\n",
    "xgb = XGBClassifier(random_state=42)\n",
    "xgb.fit(X_train_res, y_train_res)"
   ]
  },
  {
   "cell_type": "code",
   "execution_count": 43,
   "metadata": {
    "ExecuteTime": {
     "end_time": "2020-12-02T20:05:31.713134Z",
     "start_time": "2020-12-02T20:05:31.389146Z"
    }
   },
   "outputs": [
    {
     "data": {
      "image/png": "[encoded data removed]",
      "text/plain": [
       "<Figure size 432x288 with 2 Axes>"
      ]
     },
     "metadata": {},
     "output_type": "display_data"
    }
   ],
   "source": [
    "# Confusion matrix PPT\n",
    "sns.set(context = 'notebook', style = 'white')\n",
    "plt.style.use('seaborn-dark')\n",
    "ax = plot_confusion_matrix(xgb, X_test_transformed, y_test, cmap='RdPu', normalize='true')\n",
    "plt.grid(False)\n",
    "plt.title('Extreme Gradient Boosting',fontsize=20, color=\"white\")\n",
    "plt.xlabel(\"Predicted Labels\",fontsize=17, labelpad=10, color=\"white\")\n",
    "plt.ylabel(\"True Labels\",fontsize=17,  labelpad=10, color=\"white\")\n",
    "plt.xticks([0,1], ('Incorrect', \"Correct\"), fontsize=14, color=\"white\")\n",
    "plt.yticks([0,1], ('Incorrect', \"Correct\"), rotation=90, fontsize=14, color=\"white\")\n",
    "plt.savefig('../../reports/figures/xbg_matrix_ppt.png', bbox_inches='tight', transparent=True);"
   ]
  },
  {
   "cell_type": "markdown",
   "metadata": {},
   "source": [
    "#### Light Gradient Boosting"
   ]
  },
  {
   "cell_type": "code",
   "execution_count": 44,
   "metadata": {
    "ExecuteTime": {
     "end_time": "2020-12-02T20:05:36.857814Z",
     "start_time": "2020-12-02T20:05:36.236720Z"
    }
   },
   "outputs": [
    {
     "data": {
      "text/plain": [
       "LGBMClassifier(seed=42)"
      ]
     },
     "execution_count": 44,
     "metadata": {},
     "output_type": "execute_result"
    }
   ],
   "source": [
    "# Params similar to gradient boosting except default max_depth = -1 (unlimited)\n",
    "lgb = LGBMClassifier(seed=42)\n",
    "lgb.fit(X_train_res, y_train_res)"
   ]
  },
  {
   "cell_type": "code",
   "execution_count": 45,
   "metadata": {
    "ExecuteTime": {
     "end_time": "2020-12-02T20:05:37.238813Z",
     "start_time": "2020-12-02T20:05:36.860814Z"
    }
   },
   "outputs": [
    {
     "data": {
      "image/png": "[encoded data removed]",
      "text/plain": [
       "<Figure size 432x288 with 2 Axes>"
      ]
     },
     "metadata": {},
     "output_type": "display_data"
    }
   ],
   "source": [
    "# Confusion matrix PPT\n",
    "sns.set(context = 'notebook', style = 'white')\n",
    "plt.style.use('seaborn-dark')\n",
    "ax = plot_confusion_matrix(lgb, X_test_transformed, y_test, cmap='RdPu', normalize='true')\n",
    "plt.grid(False)\n",
    "plt.title('Light Gradient Boosting',fontsize=20, color=\"white\")\n",
    "plt.xlabel(\"Predicted Labels\",fontsize=17, labelpad=10, color=\"white\")\n",
    "plt.ylabel(\"True Labels\",fontsize=17,  labelpad=10, color=\"white\")\n",
    "plt.xticks([0,1], ('Incorrect', \"Correct\"), fontsize=14, color=\"white\")\n",
    "plt.yticks([0,1], ('Incorrect', \"Correct\"), rotation=90, fontsize=14, color=\"white\")\n",
    "plt.savefig('../../reports/figures/lgb_matrix_ppt.png', bbox_inches='tight', transparent=True);"
   ]
  },
  {
   "cell_type": "markdown",
   "metadata": {},
   "source": [
    "#### Training our best model(Random Forest) with a bigger subset of the Data"
   ]
  },
  {
   "cell_type": "code",
   "execution_count": 46,
   "metadata": {
    "ExecuteTime": {
     "end_time": "2020-12-02T20:06:10.047782Z",
     "start_time": "2020-12-02T20:05:39.205163Z"
    }
   },
   "outputs": [],
   "source": [
    "# Take a medium-large subset of the data to work with (1,000,000 rows)\n",
    "# Taking the first 1,000,000 rows rather than a random sample because we want sequential data for each user\n",
    "DBNAME = \"riiid_education\"\n",
    "conn = psycopg2.connect(dbname=DBNAME)\n",
    "cursor = conn.cursor()\n",
    "\n",
    "data_largish = pd.read_sql(\"\"\"SELECT * \n",
    "FROM train\n",
    "LIMIT 1000000;\"\"\", conn)\n",
    "\n",
    "conn.close()\n",
    "\n",
    "# Use our function which does our data engineering\n",
    "df = engineer_data(data_largish)\n",
    "\n",
    "# Split data into features and target\n",
    "X = df.drop('answered_correctly', axis=1)\n",
    "y = df['answered_correctly'] \n",
    "\n",
    "# Train Test Split the data\n",
    "X_train, X_test, y_train, y_test = train_test_split(X, y, test_size=.2, random_state=42)\n",
    "\n",
    "# Use preprocessing pipeline to transform the data\n",
    "X_train_transformed = preprocessor.fit_transform(X_train)\n",
    "X_test_transformed = preprocessor.transform(X_test)\n",
    "\n",
    "with joblib.parallel_backend('dask'):\n",
    "    # import SMOTE module from imblearn library \n",
    "    # pip install imblearn (if you don't have imblearn in your system) \n",
    "    sm = SMOTE(random_state = 42) \n",
    "    X_train_res, y_train_res = sm.fit_sample(X_train_transformed, y_train.ravel())"
   ]
  },
  {
   "cell_type": "code",
   "execution_count": 47,
   "metadata": {
    "ExecuteTime": {
     "end_time": "2020-12-02T20:18:00.506127Z",
     "start_time": "2020-12-02T20:06:10.049764Z"
    }
   },
   "outputs": [],
   "source": [
    "# Plug in best params and run model\n",
    "best_model = RandomForestClassifier(max_depth=16, n_estimators=700, random_state=42)\n",
    "with joblib.parallel_backend('dask'):\n",
    "    best_model.fit(X_train_res, y_train_res)"
   ]
  },
  {
   "cell_type": "code",
   "execution_count": 48,
   "metadata": {
    "ExecuteTime": {
     "end_time": "2020-12-02T20:18:24.119848Z",
     "start_time": "2020-12-02T20:18:00.509113Z"
    }
   },
   "outputs": [
    {
     "data": {
      "image/png": "[encoded data removed]",
      "text/plain": [
       "<Figure size 432x288 with 2 Axes>"
      ]
     },
     "metadata": {},
     "output_type": "display_data"
    }
   ],
   "source": [
    "# Confusion matrix PPT\n",
    "sns.set(context = 'notebook', style = 'white')\n",
    "plt.style.use('seaborn-dark')\n",
    "ax = plot_confusion_matrix(best_model, X_test_transformed, y_test, cmap='RdPu', normalize='true')\n",
    "plt.grid(False)\n",
    "plt.title('Random Forest',fontsize=20, color=\"white\")\n",
    "plt.xlabel(\"Predicted Labels\",fontsize=17, labelpad=10, color=\"white\")\n",
    "plt.ylabel(\"True Labels\",fontsize=17,  labelpad=10, color=\"white\")\n",
    "plt.xticks([0,1], ('Incorrect', \"Correct\"), fontsize=14, color=\"white\")\n",
    "plt.yticks([0,1], ('Incorrect', \"Correct\"), rotation=90, fontsize=14, color=\"white\")\n",
    "plt.savefig('../../reports/figures/rf_matrix_ppt.png', bbox_inches='tight', transparent=True);"
   ]
  }
 ],
 "metadata": {
  "kernelspec": {
   "display_name": "learn-env",
   "language": "python",
   "name": "learn-env"
  },
  "language_info": {
   "codemirror_mode": {
    "name": "ipython",
    "version": 3
   },
   "file_extension": ".py",
   "mimetype": "text/x-python",
   "name": "python",
   "nbconvert_exporter": "python",
   "pygments_lexer": "ipython3",
   "version": "3.6.9"
  }
 },
 "nbformat": 4,
 "nbformat_minor": 4
}
