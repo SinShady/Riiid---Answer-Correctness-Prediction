{
 "cells": [
  {
   "cell_type": "markdown",
   "metadata": {},
   "source": [
    "# Data Download and Exploration"
   ]
  },
  {
   "cell_type": "markdown",
   "metadata": {},
   "source": [
    "This code means that the notebook will re-import your source code in `src` when it is edited (the default is not to re-import, because most modules are assumed not to change over time).  It's a good idea to include it in any exploratory notebook that uses `src` code"
   ]
  },
  {
   "cell_type": "code",
   "execution_count": 1,
   "metadata": {
    "ExecuteTime": {
     "end_time": "2020-11-22T09:47:00.679553Z",
     "start_time": "2020-11-22T09:47:00.641554Z"
    }
   },
   "outputs": [],
   "source": [
    "%load_ext autoreload\n",
    "%autoreload 2"
   ]
  },
  {
   "cell_type": "markdown",
   "metadata": {},
   "source": [
    "This snippet allows the notebook to import from the `src` module.  The directory structure looks like:\n",
    "\n",
    "```\n",
    "├── notebooks          <- Jupyter notebooks. Naming convention is a number (for ordering)\n",
    "│   │                     followed by the topic of the notebook, e.g.\n",
    "│   │                     01_data_collection_exploration.ipynb\n",
    "│   └── exploratory    <- Raw, flow-of-consciousness, work-in-progress notebooks\n",
    "│   └── report         <- Final summary notebook(s)\n",
    "│\n",
    "├── src                <- Source code for use in this project\n",
    "│   ├── data           <- Scripts to download and query data\n",
    "│   │   ├── sql        <- SQL scripts. Naming convention is a number (for ordering)\n",
    "│   │   │                 followed by the topic of the script, e.g.\n",
    "│   │   │                 03_create_train_table.sql\n",
    "│   │   ├── data_collection.py\n",
    "│   │   └── sql_utils.py\n",
    "```\n",
    "\n",
    "So we need to go up two \"pardir\"s (parent directories) to import the `src` code from this notebook.  You'll want to include this code at the top of any notebook that uses the `src` code."
   ]
  },
  {
   "cell_type": "code",
   "execution_count": 2,
   "metadata": {
    "ExecuteTime": {
     "end_time": "2020-11-22T09:47:01.966732Z",
     "start_time": "2020-11-22T09:47:01.911732Z"
    }
   },
   "outputs": [],
   "source": [
    "import os\n",
    "import sys\n",
    "module_path = os.path.abspath(os.path.join(os.pardir, os.pardir))\n",
    "if module_path not in sys.path:\n",
    "    sys.path.append(module_path)\n",
    "    "
   ]
  },
  {
   "cell_type": "markdown",
   "metadata": {},
   "source": [
    "The code to download all of the data and load it into a SQL database is in the `data` module within the `src` module.  You'll only need to run `download_data_and_load_into_sql` one time for the duration of the project."
   ]
  },
  {
   "cell_type": "code",
   "execution_count": 3,
   "metadata": {
    "ExecuteTime": {
     "end_time": "2020-11-22T09:47:06.069078Z",
     "start_time": "2020-11-22T09:47:04.440128Z"
    }
   },
   "outputs": [],
   "source": [
    "from src.data import data_collection"
   ]
  },
  {
   "cell_type": "code",
   "execution_count": 4,
   "metadata": {
    "ExecuteTime": {
     "end_time": "2020-11-22T09:47:06.971050Z",
     "start_time": "2020-11-22T09:47:06.896052Z"
    }
   },
   "outputs": [],
   "source": [
    "# Download the competition zip data from kaggle\n",
    "# Note: You will need a kaggle API key in order to do this\n",
    "! kaggle competitions download -c riiid-test-answer-prediction -p ../../data"
   ]
  },
  {
   "cell_type": "markdown",
   "metadata": {},
   "source": [
    "This line may take as long as 10-20 minutes depending on your network connection and computer specs"
   ]
  },
  {
   "cell_type": "code",
   "execution_count": 7,
   "metadata": {
    "ExecuteTime": {
     "end_time": "2020-11-22T11:04:30.832283Z",
     "start_time": "2020-11-22T10:59:04.818818Z"
    }
   },
   "outputs": [
    {
     "name": "stdout",
     "output_type": "stream",
     "text": [
      "Successfully created database and all tables\n",
      "\n",
      "Successfully loaded CSV file into `train` table\n",
      "        \n",
      "Successfully loaded CSV file into `questions` table\n",
      "        \n",
      "Successfully loaded CSV file into `lectures` table\n",
      "        \n",
      "Successfully loaded CSV file into `example_test` table\n",
      "        \n"
     ]
    }
   ],
   "source": [
    "data_collection.download_data_and_load_into_sql()"
   ]
  },
  {
   "cell_type": "markdown",
   "metadata": {},
   "source": [
    "Now we can access our data from our SQL database"
   ]
  },
  {
   "cell_type": "code",
   "execution_count": 13,
   "metadata": {
    "ExecuteTime": {
     "end_time": "2020-11-22T18:38:30.332782Z",
     "start_time": "2020-11-22T18:38:29.423067Z"
    }
   },
   "outputs": [],
   "source": [
    "import psycopg2\n",
    "import pandas as pd"
   ]
  },
  {
   "cell_type": "code",
   "execution_count": 14,
   "metadata": {
    "ExecuteTime": {
     "end_time": "2020-11-22T18:38:30.422848Z",
     "start_time": "2020-11-22T18:38:30.341783Z"
    }
   },
   "outputs": [],
   "source": [
    "DBNAME = \"riiid_education\""
   ]
  },
  {
   "cell_type": "code",
   "execution_count": 15,
   "metadata": {
    "ExecuteTime": {
     "end_time": "2020-11-22T18:38:30.581269Z",
     "start_time": "2020-11-22T18:38:30.424838Z"
    }
   },
   "outputs": [],
   "source": [
    "conn = psycopg2.connect(dbname=DBNAME)"
   ]
  },
  {
   "cell_type": "code",
   "execution_count": 18,
   "metadata": {
    "ExecuteTime": {
     "end_time": "2020-11-22T18:38:52.484914Z",
     "start_time": "2020-11-22T18:38:52.311350Z"
    }
   },
   "outputs": [
    {
     "data": {
      "text/html": [
       "<div>\n",
       "<style scoped>\n",
       "    .dataframe tbody tr th:only-of-type {\n",
       "        vertical-align: middle;\n",
       "    }\n",
       "\n",
       "    .dataframe tbody tr th {\n",
       "        vertical-align: top;\n",
       "    }\n",
       "\n",
       "    .dataframe thead th {\n",
       "        text-align: right;\n",
       "    }\n",
       "</style>\n",
       "<table border=\"1\" class=\"dataframe\">\n",
       "  <thead>\n",
       "    <tr style=\"text-align: right;\">\n",
       "      <th></th>\n",
       "      <th>row_id</th>\n",
       "      <th>timestamp</th>\n",
       "      <th>user_id</th>\n",
       "      <th>content_id</th>\n",
       "      <th>content_type_id</th>\n",
       "      <th>task_container_id</th>\n",
       "      <th>user_answer</th>\n",
       "      <th>answered_correctly</th>\n",
       "      <th>prior_question_elapsed_time</th>\n",
       "      <th>prior_question_had_explanation</th>\n",
       "    </tr>\n",
       "  </thead>\n",
       "  <tbody>\n",
       "    <tr>\n",
       "      <th>0</th>\n",
       "      <td>79079671</td>\n",
       "      <td>9.165859e+09</td>\n",
       "      <td>1683350506</td>\n",
       "      <td>5769</td>\n",
       "      <td>0</td>\n",
       "      <td>1296</td>\n",
       "      <td>0</td>\n",
       "      <td>1</td>\n",
       "      <td>35000.0</td>\n",
       "      <td>True</td>\n",
       "    </tr>\n",
       "    <tr>\n",
       "      <th>1</th>\n",
       "      <td>79079672</td>\n",
       "      <td>9.165927e+09</td>\n",
       "      <td>1683350506</td>\n",
       "      <td>5038</td>\n",
       "      <td>0</td>\n",
       "      <td>1297</td>\n",
       "      <td>0</td>\n",
       "      <td>1</td>\n",
       "      <td>24000.0</td>\n",
       "      <td>True</td>\n",
       "    </tr>\n",
       "    <tr>\n",
       "      <th>2</th>\n",
       "      <td>79079673</td>\n",
       "      <td>9.165980e+09</td>\n",
       "      <td>1683350506</td>\n",
       "      <td>9109</td>\n",
       "      <td>0</td>\n",
       "      <td>1298</td>\n",
       "      <td>3</td>\n",
       "      <td>1</td>\n",
       "      <td>37000.0</td>\n",
       "      <td>True</td>\n",
       "    </tr>\n",
       "    <tr>\n",
       "      <th>3</th>\n",
       "      <td>79079674</td>\n",
       "      <td>9.251019e+09</td>\n",
       "      <td>1683350506</td>\n",
       "      <td>589</td>\n",
       "      <td>0</td>\n",
       "      <td>1299</td>\n",
       "      <td>3</td>\n",
       "      <td>1</td>\n",
       "      <td>23000.0</td>\n",
       "      <td>True</td>\n",
       "    </tr>\n",
       "    <tr>\n",
       "      <th>4</th>\n",
       "      <td>79079675</td>\n",
       "      <td>9.251452e+09</td>\n",
       "      <td>1683350506</td>\n",
       "      <td>1161</td>\n",
       "      <td>0</td>\n",
       "      <td>1300</td>\n",
       "      <td>1</td>\n",
       "      <td>1</td>\n",
       "      <td>19000.0</td>\n",
       "      <td>True</td>\n",
       "    </tr>\n",
       "    <tr>\n",
       "      <th>5</th>\n",
       "      <td>79079676</td>\n",
       "      <td>9.251877e+09</td>\n",
       "      <td>1683350506</td>\n",
       "      <td>787</td>\n",
       "      <td>0</td>\n",
       "      <td>1301</td>\n",
       "      <td>0</td>\n",
       "      <td>0</td>\n",
       "      <td>20000.0</td>\n",
       "      <td>True</td>\n",
       "    </tr>\n",
       "    <tr>\n",
       "      <th>6</th>\n",
       "      <td>79079677</td>\n",
       "      <td>9.251916e+09</td>\n",
       "      <td>1683350506</td>\n",
       "      <td>837</td>\n",
       "      <td>0</td>\n",
       "      <td>1302</td>\n",
       "      <td>3</td>\n",
       "      <td>1</td>\n",
       "      <td>19000.0</td>\n",
       "      <td>True</td>\n",
       "    </tr>\n",
       "    <tr>\n",
       "      <th>7</th>\n",
       "      <td>79079678</td>\n",
       "      <td>9.251995e+09</td>\n",
       "      <td>1683350506</td>\n",
       "      <td>501</td>\n",
       "      <td>0</td>\n",
       "      <td>1303</td>\n",
       "      <td>3</td>\n",
       "      <td>1</td>\n",
       "      <td>18000.0</td>\n",
       "      <td>True</td>\n",
       "    </tr>\n",
       "    <tr>\n",
       "      <th>8</th>\n",
       "      <td>79079679</td>\n",
       "      <td>9.252088e+09</td>\n",
       "      <td>1683350506</td>\n",
       "      <td>731</td>\n",
       "      <td>0</td>\n",
       "      <td>1304</td>\n",
       "      <td>0</td>\n",
       "      <td>0</td>\n",
       "      <td>22000.0</td>\n",
       "      <td>True</td>\n",
       "    </tr>\n",
       "    <tr>\n",
       "      <th>9</th>\n",
       "      <td>79079680</td>\n",
       "      <td>9.252144e+09</td>\n",
       "      <td>1683350506</td>\n",
       "      <td>1369</td>\n",
       "      <td>0</td>\n",
       "      <td>1305</td>\n",
       "      <td>1</td>\n",
       "      <td>1</td>\n",
       "      <td>21000.0</td>\n",
       "      <td>True</td>\n",
       "    </tr>\n",
       "  </tbody>\n",
       "</table>\n",
       "</div>"
      ],
      "text/plain": [
       "     row_id     timestamp     user_id  content_id  content_type_id  \\\n",
       "0  79079671  9.165859e+09  1683350506        5769                0   \n",
       "1  79079672  9.165927e+09  1683350506        5038                0   \n",
       "2  79079673  9.165980e+09  1683350506        9109                0   \n",
       "3  79079674  9.251019e+09  1683350506         589                0   \n",
       "4  79079675  9.251452e+09  1683350506        1161                0   \n",
       "5  79079676  9.251877e+09  1683350506         787                0   \n",
       "6  79079677  9.251916e+09  1683350506         837                0   \n",
       "7  79079678  9.251995e+09  1683350506         501                0   \n",
       "8  79079679  9.252088e+09  1683350506         731                0   \n",
       "9  79079680  9.252144e+09  1683350506        1369                0   \n",
       "\n",
       "   task_container_id  user_answer  answered_correctly  \\\n",
       "0               1296            0                   1   \n",
       "1               1297            0                   1   \n",
       "2               1298            3                   1   \n",
       "3               1299            3                   1   \n",
       "4               1300            1                   1   \n",
       "5               1301            0                   0   \n",
       "6               1302            3                   1   \n",
       "7               1303            3                   1   \n",
       "8               1304            0                   0   \n",
       "9               1305            1                   1   \n",
       "\n",
       "   prior_question_elapsed_time prior_question_had_explanation  \n",
       "0                      35000.0                          True   \n",
       "1                      24000.0                          True   \n",
       "2                      37000.0                          True   \n",
       "3                      23000.0                          True   \n",
       "4                      19000.0                          True   \n",
       "5                      20000.0                          True   \n",
       "6                      19000.0                          True   \n",
       "7                      18000.0                          True   \n",
       "8                      22000.0                          True   \n",
       "9                      21000.0                          True   "
      ]
     },
     "execution_count": 18,
     "metadata": {},
     "output_type": "execute_result"
    }
   ],
   "source": [
    "pd.read_sql(\"SELECT * FROM train LIMIT 10;\", conn)"
   ]
  },
  {
   "cell_type": "markdown",
   "metadata": {},
   "source": [
    "Notice the `LIMIT 10` above.  These tables have a large amount of data in them and **your goal is to use SQL to create your main query, not Pandas**.  Pandas can technically do everything that you need to do, but it will be much slower and more inefficient.  Nevertheless, Pandas is still a useful tool for exploring the data and getting a basic sense of what you're looking at."
   ]
  },
  {
   "cell_type": "markdown",
   "metadata": {},
   "source": [
    "Make sure you close the DB connection when you are done using it"
   ]
  },
  {
   "cell_type": "code",
   "execution_count": 12,
   "metadata": {
    "ExecuteTime": {
     "end_time": "2020-11-22T11:04:45.795789Z",
     "start_time": "2020-11-22T11:04:45.738616Z"
    }
   },
   "outputs": [],
   "source": [
    "conn.close()"
   ]
  }
 ],
 "metadata": {
  "kernelspec": {
   "display_name": "Python 3",
   "language": "python",
   "name": "python3"
  },
  "language_info": {
   "codemirror_mode": {
    "name": "ipython",
    "version": 3
   },
   "file_extension": ".py",
   "mimetype": "text/x-python",
   "name": "python",
   "nbconvert_exporter": "python",
   "pygments_lexer": "ipython3",
   "version": "3.6.9"
  }
 },
 "nbformat": 4,
 "nbformat_minor": 4
}
